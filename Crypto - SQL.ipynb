{
 "cells": [
  {
   "cell_type": "code",
   "execution_count": 1,
   "metadata": {},
   "outputs": [],
   "source": [
    "import pandas as pd\n",
    "import yfinance as yf\n",
    "from yahoofinancials import YahooFinancials\n",
    "import matplotlib as mpl\n",
    "import matplotlib.pyplot as plt\n",
    "from datetime import date, timedelta, datetime\n",
    "import sqlite3    \n",
    "import re   \n",
    "import requests   \n",
    "from bs4 import BeautifulSoup   \n",
    "import plotly.graph_objects as go\n",
    "#import win32com.client as win32\n",
    "import plotly.io as pio\n",
    "from plotly.subplots import make_subplots"
   ]
  },
  {
   "cell_type": "code",
   "execution_count": 2,
   "metadata": {},
   "outputs": [],
   "source": [
    "pd.set_option('display.max_rows', None)"
   ]
  },
  {
   "cell_type": "markdown",
   "metadata": {},
   "source": [
    "#### Funções Data ( não são usadas para as funções SQL)"
   ]
  },
  {
   "cell_type": "code",
   "execution_count": 3,
   "metadata": {},
   "outputs": [],
   "source": [
    "# Dado o offset um número inteiro, retorna a data de agora menos o offset.\n",
    "\n",
    "def day_n (offset):         \n",
    "    \n",
    "    return datetime.today()-timedelta(days = offset)         "
   ]
  },
  {
   "cell_type": "code",
   "execution_count": 4,
   "metadata": {},
   "outputs": [],
   "source": [
    "def sunday(offset, day):    \n",
    "    \n",
    "    if day.weekday()==6:     \n",
    "        day = day_n(offset+2)         \n",
    "        if day.strftime(\"%d-%m-%Y\") == holiday(offset, day, dataf).strftime(\"%d-%m-%Y\"):         \n",
    "            return day         \n",
    "        else:              return holiday(offset, day, dataf)         \n",
    "    \n",
    "    return day   \n",
    "\n",
    "####  Caso seja domingo essa função retorna o última dia antes de começar o final de semana\n",
    "####  seja ele feriado ou não.  \n",
    "####  Caso não seja domingo ele retorna o mesmo dia que foi passado como argumento pela função, sem alterá-lo.   "
   ]
  },
  {
   "cell_type": "code",
   "execution_count": 5,
   "metadata": {},
   "outputs": [],
   "source": [
    "def saturday(offset, day):\n",
    "    \n",
    "    if day.weekday()==5:     \n",
    "        day = day_n(offset+1)         \n",
    "        if day.strftime(\"%d-%m-%Y\") == holiday(offset, day, dataf).strftime(\"%d-%m-%Y\"):         \n",
    "            return day         \n",
    "        else:              return holiday(offset, day, dataf)     \n",
    "    return day   \n",
    "\n",
    "####  Caso seja sabado essa função retorna o última dia antes de começar o final de semana, \n",
    "####  seja ele feriado ou não.  \n",
    "####  Caso não seja sábado ele retorna o mesmo dia que foi passado como argumento pela função, sem alterá-lo.   "
   ]
  },
  {
   "cell_type": "code",
   "execution_count": 6,
   "metadata": {},
   "outputs": [],
   "source": [
    "def holiday(offset, day, dataf):     \n",
    "    \n",
    "    for i in dataf:     \n",
    "        if (i[8:]+\"-\"+i[5:7]+\"-\"+i[0:4])==day.strftime(\"%d-%m-%Y\"):             \n",
    "            return holiday(offset+1, day_n(offset+1), dataf)         \n",
    "    \n",
    "            \n",
    "    if day.strftime(\"%d-%m-%Y\") == sunday(offset, day).strftime(\"%d-%m-%Y\"):         \n",
    "    \n",
    "        \n",
    "        if day.strftime(\"%d-%m-%Y\") == saturday(offset, day).strftime(\"%d-%m-%Y\"):             \n",
    "            \n",
    "            return day         \n",
    "        else:             \n",
    "            return saturday(offset, day)         \n",
    "    else:         \n",
    "        return sunday(offset, day)         "
   ]
  },
  {
   "cell_type": "code",
   "execution_count": 7,
   "metadata": {},
   "outputs": [],
   "source": [
    "##### Descobrindo o D-1 #####\n",
    "\n",
    "def find_last_workday( offset, day, dataf): \n",
    "    \n",
    "    if day.strftime(\"%d-%m-%Y\") == holiday(offset, day, dataf).strftime(\"%d-%m-%Y\"):         \n",
    "        \n",
    "        if day.strftime(\"%d-%m-%Y\") == sunday(offset, day).strftime(\"%d-%m-%Y\"):             \n",
    "            \n",
    "            if day.strftime(\"%d-%m-%Y\") == saturday(offset, day).strftime(\"%d-%m-%Y\"):                 \n",
    "                return day                 \n",
    "                \n",
    "            else:                     \n",
    "                return saturday(offset, day)         \n",
    "        else:                 \n",
    "            return sunday(offset, day)         \n",
    "    else:         \n",
    "        return holiday(offset, day, dataf)          "
   ]
  },
  {
   "cell_type": "markdown",
   "metadata": {},
   "source": [
    "#### Vetor de feriados ( não são usadas para as funções SQL)"
   ]
  },
  {
   "cell_type": "code",
   "execution_count": 8,
   "metadata": {},
   "outputs": [],
   "source": [
    "def holidays():\n",
    "    \n",
    "    feriados = pd.read_csv(r\"C:\\Users\\psilv\\Python\\feriados.csv\")   \n",
    " \n",
    " \n",
    "    data = feriados['data'].tolist()   \n",
    " \n",
    "    ########### Cria vetor de feriados \n",
    "    \n",
    "    dataf=[] \n",
    "    \n",
    "    for i in data:   \n",
    "        \n",
    "        dataf.append(i.strip()[-4:] + \"-\" + (\"0\"+ i.strip()[0] if i.find(\"/\")==1 else i.strip()[0:i.find(\"/\")]) + \"-\" + (\"0\" + re.search(\"/(.*?)/\", i.strip()).group(1) if len(re.search(\"/(.*?)/\", i.strip()).group(1))==1 else re.search(\"/(.*?)/\", i.strip()).group(1)))\n",
    "        \n",
    "    return dataf     "
   ]
  },
  {
   "cell_type": "markdown",
   "metadata": {},
   "source": [
    "#### Vetor de feriados ( é usada para as funções SQL)"
   ]
  },
  {
   "cell_type": "code",
   "execution_count": 9,
   "metadata": {},
   "outputs": [],
   "source": [
    "def past_n_days(n):     \n",
    "    day = datetime.today()-timedelta(days = n)     \n",
    "    print(\"O último dia corrido é: \" +  day.strftime(\"%d-%m-%Y\"))     \n",
    "    return day   "
   ]
  },
  {
   "cell_type": "markdown",
   "metadata": {},
   "source": [
    "####  Função auxiliar para criar Vetor de dias úteis ( é usada para as funções SQL)"
   ]
  },
  {
   "cell_type": "code",
   "execution_count": 10,
   "metadata": {},
   "outputs": [],
   "source": [
    "##### Date Format input  YY-MM-dd,  run_days são números inteiros\n",
    "\n",
    "##### O input de data dentro da função pandas.date_range deve ser no formato YY-MM-dd\n",
    "\n",
    "def date_array (last_day, run_days):\n",
    "\n",
    "   \n",
    "    Datas = pd.date_range(end = last_day.strftime(\"%Y-%m-%d\"), periods = run_days).to_pydatetime().tolist()\n",
    "\n",
    "    \n",
    "    datas=[] \n",
    "\n",
    "    \n",
    "    for k in range(len(Datas)):\n",
    "\n",
    "        datas.append(Datas[len(Datas) - k -1])\n",
    " \n",
    "    return datas"
   ]
  },
  {
   "cell_type": "markdown",
   "metadata": {},
   "source": [
    "#### Função iterativa para criar Vetor de dias úteis. ( não são usadas para as funções SQL)"
   ]
  },
  {
   "cell_type": "code",
   "execution_count": 12,
   "metadata": {},
   "outputs": [],
   "source": [
    "#### Função para obter um vetor de dias úteis de um tamanho específico, por ser iterativa é custosa computacionalmente\n",
    "\n",
    "#### Date format input dd-MM-YY, length é número inteiro\n",
    "\n",
    "\n",
    "def work_days_array_length(last_day, length):\n",
    "\n",
    "\n",
    "    i=length\n",
    "\n",
    "    while len(date_array(last_day, i))!= length:\n",
    "\n",
    "        if len(date_array(last_day, i))==length:\n",
    "\n",
    "            break\n",
    "\n",
    "        i+=1\n",
    "\n",
    "    return date_array(last_day, i)"
   ]
  },
  {
   "cell_type": "markdown",
   "metadata": {},
   "source": [
    "#### Função  Vetor de dias úteis. ( é usada para as funções SQL)"
   ]
  },
  {
   "cell_type": "code",
   "execution_count": 13,
   "metadata": {},
   "outputs": [],
   "source": [
    "####### Criando vetor desde o ultimo dia do banco até o D-1\n",
    "\n",
    "####### Start é a mais antiga, e End a mais recente\n",
    "\n",
    "####### Date Format input  YY-MM-dd (SQL)\n",
    "\n",
    "\n",
    "def  work_days_array_btw_dates(start_date, end_date):\n",
    "    \n",
    "\n",
    "    end = end_date\n",
    "    #print(end)\n",
    "\n",
    "    start = start_date\n",
    "    print(start)\n",
    "\n",
    "    \n",
    "    dif = end-start\n",
    "    \n",
    "    #print(dif)\n",
    "    \n",
    "\n",
    "    dif = int(abs(dif.days))\n",
    "    \n",
    "    #print(dif)\n",
    "    \n",
    "    \n",
    "    print(\"Números de dias a serem atualizados:  \" + str(dif))\n",
    "    print(\"\\n\")\n",
    "    \n",
    "    #### No caso start_date=end_date é preciso desse if \n",
    "    \n",
    "    if dif == 0:\n",
    "        dif=2\n",
    "            \n",
    "\n",
    "\n",
    "    dates = date_array(end_date, 2*dif)\n",
    "    \n",
    "    print(dates)\n",
    "    print(start_date)\n",
    "\n",
    "    aux=0\n",
    "    \n",
    "\n",
    "    for i in dates:\n",
    "\n",
    "        if i==start_date:\n",
    "\n",
    "            aux = dates.index(i)\n",
    "                 \n",
    "    \n",
    "    return dates[:aux+1]"
   ]
  },
  {
   "cell_type": "markdown",
   "metadata": {},
   "source": [
    "#### Função para deletar linha específica"
   ]
  },
  {
   "cell_type": "code",
   "execution_count": 16,
   "metadata": {},
   "outputs": [],
   "source": [
    "def delete_row_sql(table_name, column_name, conn, desired_info):\n",
    "    \n",
    "    \n",
    "    query = (\"\"\"DELETE\"\"\" + \n",
    "             \"\"\" FROM \"\"\" + table_name +\n",
    "             \"\"\" WHERE \"\"\" + column_name +\n",
    "             \"\"\" = '\"\"\" + desired_info +\n",
    "             \"\"\"'; \"\"\")\n",
    "    \n",
    "    conn.execute(query)\n",
    "    \n",
    "    print(\"Deleted as Follows:\")\n",
    "    print(\"\\n\")\n",
    "    print(query)"
   ]
  },
  {
   "cell_type": "markdown",
   "metadata": {},
   "source": [
    "#### Função para obter um dataframe a partir de uma query do banco de dados"
   ]
  },
  {
   "cell_type": "code",
   "execution_count": 17,
   "metadata": {},
   "outputs": [],
   "source": [
    "### Criar função para obter um dataframe entre datas específicas a partir de uma query em SQL\n",
    "\n",
    "def df_from_sql_query(table_name, date_column_name, conn, start_date, end_date):\n",
    "    \n",
    "    \n",
    "    query = (\"\"\"SELECT * \"\"\" + \n",
    "             \"\"\" FROM \"\"\" + table_name +\n",
    "             \"\"\" WHERE \"\"\" + date_column_name +\n",
    "             \"\"\" BETWEEN strftime('%Y-%m-%d %H:%M:%S', '\"\"\" + start_date +\n",
    "             \"\"\"') AND strftime('%Y-%m-%d %H:%M:%S', '\"\"\" + end_date +\n",
    "             \"\"\"') ORDER BY \"\"\" + date_column_name + \"\"\"; \"\"\")\n",
    "    \n",
    "    #print(query)\n",
    "\n",
    "    df = pd.read_sql_query(query, conn)\n",
    "    \n",
    "    print(df.dtypes)\n",
    "    \n",
    "    \n",
    "    return df   "
   ]
  },
  {
   "cell_type": "markdown",
   "metadata": {},
   "source": [
    "#### Inserindo novas linhas no banco de dados"
   ]
  },
  {
   "cell_type": "code",
   "execution_count": 19,
   "metadata": {},
   "outputs": [],
   "source": [
    "##### Tornar essa função genérica para qualquer dataframe\n",
    "\n",
    "def insert_n_lines_database(cursor, df, table_name, date_column_name):\n",
    "    \n",
    "           \n",
    "    print(\"\\n\")     \n",
    "    print(\"Os dados antes da atualização eram:\")   \n",
    "    print(\"\\n\")  \n",
    "    \n",
    "    for i in get_last_n_rows(cursor, table_name, 5, date_column_name):   \n",
    "        print(i)             \n",
    " \n",
    "    print(\"\\n\")     \n",
    "   \n",
    "    insert_n_rows(cursor, df, table_name)             \n",
    "       \n",
    "    print(\"\\n\")   \n",
    "    print(\"Os novos dados são:\")   \n",
    "    print(\"\\n\")     \n",
    "                   \n",
    "    for i in get_last_n_rows(cursor, table_name, 5, date_column_name):   \n",
    "        print(i)         \n",
    "    print(\"\\n\")             \n",
    "            "
   ]
  },
  {
   "cell_type": "markdown",
   "metadata": {},
   "source": [
    "#### Atualizando as bases de dados"
   ]
  },
  {
   "cell_type": "code",
   "execution_count": 20,
   "metadata": {},
   "outputs": [],
   "source": [
    "def updating_database(cursor, date_column_name):      \n",
    "    \n",
    "    for i in assets:\n",
    "        \n",
    "        print('\\n')\n",
    "        \n",
    "        day = past_n_days(1)\n",
    "    \n",
    "        #day = day.strftime(\"%Y-%m-%d\")\n",
    "        \n",
    "        ###### Verificando a última data atualizada no banco de dados   \n",
    "        last_date_db = get_last_db_date(cursor, date_column_name, i)\n",
    "        \n",
    "        \n",
    "\n",
    "        if last_date_db.strftime(\"%Y-%m-%d\") == day.strftime(\"%Y-%m-%d\"):         \n",
    "            print(\"Os dados da cripto \" + str(i) + \" estão Atualizados!!\")         \n",
    "        else:         \n",
    "            print(\"\\n\")     \n",
    "            print(\"O último dia atualizado no banco de dados é: \" + last_date_db.strftime(\"%Y-%m-%d\"))   \n",
    "            print(\"\\n\")         \n",
    "\n",
    "            #### Vetor de datas   \n",
    "            dates = work_days_array_btw_dates(last_date_db, day)[:-1]   \n",
    "            print(\"Datas a serem atualizadas no banco de dados:\")         \n",
    "            print(\"\\n\")         \n",
    "\n",
    "            for j in range(len(dates)):             \n",
    "                print(dates[j])             \n",
    "\n",
    "\n",
    "            print(\"\\n\")\n",
    "            print(\"Downloading from Yahoo Finance API ....\")         \n",
    "            print(\"\\n\")         \n",
    "\n",
    "            #### Dataframe com os resultados\n",
    "            \n",
    "            print(\"Moeda Atualizada: \" + assets[i])\n",
    "            \n",
    "            print(last_date_db.date())\n",
    "            print(day.date())\n",
    "            print((day-last_date_db).days)\n",
    "            \n",
    "            print(dates)\n",
    "            print(dates[0])\n",
    "            print(dates[0].strftime(\"%Y-%m-%d\"))\n",
    "            print(dates[-1:][0].strftime(\"%Y-%m-%d\"))\n",
    "            \n",
    "    \n",
    "\n",
    "            df = get_data_btw_date(assets[i],dates[-1:][0].strftime(\"%Y-%m-%d\"), dates[0].strftime(\"%Y-%m-%d\"))     \n",
    "\n",
    "\n",
    "            #### Inserindo novos dados           \n",
    "            insert_n_lines_database(cursor, df, i, date_column_name)  \n",
    "\n",
    "            ##### Adicionar o insert lines dentro da função Web Scrap para atualizar o banco de dados em cada iteração e não\n",
    "            ##### correr o risco de falhar o web scraping e perder os dados\n",
    "    \n",
    "    "
   ]
  },
  {
   "cell_type": "markdown",
   "metadata": {},
   "source": [
    "#### Função para captar os dados da API do Yahoo Finance"
   ]
  },
  {
   "cell_type": "code",
   "execution_count": 21,
   "metadata": {},
   "outputs": [],
   "source": [
    "#### Nome da moeda, exemplo: Ethereum é ETH-USD\n",
    "#### Data format YY-MM-DD\n",
    "\n",
    "def get_data_btw_date(crypto_name, start_date, end_date):\n",
    "    \n",
    "    crypto_df = yf.download(crypto_name, start= start_date, end= end_date)\n",
    "    \n",
    "    crypto_df = crypto_df.reset_index(level=0)\n",
    "    \n",
    "    #print(crypto_df.dtypes)\n",
    "    #print(crypto_df)\n",
    "    \n",
    "    ## Agora o banco de dados recebe a coluna de data como tipo data, ateriormente era texto. \n",
    "    ##As operações abaixo transformavam para texto.\n",
    "    \n",
    "    #crypto_df['Date'] = pd.to_datetime(crypto_df['Date'], format='%Y-%m-%d %H:%M:%S')\n",
    "    \n",
    "    #crypto_df['Date'] = crypto_df['Date'].dt.strftime('%Y-%m-%d %H:%M:%S')\n",
    "\n",
    "    #print(crypto_df.dtypes)\n",
    "    #print(crypto_df)\n",
    "\n",
    "    return crypto_df"
   ]
  },
  {
   "cell_type": "markdown",
   "metadata": {},
   "source": [
    "#### Funções SQL"
   ]
  },
  {
   "cell_type": "code",
   "execution_count": 22,
   "metadata": {},
   "outputs": [],
   "source": [
    "#### index can be False or True, to me worked as False\n",
    "\n",
    "def create_table(df, name_desired, conn, index):\n",
    "    \n",
    "        df.to_sql(name_desired, conn, if_exists='fail', index=index)   \n",
    "    \n"
   ]
  },
  {
   "cell_type": "code",
   "execution_count": 24,
   "metadata": {},
   "outputs": [],
   "source": [
    "def rename_table(table_name, new_table_name, cursor):\n",
    "    \n",
    "    try:\n",
    "        \n",
    "        for i in get_names_tables(cursor):\n",
    "        \n",
    "            if new_table_name == i[0]:\n",
    "                \n",
    "                print(\"O Nome já está em uso!\")\n",
    "            \n",
    "                raise Exception\n",
    "\n",
    "        cursor.execute(\"\"\"ALTER TABLE \"\"\" +  table_name + \"\"\" RENAME TO \"\"\" + new_table_name + \"\"\" ;\"\"\")\n",
    "\n",
    "    except Exception:\n",
    "\n",
    "        print(\"Não foi possível alterar o nome da tabela!\")\n",
    "        "
   ]
  },
  {
   "cell_type": "code",
   "execution_count": 25,
   "metadata": {},
   "outputs": [],
   "source": [
    "def show_table(table_name, cursor):     \n",
    "    \n",
    "    c=cursor.execute(\"\"\"SELECT * FROM \"\"\" + table_name ).fetchall()     \n",
    "    for i in c:      \n",
    "        print(i)     \n",
    "    return c     "
   ]
  },
  {
   "cell_type": "code",
   "execution_count": 26,
   "metadata": {},
   "outputs": [],
   "source": [
    "def delete_table(name, cursor):   \n",
    "    \n",
    "    cursor.execute(\"\"\"DROP TABLE \"\"\" +  name ).fetchall()   "
   ]
  },
  {
   "cell_type": "code",
   "execution_count": 27,
   "metadata": {},
   "outputs": [],
   "source": [
    "def last_database_day(crypto_name):\n",
    "\n",
    "    sql_str = '''SELECT Date FROM ''' + crypto_name + ''' ORDER BY Date DESC LIMIT 1;'''\n",
    "\n",
    "    c.execute(sql_str)\n",
    "\n",
    "    date = c.fetchone()\n",
    "\n",
    "    return date[0][:10]\n",
    "    "
   ]
  },
  {
   "cell_type": "code",
   "execution_count": 28,
   "metadata": {},
   "outputs": [],
   "source": [
    "def get_names_tables(cursor):     \n",
    "    \n",
    "    cursor.execute('''SELECT name FROM sqlite_master WHERE type='table';''')   \n",
    "    \n",
    "    return(cursor.fetchall())"
   ]
  },
  {
   "cell_type": "code",
   "execution_count": 29,
   "metadata": {},
   "outputs": [],
   "source": [
    "def count_rows_table(cursor, table_name): \n",
    "    \n",
    "    c = cursor.execute(\"\"\"SELECT COUNT(*) FROM \"\"\" + table_name).fetchall()     \n",
    "    return c[0][0]   "
   ]
  },
  {
   "cell_type": "code",
   "execution_count": 30,
   "metadata": {},
   "outputs": [],
   "source": [
    "def get_columns_names(cursor, table_name): \n",
    "    \n",
    "    c = cursor.execute(\"\"\"PRAGMA table_info(\"\"\" + table_name + \"\"\");  \"\"\" ).fetchall()     \n",
    "    col_names = []     \n",
    "    for i in c:         \n",
    "            col_names.append(i[1])\n",
    "            \n",
    "    return col_names   "
   ]
  },
  {
   "cell_type": "code",
   "execution_count": 31,
   "metadata": {},
   "outputs": [],
   "source": [
    "def get_last_n_rows(cursor, table_name, n_rows, column_name):\n",
    "    \n",
    "    c = cursor.execute(\"\"\"SELECT * FROM \"\"\" \n",
    "                       + table_name + \n",
    "                       \"\"\" ORDER BY \"\"\" +column_name + \n",
    "                       \"\"\" DESC LIMIT \"\"\"+ str(n_rows) + \n",
    "                       \"\"\" ; \"\"\"  ).fetchall()     \n",
    "#     for i in c:      \n",
    "#         print(i)\n",
    "\n",
    "\n",
    "    \n",
    "    return c     "
   ]
  },
  {
   "cell_type": "code",
   "execution_count": 32,
   "metadata": {},
   "outputs": [],
   "source": [
    "def insert_n_rows(cursor, df, table_name):     \n",
    " \n",
    "   \n",
    "    new_values = []   \n",
    "    \n",
    "    df['Date'] = pd.to_datetime(df['Date'], format='%Y-%m-%d %H:%M:%S')\n",
    "    \n",
    "    df['Date'] = df['Date'].dt.strftime('%Y-%m-%d %H:%M:%S')\n",
    "    \n",
    "    for i in range(len(df)):\n",
    "        \n",
    "        #print(df.iloc[i])\n",
    "        \n",
    "        new_values.append(tuple(df.iloc[i]))\n",
    "        \n",
    "    \n",
    "    s=\"\"     \n",
    "    \n",
    "    for i in new_values:   \n",
    "        \n",
    "        s+=str(i) + \",\"   \n",
    "        \n",
    "    \n",
    "    s=s[:-1] \n",
    "\n",
    "    #print(s)\n",
    "    print(\"\")\n",
    "    \n",
    "    \n",
    "    cursor.execute(\"\"\"INSERT INTO \"\"\" + table_name + \"\"\" VALUES \"\"\" + s + \"\"\" ; \"\"\"  )     \n",
    "    "
   ]
  },
  {
   "cell_type": "code",
   "execution_count": 33,
   "metadata": {},
   "outputs": [],
   "source": [
    "def distinct_values(table_name, column_name, cursor):\n",
    "    \n",
    "    c = cursor.execute(\"\"\"SELECT \"\"\" + column_name + \"\"\", COUNT(*) \"\"\" + \"\"\" FROM \"\"\" + table_name + \"\"\" GROUP BY \"\"\" +  column_name + \"\"\" ; \"\"\"  ).fetchall()     \n",
    "    \n",
    "    \n",
    "    for i in c:\n",
    "        \n",
    "        print(i)\n",
    "    \n",
    "       "
   ]
  },
  {
   "cell_type": "code",
   "execution_count": 34,
   "metadata": {},
   "outputs": [],
   "source": [
    "def change_columns_names(cursor, table_name, column_old_name, column_new_name):   \n",
    " \n",
    "    print(\"Old Columns Names: \" + str(get_columns_names(cursor, table_name)) )     \n",
    "    c = cursor.execute(\"\"\"ALTER TABLE \"\"\" + table_name +                                 \"\"\" RENAME COLUMN \"\"\" + column_old_name +                                 \"\"\" TO \"\"\"+column_new_name+                                 \"\"\" ; \"\"\"  ).fetchall()     \n",
    "    print(\"New Columns Names: \" + str(get_columns_names(cursor, table_name)) )     \n",
    " "
   ]
  },
  {
   "cell_type": "code",
   "execution_count": 35,
   "metadata": {},
   "outputs": [],
   "source": [
    "def get_last_db_date(cursor,column_name, table_name):  \n",
    "    \n",
    "    c=cursor.execute(\"\"\"SELECT \"\"\" + column_name + \n",
    "                     \"\"\" FROM \"\"\" + table_name + \n",
    "                     \"\"\" ORDER BY \"\"\" + column_name + \n",
    "                     \"\"\" DESC LIMIT 1 ; \"\"\").fetchall()     \n",
    "    return c[0][0]   "
   ]
  },
  {
   "cell_type": "code",
   "execution_count": 37,
   "metadata": {},
   "outputs": [],
   "source": [
    "def database_info(cursor, table_name, date_column_name):\n",
    "    \n",
    "        \n",
    "    \n",
    "    print(\"O banco de dados contém as seguintes tabelas: \")\n",
    "    \n",
    "    print(\"\\n\")\n",
    "    \n",
    "    for i in get_names_tables(cursor):\n",
    "        print(i[0])\n",
    "    \n",
    "    print(\"\\n\")\n",
    "    \n",
    "    print(\"O nome da tabela solicitada é :\" + table_name)\n",
    "    \n",
    "    print(\"\\n\")\n",
    "    \n",
    "    print(\"O nome das colunas são: \")\n",
    "    \n",
    "    print(\"\\n\")\n",
    "    \n",
    "    print(get_columns_names(cursor, table_name))\n",
    "    \n",
    "    print(\"\\n\")\n",
    "    \n",
    "    print(\"O número total de linhas é: \" + str(count_rows_table(cursor, table_name)))\n",
    "    \n",
    "    print(\"\\n\")\n",
    "    \n",
    "    print(\"A data mais recente dos dados é: \" + str(get_last_db_date(cursor,date_column_name, table_name)))\n",
    "    \n",
    "    print(\"\\n\")\n",
    "    \n",
    "    print(\"Todas as datas distintas e quantas linhas cada uma possui são: \")\n",
    "    \n",
    "    print(\"\\n\")\n",
    "    \n",
    "    print(distinct_values(table_name, date_column_name, cursor)) \n",
    "    \n",
    "    "
   ]
  },
  {
   "cell_type": "code",
   "execution_count": 38,
   "metadata": {},
   "outputs": [],
   "source": [
    "def get_new_crypto_in_yf(crypto_name, table_title, conn, end_date, index=False):\n",
    "    \n",
    " \n",
    "    df = get_data_btw_date(crypto_name, '2000-01-01', end_date)\n",
    "        \n",
    "    #### Data escolhida é bem antes do surgimento das criptomoedas no planeta terra\n",
    "        \n",
    "        \n",
    "    create_table(df, table_title, conn, index)\n",
    "    "
   ]
  },
  {
   "cell_type": "code",
   "execution_count": 39,
   "metadata": {},
   "outputs": [],
   "source": [
    "###### updating entire database for all assets ##########\n",
    "\n",
    "def insert_new_criptos_in_db(assets):\n",
    "    \n",
    "    day = past_n_days(1)\n",
    "    \n",
    "    day = day.strftime(\"%Y-%m-%d\")\n",
    "\n",
    "    for i in assets:\n",
    "        \n",
    "        try:\n",
    "\n",
    "            get_new_crypto_in_yf(assets[i], i, conn, day, index=False)\n",
    "            \n",
    "        \n",
    "        except Exception:\n",
    "            \n",
    "            print(str(assets[i]+ \" já  está no banco de dados!\"))\n",
    "            \n",
    "            continue"
   ]
  },
  {
   "cell_type": "code",
   "execution_count": 40,
   "metadata": {},
   "outputs": [],
   "source": [
    "assets = { 'BTC': 'BTC-USD', \n",
    "           'ETH': 'ETH-USD', \n",
    "           'USDT':'USDT-USD', \n",
    "           'USDC':'USDC-USD', \n",
    "           'BNB':'BNB-USD',\n",
    "           'BUSD':'BUSD-USD',\n",
    "           'XRP': 'XRP-USD',\n",
    "           'ADA': 'ADA-USD',\n",
    "           'SOL': 'SOL-USD',\n",
    "           'DOGE':'DOGE-USD',\n",
    "           'DOT': 'DOT-USD',\n",
    "           'HEX': 'HEX-USD',\n",
    "           'SHIB': 'SHIB-USD',\n",
    "           'DAI': 'DAI-USD',\n",
    "           'WTRX': 'WTRX-USD',\n",
    "           'AVAX':'AVAX-USD',\n",
    "           'MATIC': 'MATIC-USD',\n",
    "           'TRX': 'TRX-USD',\n",
    "           'STETH': 'STETH-USD',\n",
    "           'WBTC': 'WBTC-USD',\n",
    "           'LEO': 'LEO-USD',\n",
    "           'ETC': 'ETC-USD',\n",
    "           'LTC': 'LTC-USD'\n",
    "         }"
   ]
  },
  {
   "cell_type": "markdown",
   "metadata": {},
   "source": [
    "#### Rodando"
   ]
  },
  {
   "cell_type": "code",
   "execution_count": 60,
   "metadata": {},
   "outputs": [],
   "source": [
    "## These detect_types allow us to read date columns as date type that was stored as a string by sqlite3\n",
    "\n",
    "conn = sqlite3.connect('crypto_data', detect_types=sqlite3.PARSE_DECLTYPES|sqlite3.PARSE_COLNAMES)\n",
    "c = conn.cursor()\n"
   ]
  },
  {
   "cell_type": "code",
   "execution_count": 71,
   "metadata": {},
   "outputs": [],
   "source": [
    "c.close()"
   ]
  },
  {
   "cell_type": "code",
   "execution_count": null,
   "metadata": {},
   "outputs": [],
   "source": [
    "# Datetime tips\n",
    "\n",
    "# datetime(2023,6,13)\n",
    "\n",
    "# datetime(2023,6,13,0,0,0)\n",
    "\n",
    "# datetime(2023,6,13).date()\n",
    "\n",
    "# date_array(datetime.today(),5)"
   ]
  },
  {
   "cell_type": "code",
   "execution_count": null,
   "metadata": {},
   "outputs": [],
   "source": [
    "#df_from_sql_query('ETH', \"Date\", conn, \"2022-01-28\", \"2022-07-25\")"
   ]
  },
  {
   "cell_type": "code",
   "execution_count": null,
   "metadata": {},
   "outputs": [],
   "source": [
    "#a = get_data_btw_date('BTC-USD', '2023-01-12', '2023-06-05')"
   ]
  },
  {
   "cell_type": "code",
   "execution_count": 66,
   "metadata": {},
   "outputs": [],
   "source": [
    "#get_last_db_date(c,\"Date\", \"ADA\")"
   ]
  },
  {
   "cell_type": "code",
   "execution_count": 58,
   "metadata": {
    "scrolled": true
   },
   "outputs": [],
   "source": [
    "#updating_database(c, \"Date\")"
   ]
  },
  {
   "cell_type": "code",
   "execution_count": 57,
   "metadata": {},
   "outputs": [],
   "source": [
    "#database_info(c, 'ADA','Date')"
   ]
  },
  {
   "cell_type": "code",
   "execution_count": 55,
   "metadata": {},
   "outputs": [],
   "source": [
    "#delete_table('BTC', c)"
   ]
  },
  {
   "cell_type": "code",
   "execution_count": 54,
   "metadata": {},
   "outputs": [],
   "source": [
    "#insert_new_criptos_in_db(assets)"
   ]
  },
  {
   "cell_type": "code",
   "execution_count": 53,
   "metadata": {},
   "outputs": [],
   "source": [
    "#df_from_sql_query('ETH', \"Date\", conn, \"2023-01-01\", \"2023-06-13\")"
   ]
  },
  {
   "cell_type": "code",
   "execution_count": null,
   "metadata": {},
   "outputs": [],
   "source": [
    "def plot(title,crypto, conn, startDate, endDate):\n",
    "    \n",
    "    \n",
    "    df=df_from_sql_query(crypto, \"Date\", conn, startDate, endDate)\n",
    "    \n",
    "    df['Date']= pd.to_datetime(df['Date'])\n",
    "    \n",
    "    df=df.drop(columns=['Adj Close'])\n",
    "    \n",
    "#     eth_df.set_index('Date')\n",
    "\n",
    "    fig = go.Figure(data=[go.Candlestick(x=df['Date'],\n",
    "                    open=df['Open'],\n",
    "                    high=df['High'],\n",
    "                    low=df['Low'],\n",
    "                    close=df['Close'])])\n",
    "\n",
    "    fig.update_layout(xaxis_rangeslider_visible=False)\n",
    "\n",
    "    fig.update_layout(\n",
    "        title= title,\n",
    "        yaxis_title='Price',\n",
    "\n",
    "    )\n",
    "\n",
    "    fig.write_html(title + \".html\")\n",
    "    fig.write_html(title + \".html\")\n",
    "\n",
    "    fig.show()"
   ]
  },
  {
   "cell_type": "code",
   "execution_count": null,
   "metadata": {},
   "outputs": [],
   "source": [
    "plot('ETHER-USD','ETH', conn, '2022-08-01', '2022-09-14')"
   ]
  },
  {
   "cell_type": "code",
   "execution_count": null,
   "metadata": {},
   "outputs": [],
   "source": [
    "plot('BTC-USD','BTC', conn, '2022-08-01', '2022-09-14')"
   ]
  }
 ],
 "metadata": {
  "kernelspec": {
   "display_name": "Python 3 (ipykernel)",
   "language": "python",
   "name": "python3"
  },
  "language_info": {
   "codemirror_mode": {
    "name": "ipython",
    "version": 3
   },
   "file_extension": ".py",
   "mimetype": "text/x-python",
   "name": "python",
   "nbconvert_exporter": "python",
   "pygments_lexer": "ipython3",
   "version": "3.10.7"
  }
 },
 "nbformat": 4,
 "nbformat_minor": 4
}
