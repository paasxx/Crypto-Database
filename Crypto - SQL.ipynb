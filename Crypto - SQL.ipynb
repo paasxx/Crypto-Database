{
 "cells": [
  {
   "cell_type": "code",
   "execution_count": 11,
   "metadata": {},
   "outputs": [],
   "source": [
    "import pandas as pd\n",
    "import yfinance as yf\n",
    "from yahoofinancials import YahooFinancials\n",
    "import matplotlib as mpl\n",
    "import matplotlib.pyplot as plt\n",
    "from datetime import date, timedelta, datetime\n",
    "import sqlite3    \n",
    "import re   \n",
    "import requests   \n",
    "from bs4 import BeautifulSoup   \n",
    "import plotly.graph_objects as go\n",
    "#import win32com.client as win32\n",
    "import plotly.io as pio\n",
    "from plotly.subplots import make_subplots"
   ]
  },
  {
   "cell_type": "code",
   "execution_count": 12,
   "metadata": {},
   "outputs": [],
   "source": [
    "pd.set_option('display.max_rows', None)"
   ]
  },
  {
   "cell_type": "markdown",
   "metadata": {},
   "source": [
    "#### Funções Data"
   ]
  },
  {
   "cell_type": "code",
   "execution_count": 13,
   "metadata": {},
   "outputs": [],
   "source": [
    "def day_n (offset):         \n",
    "    \n",
    "    return datetime.today()-timedelta(days = offset)         "
   ]
  },
  {
   "cell_type": "code",
   "execution_count": 14,
   "metadata": {},
   "outputs": [],
   "source": [
    "def sunday(offset, day):    \n",
    "    \n",
    "    if day.weekday()==6:     \n",
    "        day = day_n(offset+2)         \n",
    "        if day.strftime(\"%d-%m-%Y\") == holiday(offset, day, dataf).strftime(\"%d-%m-%Y\"):         \n",
    "            return day         \n",
    "        else:              return holiday(offset, day, dataf)         \n",
    "    \n",
    "    return day   \n",
    "\n",
    "####  Caso seja domingo essa função retorna o última dia antes de começar o final de semana, seja ele feriado ou não.  ####  Caso não seja domingo ele retorna o mesmo dia que foi passado como argumento pela função, sem alterá-lo.   "
   ]
  },
  {
   "cell_type": "code",
   "execution_count": 15,
   "metadata": {},
   "outputs": [],
   "source": [
    "def saturday(offset, day):\n",
    "    \n",
    "    if day.weekday()==5:     \n",
    "        day = day_n(offset+1)         \n",
    "        if day.strftime(\"%d-%m-%Y\") == holiday(offset, day, dataf).strftime(\"%d-%m-%Y\"):         \n",
    "            return day         \n",
    "        else:              return holiday(offset, day, dataf)     \n",
    "    return day   \n",
    "\n",
    "####  Caso seja sabado essa função retorna o última dia antes de começar o final de semana, \n",
    "####  seja ele feriado ou não.  \n",
    "####  Caso não seja sábado ele retorna o mesmo dia que foi passado como argumento pela função, sem alterá-lo.   "
   ]
  },
  {
   "cell_type": "code",
   "execution_count": 16,
   "metadata": {},
   "outputs": [],
   "source": [
    "def holiday(offset, day, dataf):     \n",
    "    \n",
    "    for i in dataf:     \n",
    "        if (i[8:]+\"-\"+i[5:7]+\"-\"+i[0:4])==day.strftime(\"%d-%m-%Y\"):             \n",
    "            return holiday(offset+1, day_n(offset+1), dataf)         \n",
    "    \n",
    "            \n",
    "    if day.strftime(\"%d-%m-%Y\") == sunday(offset, day).strftime(\"%d-%m-%Y\"):         \n",
    "    \n",
    "        \n",
    "        if day.strftime(\"%d-%m-%Y\") == saturday(offset, day).strftime(\"%d-%m-%Y\"):             \n",
    "            \n",
    "            return day         \n",
    "        else:             \n",
    "            return saturday(offset, day)         \n",
    "    else:         \n",
    "        return sunday(offset, day)         "
   ]
  },
  {
   "cell_type": "code",
   "execution_count": 17,
   "metadata": {},
   "outputs": [],
   "source": [
    "##### Descobrindo o D-1 #####\n",
    "\n",
    "def find_last_workday( offset, day, dataf): \n",
    "    \n",
    "    if day.strftime(\"%d-%m-%Y\") == holiday(offset, day, dataf).strftime(\"%d-%m-%Y\"):         \n",
    "        \n",
    "        if day.strftime(\"%d-%m-%Y\") == sunday(offset, day).strftime(\"%d-%m-%Y\"):             \n",
    "            \n",
    "            if day.strftime(\"%d-%m-%Y\") == saturday(offset, day).strftime(\"%d-%m-%Y\"):                 \n",
    "                return day                 \n",
    "                \n",
    "            else:                     \n",
    "                return saturday(offset, day)         \n",
    "        else:                 \n",
    "            return sunday(offset, day)         \n",
    "    else:         \n",
    "        return holiday(offset, day, dataf)          "
   ]
  },
  {
   "cell_type": "markdown",
   "metadata": {},
   "source": [
    "##### Vetor de feriados"
   ]
  },
  {
   "cell_type": "code",
   "execution_count": 18,
   "metadata": {},
   "outputs": [],
   "source": [
    "def holidays():\n",
    "    \n",
    "    feriados = pd.read_csv(r\"C:\\Users\\psilv\\Python\\feriados.csv\")   \n",
    " \n",
    " \n",
    "    data = feriados['data'].tolist()   \n",
    " \n",
    "    ########### Cria vetor de feriados \n",
    "    \n",
    "    dataf=[] \n",
    "    \n",
    "    for i in data:   \n",
    "        \n",
    "        dataf.append(i.strip()[-4:] + \"-\" + (\"0\"+ i.strip()[0] if i.find(\"/\")==1 else i.strip()[0:i.find(\"/\")]) + \"-\" + (\"0\" + re.search(\"/(.*?)/\", i.strip()).group(1) if len(re.search(\"/(.*?)/\", i.strip()).group(1))==1 else re.search(\"/(.*?)/\", i.strip()).group(1)))\n",
    "        \n",
    "    return dataf     "
   ]
  },
  {
   "cell_type": "code",
   "execution_count": 19,
   "metadata": {},
   "outputs": [],
   "source": [
    "def past_n_days(n):     \n",
    "    day = datetime.today()-timedelta(days = n)     \n",
    "    print(\"O último dia corrido é: \" +  day.strftime(\"%d-%m-%Y\"))     \n",
    "    return day   "
   ]
  },
  {
   "cell_type": "markdown",
   "metadata": {},
   "source": [
    "#####  Função auxiliar para criar Vetor de dias úteis "
   ]
  },
  {
   "cell_type": "code",
   "execution_count": 20,
   "metadata": {},
   "outputs": [],
   "source": [
    "##### Date Format input  YY-MM-dd,  run_days são números inteiros\n",
    "\n",
    "##### O input de data dentro da função pandas.date_range deve ser no formato YY-MM-dd\n",
    "\n",
    "def date_array (last_day, run_days):\n",
    "\n",
    "   \n",
    "    Datas = pd.date_range(end = last_day, periods = run_days).to_pydatetime().tolist()\n",
    "\n",
    "    \n",
    "    datas=[] \n",
    "\n",
    "    \n",
    "    for k in range(len(Datas)):\n",
    "\n",
    "        datas.append(Datas[len(Datas) - k -1])\n",
    "\n",
    "\n",
    "\n",
    " \n",
    "    return datas"
   ]
  },
  {
   "cell_type": "markdown",
   "metadata": {},
   "source": [
    "#### Função iterativa para criar Vetor de dias úteis."
   ]
  },
  {
   "cell_type": "code",
   "execution_count": 21,
   "metadata": {},
   "outputs": [],
   "source": [
    "#### Função para obter um vetor de dias úteis de um tamanho específico, por ser iterativa é custosa computacionalmente\n",
    "\n",
    "#### Date format input dd-MM-YY, length é número inteiro\n",
    "\n",
    "\n",
    "def work_days_array_length(last_day, length):\n",
    "\n",
    "\n",
    "    i=length\n",
    "\n",
    "    while len(date_array(last_day, i))!= length:\n",
    "\n",
    "        if len(date_array(last_day, i))==length:\n",
    "\n",
    "            break\n",
    "\n",
    "        i+=1\n",
    "\n",
    "    return date_array(last_day, i)"
   ]
  },
  {
   "cell_type": "code",
   "execution_count": 22,
   "metadata": {},
   "outputs": [],
   "source": [
    "####### Criando vetor desde o ultimo dia do banco até o D-1\n",
    "\n",
    "####### Start é a mais antiga, e End a mais recente\n",
    "\n",
    "####### Date Format input  YY-MM-dd (SQL)\n",
    "\n",
    "\n",
    "def  work_days_array_btw_dates(start_date, end_date):\n",
    "    \n",
    "\n",
    "    end = date(int(end_date[:4]), int(end_date[5:7]), int(end_date[-2:]))\n",
    "\n",
    "    start = date(int(start_date[:4]), int(start_date[5:7]), int(start_date[-2:]))\n",
    "\n",
    "    \n",
    "    dif = end-start\n",
    "    \n",
    "\n",
    "    dif = int(abs(dif.days))\n",
    "    \n",
    "    \n",
    "    print(\"Números de dias a serem atualizados:  \" + str(dif))\n",
    "    print(\"\\n\")\n",
    "    \n",
    "    #### No caso start_date=end_date é preciso desse if \n",
    "    \n",
    "    if dif == 0:\n",
    "        dif=2\n",
    "            \n",
    "\n",
    "\n",
    "    dates = date_array(end_date, 2*dif)\n",
    "\n",
    "    aux=0\n",
    "    \n",
    "\n",
    "    for i in dates:\n",
    "\n",
    "        if i.strftime(\"%Y-%m-%d\")==start_date:\n",
    "\n",
    "            aux = dates.index(i)\n",
    "                 \n",
    "    \n",
    "    return dates[:aux+1]"
   ]
  },
  {
   "cell_type": "markdown",
   "metadata": {},
   "source": [
    "#### Função para deletar linha específica"
   ]
  },
  {
   "cell_type": "code",
   "execution_count": 23,
   "metadata": {},
   "outputs": [],
   "source": [
    "def delete_row_sql(table_name, column_name, conn, desired_info):\n",
    "    \n",
    "    \n",
    "    query = (\"\"\"DELETE\"\"\" + \n",
    "             \"\"\" FROM \"\"\" + table_name +\n",
    "             \"\"\" WHERE \"\"\" + column_name +\n",
    "             \"\"\" = '\"\"\" + desired_info +\n",
    "             \"\"\"'; \"\"\")\n",
    "    \n",
    "    conn.execute(query)\n",
    "    \n",
    "    print(\"Deleted as Follows:\")\n",
    "    print(\"\\n\")\n",
    "    print(query)"
   ]
  },
  {
   "cell_type": "markdown",
   "metadata": {},
   "source": [
    "#### Função para obter um dataframe a partir de uma query do banco de dados"
   ]
  },
  {
   "cell_type": "code",
   "execution_count": 24,
   "metadata": {},
   "outputs": [],
   "source": [
    "### Criar função para obter um dataframe entre datas específicas a partir de uma query em SQL\n",
    "\n",
    "### MELHORAR PRA RANGE DE DATAS\n",
    "\n",
    "\n",
    "def df_from_sql_query(table_name, date_column_name, conn, start_date, end_date):\n",
    "    \n",
    "    \n",
    "    query = (\"\"\"SELECT * \"\"\" + \n",
    "             \"\"\" FROM \"\"\" + table_name +\n",
    "             \"\"\" WHERE \"\"\" + date_column_name +\n",
    "             \"\"\" BETWEEN strftime('%Y-%m-%d %H:%M:%S', '\"\"\" + start_date +\n",
    "             \"\"\"') AND strftime('%Y-%m-%d %H:%M:%S', '\"\"\" + end_date +\n",
    "             \"\"\"') ORDER BY \"\"\" + date_column_name + \"\"\"; \"\"\")\n",
    "    \n",
    "    #print(query)\n",
    "\n",
    "    df = pd.read_sql_query(query, conn)\n",
    "    \n",
    "    \n",
    "    return df   "
   ]
  },
  {
   "cell_type": "code",
   "execution_count": 25,
   "metadata": {},
   "outputs": [],
   "source": [
    "# df_from_sql_query('bitcoin', \"Date\", conn, \"2022-01-28\", \"2022-07-25\")"
   ]
  },
  {
   "cell_type": "markdown",
   "metadata": {},
   "source": [
    "#### Inserindo novas linhas no banco de dados"
   ]
  },
  {
   "cell_type": "code",
   "execution_count": 26,
   "metadata": {},
   "outputs": [],
   "source": [
    "##### Tornar essa função genérica para qualquer dataframe\n",
    "\n",
    "def insert_n_lines_database(cursor, df, table_name, date_column_name):\n",
    "    \n",
    "           \n",
    "    print(\"\\n\")     \n",
    "    print(\"Os dados antes da atualização eram:\")   \n",
    "    print(\"\\n\")  \n",
    "    \n",
    "    for i in get_last_n_rows(cursor, table_name, 5, date_column_name):   \n",
    "        print(i)             \n",
    " \n",
    "    print(\"\\n\")     \n",
    "   \n",
    "    insert_n_rows(cursor, df, table_name)             \n",
    "       \n",
    "    print(\"\\n\")   \n",
    "    print(\"Os novos dados são:\")   \n",
    "    print(\"\\n\")     \n",
    "                   \n",
    "    for i in get_last_n_rows(cursor, table_name, 5, date_column_name):   \n",
    "        print(i)         \n",
    "    print(\"\\n\")             \n",
    "            "
   ]
  },
  {
   "cell_type": "markdown",
   "metadata": {},
   "source": [
    "#### Atualizando as bases de dados"
   ]
  },
  {
   "cell_type": "code",
   "execution_count": 27,
   "metadata": {},
   "outputs": [],
   "source": [
    "def updating_database(cursor, date_column_name):      \n",
    "    \n",
    "    for i in assets:\n",
    "        \n",
    "        print('\\n')\n",
    "        \n",
    "        day = past_n_days(1)\n",
    "    \n",
    "        day = day.strftime(\"%Y-%m-%d\")\n",
    "        \n",
    "        ###### Verificando a última data atualizada no banco de dados   \n",
    "        last_date_db = get_last_db_date(cursor, date_column_name, i)[:10]        \n",
    "\n",
    "        if last_date_db == day:         \n",
    "            print(\"Os dados da cripto \" + str(i) + \" estão Atualizados!!\")         \n",
    "        else:         \n",
    "            print(\"\\n\")     \n",
    "            print(\"O último dia atualizado no banco de dados é: \" + last_date_db)   \n",
    "            print(\"\\n\")         \n",
    "\n",
    "            #### Vetor de datas   \n",
    "            dates = work_days_array_btw_dates(last_date_db, day)[:-1]   \n",
    "            print(\"Datas a serem atualizadas no banco de dados:\")         \n",
    "            print(\"\\n\")         \n",
    "\n",
    "            for j in range(len(dates)):             \n",
    "                print(dates[j])             \n",
    "\n",
    "\n",
    "            print(\"\\n\")\n",
    "            print(\"Downloadind from Yahoo Finance API ....\")         \n",
    "            print(\"\\n\")         \n",
    "\n",
    "            #### Dataframe com os resultados\n",
    "            \n",
    "            print(\"Moeda Atualizada: \" + assets[i])\n",
    "    \n",
    "\n",
    "            df = get_data_btw_date(assets[i],dates[-1:][0].strftime(\"%Y-%m-%d\"), dates[0].strftime(\"%Y-%m-%d\"))     \n",
    "\n",
    "\n",
    "            #### Inserindo novos dados           \n",
    "            insert_n_lines_database(cursor, df, i, date_column_name)  \n",
    "\n",
    "            ##### Adicionar o insert lines dentro da função Web Scrap para atualizar o banco de dados em cada iteração e não\n",
    "            ##### correr o risco de falhar o web scraping e perder os dados\n",
    "    \n",
    "    "
   ]
  },
  {
   "cell_type": "markdown",
   "metadata": {},
   "source": [
    "#### Função para captar os dados da API do Yahoo Finance"
   ]
  },
  {
   "cell_type": "code",
   "execution_count": 28,
   "metadata": {},
   "outputs": [],
   "source": [
    "#### Nome da moeda, exemplo: Ethereum é ETH-USD\n",
    "#### Data format YY-MM-DD\n",
    "\n",
    "def get_data_btw_date(crypto_name, start_date, end_date):\n",
    "    \n",
    "    crypto_df = yf.download(crypto_name, start= start_date, end= end_date)\n",
    "    \n",
    "    crypto_df = crypto_df.reset_index(level=0)\n",
    "    \n",
    "    \n",
    "    crypto_df['Date'] = pd.to_datetime(crypto_df['Date'], format='%Y-%m-%d %H:%M:%S')\n",
    "    \n",
    "    crypto_df['Date'] = crypto_df['Date'].dt.strftime('%Y-%m-%d %H:%M:%S')\n",
    "\n",
    "    \n",
    "\n",
    "    return crypto_df"
   ]
  },
  {
   "cell_type": "code",
   "execution_count": 29,
   "metadata": {},
   "outputs": [
    {
     "name": "stdout",
     "output_type": "stream",
     "text": [
      "[*********************100%***********************]  1 of 1 completed\n"
     ]
    },
    {
     "data": {
      "text/html": [
       "<div>\n",
       "<style scoped>\n",
       "    .dataframe tbody tr th:only-of-type {\n",
       "        vertical-align: middle;\n",
       "    }\n",
       "\n",
       "    .dataframe tbody tr th {\n",
       "        vertical-align: top;\n",
       "    }\n",
       "\n",
       "    .dataframe thead th {\n",
       "        text-align: right;\n",
       "    }\n",
       "</style>\n",
       "<table border=\"1\" class=\"dataframe\">\n",
       "  <thead>\n",
       "    <tr style=\"text-align: right;\">\n",
       "      <th></th>\n",
       "      <th>Date</th>\n",
       "      <th>Open</th>\n",
       "      <th>High</th>\n",
       "      <th>Low</th>\n",
       "      <th>Close</th>\n",
       "      <th>Adj Close</th>\n",
       "      <th>Volume</th>\n",
       "    </tr>\n",
       "  </thead>\n",
       "  <tbody>\n",
       "    <tr>\n",
       "      <th>0</th>\n",
       "      <td>2022-08-21 00:00:00</td>\n",
       "      <td>21160.392578</td>\n",
       "      <td>21668.845703</td>\n",
       "      <td>21103.197266</td>\n",
       "      <td>21534.121094</td>\n",
       "      <td>21534.121094</td>\n",
       "      <td>23102307723</td>\n",
       "    </tr>\n",
       "  </tbody>\n",
       "</table>\n",
       "</div>"
      ],
      "text/plain": [
       "                  Date          Open          High           Low  \\\n",
       "0  2022-08-21 00:00:00  21160.392578  21668.845703  21103.197266   \n",
       "\n",
       "          Close     Adj Close       Volume  \n",
       "0  21534.121094  21534.121094  23102307723  "
      ]
     },
     "execution_count": 29,
     "metadata": {},
     "output_type": "execute_result"
    }
   ],
   "source": [
    "get_data_btw_date('BTC-USD', '2022-08-21', '2022-08-21')"
   ]
  },
  {
   "cell_type": "markdown",
   "metadata": {},
   "source": [
    "#### Funções SQL"
   ]
  },
  {
   "cell_type": "code",
   "execution_count": 30,
   "metadata": {},
   "outputs": [],
   "source": [
    "## Insert crypto name in lower case"
   ]
  },
  {
   "cell_type": "code",
   "execution_count": 31,
   "metadata": {},
   "outputs": [],
   "source": [
    "#### index can be False or True, to me worked as False\n",
    "\n",
    "def create_table(df, name_desired, conn, index):\n",
    "    \n",
    "        df.to_sql(name_desired, conn, if_exists='fail', index=index)   \n",
    "    \n"
   ]
  },
  {
   "cell_type": "code",
   "execution_count": 32,
   "metadata": {},
   "outputs": [],
   "source": [
    "def rename_table(table_name, new_table_name, cursor):\n",
    "    \n",
    "    try:\n",
    "        \n",
    "        for i in get_names_tables(cursor):\n",
    "        \n",
    "            if new_table_name == i[0]:\n",
    "                \n",
    "                print(\"O Nome já está em uso!\")\n",
    "            \n",
    "                raise Exception\n",
    "\n",
    "        cursor.execute(\"\"\"ALTER TABLE \"\"\" +  table_name + \"\"\" RENAME TO \"\"\" + new_table_name + \"\"\" ;\"\"\")\n",
    "\n",
    "    except Exception:\n",
    "\n",
    "        print(\"Não foi possível alterar o nome da tabela!\")\n",
    "        "
   ]
  },
  {
   "cell_type": "code",
   "execution_count": 33,
   "metadata": {},
   "outputs": [],
   "source": [
    "def show_table(table_name, cursor):     \n",
    "    \n",
    "    c=cursor.execute(\"\"\"SELECT * FROM \"\"\" + table_name ).fetchall()     \n",
    "    for i in c:      \n",
    "        print(i)     \n",
    "    return c     "
   ]
  },
  {
   "cell_type": "code",
   "execution_count": 34,
   "metadata": {},
   "outputs": [],
   "source": [
    "def delete_table(name, cursor):   \n",
    "    \n",
    "    cursor.execute(\"\"\"DROP TABLE \"\"\" +  name ).fetchall()   "
   ]
  },
  {
   "cell_type": "code",
   "execution_count": 35,
   "metadata": {},
   "outputs": [],
   "source": [
    "def last_database_day(crypto_name):\n",
    "\n",
    "    sql_str = '''SELECT Date FROM ''' + crypto_name + ''' ORDER BY Date DESC LIMIT 1;'''\n",
    "\n",
    "    c.execute(sql_str)\n",
    "\n",
    "    date = c.fetchone()\n",
    "\n",
    "    return date[0][:10]\n",
    "    "
   ]
  },
  {
   "cell_type": "code",
   "execution_count": 36,
   "metadata": {},
   "outputs": [],
   "source": [
    "def get_names_tables(cursor):     \n",
    "    \n",
    "    cursor.execute('''SELECT name FROM sqlite_master WHERE type='table';''')   \n",
    "    \n",
    "    return(cursor.fetchall())"
   ]
  },
  {
   "cell_type": "code",
   "execution_count": 37,
   "metadata": {},
   "outputs": [],
   "source": [
    "def count_rows_table(cursor, table_name): \n",
    "    \n",
    "    c = cursor.execute(\"\"\"SELECT COUNT(*) FROM \"\"\" + table_name).fetchall()     \n",
    "    return c[0][0]   "
   ]
  },
  {
   "cell_type": "code",
   "execution_count": 38,
   "metadata": {},
   "outputs": [],
   "source": [
    "def get_columns_names(cursor, table_name): \n",
    "    \n",
    "    c = cursor.execute(\"\"\"PRAGMA table_info(\"\"\" + table_name + \"\"\");  \"\"\" ).fetchall()     \n",
    "    col_names = []     \n",
    "    for i in c:         \n",
    "            col_names.append(i[1])\n",
    "            \n",
    "    return col_names   "
   ]
  },
  {
   "cell_type": "code",
   "execution_count": 39,
   "metadata": {},
   "outputs": [],
   "source": [
    "def get_last_n_rows(cursor, table_name, n_rows, column_name):\n",
    "    \n",
    "    c = cursor.execute(\"\"\"SELECT * FROM \"\"\" \n",
    "                       + table_name + \n",
    "                       \"\"\" ORDER BY \"\"\" +column_name + \n",
    "                       \"\"\" DESC LIMIT \"\"\"+ str(n_rows) + \n",
    "                       \"\"\" ; \"\"\"  ).fetchall()     \n",
    "#     for i in c:      \n",
    "#         print(i)\n",
    "\n",
    "\n",
    "    \n",
    "    return c     "
   ]
  },
  {
   "cell_type": "code",
   "execution_count": 40,
   "metadata": {},
   "outputs": [],
   "source": [
    "def insert_n_rows(cursor, df, table_name):     \n",
    " \n",
    "   \n",
    "    new_values = []   \n",
    "    \n",
    "    for i in range(len(df)):    \n",
    "        \n",
    "        new_values.append(tuple(df.iloc[i]))         \n",
    "    \n",
    "    s=\"\"     \n",
    "    \n",
    "    for i in new_values:   \n",
    "        \n",
    "        s+=str(i) + \",\"   \n",
    "        \n",
    "    \n",
    "    s=s[:-1] \n",
    "\n",
    "    #print(s)\n",
    "    \n",
    "    \n",
    "    cursor.execute(\"\"\"INSERT INTO \"\"\" + table_name + \"\"\" VALUES \"\"\" + s + \"\"\" ; \"\"\"  )     \n",
    "    "
   ]
  },
  {
   "cell_type": "code",
   "execution_count": 41,
   "metadata": {},
   "outputs": [],
   "source": [
    "def distinct_values(table_name, column_name, cursor):\n",
    "    \n",
    "    c = cursor.execute(\"\"\"SELECT \"\"\" + column_name + \"\"\", COUNT(*) \"\"\" + \"\"\" FROM \"\"\" + table_name + \"\"\" GROUP BY \"\"\" +  column_name + \"\"\" ; \"\"\"  ).fetchall()     \n",
    "    \n",
    "    \n",
    "    for i in c:\n",
    "        \n",
    "        print(i)\n",
    "    \n",
    "       "
   ]
  },
  {
   "cell_type": "code",
   "execution_count": 42,
   "metadata": {},
   "outputs": [],
   "source": [
    "def change_columns_names(cursor, table_name, column_old_name, column_new_name):   \n",
    " \n",
    "    print(\"Old Columns Names: \" + str(get_columns_names(cursor, table_name)) )     \n",
    "    c = cursor.execute(\"\"\"ALTER TABLE \"\"\" + table_name +                                 \"\"\" RENAME COLUMN \"\"\" + column_old_name +                                 \"\"\" TO \"\"\"+column_new_name+                                 \"\"\" ; \"\"\"  ).fetchall()     \n",
    "    print(\"New Columns Names: \" + str(get_columns_names(cursor, table_name)) )     \n",
    " "
   ]
  },
  {
   "cell_type": "code",
   "execution_count": 43,
   "metadata": {},
   "outputs": [],
   "source": [
    "def get_last_db_date(cursor,column_name, table_name):  \n",
    "    \n",
    "    c=cursor.execute(\"\"\"SELECT \"\"\" + column_name + \n",
    "                     \"\"\" FROM \"\"\" + table_name + \n",
    "                     \"\"\" ORDER BY \"\"\" + column_name + \n",
    "                     \"\"\" DESC LIMIT 1 ; \"\"\").fetchall()     \n",
    "    return c[0][0]   "
   ]
  },
  {
   "cell_type": "code",
   "execution_count": 44,
   "metadata": {},
   "outputs": [],
   "source": [
    "def database_info(cursor, table_name, date_column_name):\n",
    "    \n",
    "        \n",
    "    \n",
    "    print(\"O banco de dados contém as seguintes tabelas: \")\n",
    "    \n",
    "    print(\"\\n\")\n",
    "    \n",
    "    for i in get_names_tables(cursor):\n",
    "        print(i[0])\n",
    "    \n",
    "    print(\"\\n\")\n",
    "    \n",
    "    print(\"O nome da tabela solicitada é :\" + table_name)\n",
    "    \n",
    "    print(\"\\n\")\n",
    "    \n",
    "    print(\"O nome das colunas são: \")\n",
    "    \n",
    "    print(\"\\n\")\n",
    "    \n",
    "    print(get_columns_names(cursor, table_name))\n",
    "    \n",
    "    print(\"\\n\")\n",
    "    \n",
    "    print(\"O número total de linhas é: \" + str(count_rows_table(cursor, table_name)))\n",
    "    \n",
    "    print(\"\\n\")\n",
    "    \n",
    "    print(\"A data mais recente dos dados é: \" + str(get_last_db_date(cursor,date_column_name, table_name)))\n",
    "    \n",
    "    print(\"\\n\")\n",
    "    \n",
    "    print(\"Todas as datas distintas e quantas linhas cada uma possui são: \")\n",
    "    \n",
    "    print(\"\\n\")\n",
    "    \n",
    "    print(distinct_values(table_name, date_column_name, cursor)) \n",
    "    \n",
    "    "
   ]
  },
  {
   "cell_type": "code",
   "execution_count": 45,
   "metadata": {},
   "outputs": [],
   "source": [
    "def get_new_crypto_in_yf(crypto_name, table_title, conn, end_date, index=False):\n",
    "    \n",
    " \n",
    "    df = get_data_btw_date(crypto_name, '2000-01-01', end_date)\n",
    "        \n",
    "    #### Data escolhida é bem antes do surgimento das criptomoedas no planeta terra\n",
    "        \n",
    "        \n",
    "    create_table(df, table_title, conn, index)\n",
    "    "
   ]
  },
  {
   "cell_type": "code",
   "execution_count": 46,
   "metadata": {},
   "outputs": [],
   "source": [
    "###### updating entire database for all assets ##########\n",
    "\n",
    "def insert_new_criptos_in_db(assets):\n",
    "    \n",
    "    day = past_n_days(1)\n",
    "    \n",
    "    day = day.strftime(\"%Y-%m-%d\")\n",
    "\n",
    "    for i in assets:\n",
    "        \n",
    "        try:\n",
    "\n",
    "            get_new_crypto_in_yf(assets[i], i, conn, day, index=False)\n",
    "            \n",
    "        \n",
    "        except Exception:\n",
    "            \n",
    "            print(str(assets[i]+ \" já  está no banco de dados!\"))\n",
    "            \n",
    "            continue"
   ]
  },
  {
   "cell_type": "code",
   "execution_count": 47,
   "metadata": {},
   "outputs": [],
   "source": [
    "assets = { 'BTC': 'BTC-USD', \n",
    "           'ETH': 'ETH-USD', \n",
    "           'USDT':'USDT-USD', \n",
    "           'USDC':'USDC-USD', \n",
    "           'BNB':'BNB-USD',\n",
    "           'BUSD':'BUSD-USD',\n",
    "           'XRP': 'XRP-USD',\n",
    "           'ADA': 'ADA-USD',\n",
    "           'SOL': 'SOL-USD',\n",
    "           'DOGE':'DOGE-USD',\n",
    "           'DOT': 'DOT-USD',\n",
    "           'HEX': 'HEX-USD',\n",
    "           'SHIB': 'SHIB-USD',\n",
    "           'DAI': 'DAI-USD',\n",
    "           'WTRX': 'WTRX-USD',\n",
    "           'AVAX':'AVAX-USD',\n",
    "           'MATIC': 'MATIC-USD',\n",
    "           'TRX': 'TRX-USD',\n",
    "           'STETH': 'STETH-USD',\n",
    "           'WBTC': 'WBTC-USD',\n",
    "           'UNI1': 'UNI1-USD',\n",
    "           'LEO': 'LEO-USD',\n",
    "           'ETC': 'ETC-USD',\n",
    "           'LTC': 'LTC-USD'\n",
    "         }"
   ]
  },
  {
   "cell_type": "markdown",
   "metadata": {},
   "source": [
    "#### Rodando"
   ]
  },
  {
   "cell_type": "code",
   "execution_count": 48,
   "metadata": {},
   "outputs": [],
   "source": [
    "conn = sqlite3.connect('crypto_data')\n",
    "c = conn.cursor()"
   ]
  },
  {
   "cell_type": "code",
   "execution_count": 49,
   "metadata": {
    "scrolled": true
   },
   "outputs": [
    {
     "name": "stdout",
     "output_type": "stream",
     "text": [
      "\n",
      "\n",
      "O último dia corrido é: 14-09-2022\n",
      "\n",
      "\n",
      "O último dia atualizado no banco de dados é: 2022-08-19\n",
      "\n",
      "\n",
      "Números de dias a serem atualizados:  26\n",
      "\n",
      "\n",
      "Datas a serem atualizadas no banco de dados:\n",
      "\n",
      "\n",
      "2022-09-14 00:00:00\n",
      "2022-09-13 00:00:00\n",
      "2022-09-12 00:00:00\n",
      "2022-09-11 00:00:00\n",
      "2022-09-10 00:00:00\n",
      "2022-09-09 00:00:00\n",
      "2022-09-08 00:00:00\n",
      "2022-09-07 00:00:00\n",
      "2022-09-06 00:00:00\n",
      "2022-09-05 00:00:00\n",
      "2022-09-04 00:00:00\n",
      "2022-09-03 00:00:00\n",
      "2022-09-02 00:00:00\n",
      "2022-09-01 00:00:00\n",
      "2022-08-31 00:00:00\n",
      "2022-08-30 00:00:00\n",
      "2022-08-29 00:00:00\n",
      "2022-08-28 00:00:00\n",
      "2022-08-27 00:00:00\n",
      "2022-08-26 00:00:00\n",
      "2022-08-25 00:00:00\n",
      "2022-08-24 00:00:00\n",
      "2022-08-23 00:00:00\n",
      "2022-08-22 00:00:00\n",
      "2022-08-21 00:00:00\n",
      "2022-08-20 00:00:00\n",
      "\n",
      "\n",
      "Downloadind from Yahoo Finance API ....\n",
      "\n",
      "\n",
      "Moeda Atualizada: BTC-USD\n",
      "[*********************100%***********************]  1 of 1 completed\n",
      "\n",
      "\n",
      "Os dados antes da atualização eram:\n",
      "\n",
      "\n",
      "('2022-08-19 00:00:00', 23213.3125, 23213.3125, 20868.84765625, 20877.552734375, 20877.552734375, 40509610260)\n",
      "('2022-08-18 00:00:00', 23341.0390625, 23563.83203125, 23177.6015625, 23212.73828125, 23212.73828125, 23747613147)\n",
      "('2022-08-17 00:00:00', 23881.31640625, 24407.05859375, 23243.353515625, 23335.998046875, 23335.998046875, 30931623076)\n",
      "('2022-08-16 00:00:00', 24126.13671875, 24228.416015625, 23733.5, 23883.291015625, 23883.291015625, 27753685646)\n",
      "('2022-08-15 00:00:00', 24318.31640625, 25135.58984375, 23839.775390625, 24136.97265625, 24136.97265625, 35123501685)\n",
      "\n",
      "\n",
      "\n",
      "\n",
      "Os novos dados são:\n",
      "\n",
      "\n",
      "('2022-09-14 00:00:00', 20184.5546875, 20467.201171875, 19793.396484375, 20241.08984375, 20241.08984375, 37872380889)\n",
      "('2022-09-13 00:00:00', 22371.48046875, 22673.8203125, 20062.669921875, 20296.70703125, 20296.70703125, 51091116622)\n",
      "('2022-09-12 00:00:00', 21770.1484375, 22439.181640625, 21603.896484375, 22370.44921875, 22370.44921875, 50212088965)\n",
      "('2022-09-11 00:00:00', 21678.54296875, 21770.552734375, 21406.9453125, 21769.255859375, 21769.255859375, 34493951963)\n",
      "('2022-09-10 00:00:00', 21376.912109375, 21760.275390625, 21168.72265625, 21680.5390625, 21680.5390625, 36913738894)\n",
      "\n",
      "\n",
      "\n",
      "\n",
      "O último dia corrido é: 14-09-2022\n",
      "\n",
      "\n",
      "O último dia atualizado no banco de dados é: 2022-08-19\n",
      "\n",
      "\n",
      "Números de dias a serem atualizados:  26\n",
      "\n",
      "\n",
      "Datas a serem atualizadas no banco de dados:\n",
      "\n",
      "\n",
      "2022-09-14 00:00:00\n",
      "2022-09-13 00:00:00\n",
      "2022-09-12 00:00:00\n",
      "2022-09-11 00:00:00\n",
      "2022-09-10 00:00:00\n",
      "2022-09-09 00:00:00\n",
      "2022-09-08 00:00:00\n",
      "2022-09-07 00:00:00\n",
      "2022-09-06 00:00:00\n",
      "2022-09-05 00:00:00\n",
      "2022-09-04 00:00:00\n",
      "2022-09-03 00:00:00\n",
      "2022-09-02 00:00:00\n",
      "2022-09-01 00:00:00\n",
      "2022-08-31 00:00:00\n",
      "2022-08-30 00:00:00\n",
      "2022-08-29 00:00:00\n",
      "2022-08-28 00:00:00\n",
      "2022-08-27 00:00:00\n",
      "2022-08-26 00:00:00\n",
      "2022-08-25 00:00:00\n",
      "2022-08-24 00:00:00\n",
      "2022-08-23 00:00:00\n",
      "2022-08-22 00:00:00\n",
      "2022-08-21 00:00:00\n",
      "2022-08-20 00:00:00\n",
      "\n",
      "\n",
      "Downloadind from Yahoo Finance API ....\n",
      "\n",
      "\n",
      "Moeda Atualizada: ETH-USD\n",
      "[*********************100%***********************]  1 of 1 completed\n",
      "\n",
      "\n",
      "Os dados antes da atualização eram:\n",
      "\n",
      "\n",
      "('2022-08-19 00:00:00', 1847.0953369140625, 1847.0953369140625, 1611.3388671875, 1612.9873046875, 1612.9873046875, 25906358731)\n",
      "('2022-08-18 00:00:00', 1833.715576171875, 1876.376953125, 1826.957763671875, 1847.0078125, 1847.0078125, 14999352229)\n",
      "('2022-08-17 00:00:00', 1877.934326171875, 1951.6756591796875, 1823.5322265625, 1832.9996337890625, 1832.9996337890625, 20308508124)\n",
      "('2022-08-16 00:00:00', 1902.8331298828125, 1910.745361328125, 1862.2734375, 1878.139404296875, 1878.139404296875, 15637578930)\n",
      "('2022-08-15 00:00:00', 1936.760498046875, 2007.2103271484375, 1881.8568115234375, 1904.2281494140625, 1904.2281494140625, 20349931313)\n",
      "\n",
      "\n",
      "\n",
      "\n",
      "Os novos dados são:\n",
      "\n",
      "\n",
      "('2022-09-14 00:00:00', 1574.858154296875, 1642.1572265625, 1564.0318603515625, 1634.7550048828125, 1634.7550048828125, 17897150206)\n",
      "('2022-09-13 00:00:00', 1713.9625244140625, 1745.779052734375, 1564.0318603515625, 1580.7879638671875, 1580.7879638671875, 23066821734)\n",
      "('2022-09-12 00:00:00', 1762.0848388671875, 1778.1634521484375, 1698.29345703125, 1713.7652587890625, 1713.7652587890625, 17688391310)\n",
      "('2022-09-11 00:00:00', 1775.97607421875, 1782.7298583984375, 1730.164794921875, 1761.800048828125, 1761.800048828125, 12464301922)\n",
      "('2022-09-10 00:00:00', 1718.9613037109375, 1784.497802734375, 1710.2969970703125, 1776.2037353515625, 1776.2037353515625, 13130928217)\n",
      "\n",
      "\n",
      "\n",
      "\n",
      "O último dia corrido é: 14-09-2022\n",
      "\n",
      "\n",
      "O último dia atualizado no banco de dados é: 2022-08-19\n",
      "\n",
      "\n",
      "Números de dias a serem atualizados:  26\n",
      "\n",
      "\n",
      "Datas a serem atualizadas no banco de dados:\n",
      "\n",
      "\n",
      "2022-09-14 00:00:00\n",
      "2022-09-13 00:00:00\n",
      "2022-09-12 00:00:00\n",
      "2022-09-11 00:00:00\n",
      "2022-09-10 00:00:00\n",
      "2022-09-09 00:00:00\n",
      "2022-09-08 00:00:00\n",
      "2022-09-07 00:00:00\n",
      "2022-09-06 00:00:00\n",
      "2022-09-05 00:00:00\n",
      "2022-09-04 00:00:00\n",
      "2022-09-03 00:00:00\n",
      "2022-09-02 00:00:00\n",
      "2022-09-01 00:00:00\n",
      "2022-08-31 00:00:00\n",
      "2022-08-30 00:00:00\n",
      "2022-08-29 00:00:00\n",
      "2022-08-28 00:00:00\n",
      "2022-08-27 00:00:00\n",
      "2022-08-26 00:00:00\n",
      "2022-08-25 00:00:00\n",
      "2022-08-24 00:00:00\n",
      "2022-08-23 00:00:00\n",
      "2022-08-22 00:00:00\n",
      "2022-08-21 00:00:00\n",
      "2022-08-20 00:00:00\n",
      "\n",
      "\n",
      "Downloadind from Yahoo Finance API ....\n",
      "\n",
      "\n",
      "Moeda Atualizada: USDT-USD\n",
      "[*********************100%***********************]  1 of 1 completed\n",
      "\n",
      "\n",
      "Os dados antes da atualização eram:\n",
      "\n",
      "\n",
      "('2022-08-19 00:00:00', 0.9999909996986389, 1.0001749992370605, 0.9999459981918335, 1.000059962272644, 1.000059962272644, 64302127382)\n",
      "('2022-08-18 00:00:00', 1.0000720024108887, 1.0001189708709717, 0.99993497133255, 0.9999989867210388, 0.9999989867210388, 43149679443)\n",
      "('2022-08-17 00:00:00', 1.0001250505447388, 1.0001319646835327, 0.9999970197677612, 1.000072956085205, 1.000072956085205, 53355167557)\n",
      "('2022-08-16 00:00:00', 1.000169038772583, 1.0003249645233154, 1.0000449419021606, 1.0001150369644165, 1.0001150369644165, 46945222159)\n",
      "('2022-08-15 00:00:00', 1.0002599954605103, 1.0003540515899658, 1.0001250505447388, 1.0001740455627441, 1.0001740455627441, 57703388667)\n",
      "\n",
      "\n",
      "\n",
      "\n",
      "Os novos dados são:\n",
      "\n",
      "\n",
      "('2022-09-14 00:00:00', 1.0000380277633667, 1.0002130270004272, 0.999974012374878, 1.000141978263855, 1.000141978263855, 55170613417)\n",
      "('2022-09-13 00:00:00', 1.000161051750183, 1.0003399848937988, 0.9999920129776, 1.0000250339508057, 1.0000250339508057, 71413926112)\n",
      "('2022-09-12 00:00:00', 1.0002809762954712, 1.0003230571746826, 1.0000979900360107, 1.0002039670944214, 1.0002039670944214, 66834639114)\n",
      "('2022-09-11 00:00:00', 1.0002789497375488, 1.0003429651260376, 1.0002219676971436, 1.00027596950531, 1.00027596950531, 47160062304)\n",
      "('2022-09-10 00:00:00', 1.0002349615097046, 1.0004199743270874, 1.0001670122146606, 1.0002809762954712, 1.0002809762954712, 53524443076)\n",
      "\n",
      "\n",
      "\n",
      "\n",
      "O último dia corrido é: 14-09-2022\n",
      "\n",
      "\n",
      "O último dia atualizado no banco de dados é: 2022-08-19\n",
      "\n",
      "\n",
      "Números de dias a serem atualizados:  26\n",
      "\n",
      "\n",
      "Datas a serem atualizadas no banco de dados:\n",
      "\n",
      "\n",
      "2022-09-14 00:00:00\n",
      "2022-09-13 00:00:00\n",
      "2022-09-12 00:00:00\n",
      "2022-09-11 00:00:00\n",
      "2022-09-10 00:00:00\n",
      "2022-09-09 00:00:00\n",
      "2022-09-08 00:00:00\n",
      "2022-09-07 00:00:00\n",
      "2022-09-06 00:00:00\n",
      "2022-09-05 00:00:00\n",
      "2022-09-04 00:00:00\n",
      "2022-09-03 00:00:00\n",
      "2022-09-02 00:00:00\n",
      "2022-09-01 00:00:00\n",
      "2022-08-31 00:00:00\n",
      "2022-08-30 00:00:00\n",
      "2022-08-29 00:00:00\n",
      "2022-08-28 00:00:00\n",
      "2022-08-27 00:00:00\n",
      "2022-08-26 00:00:00\n",
      "2022-08-25 00:00:00\n",
      "2022-08-24 00:00:00\n",
      "2022-08-23 00:00:00\n",
      "2022-08-22 00:00:00\n",
      "2022-08-21 00:00:00\n",
      "2022-08-20 00:00:00\n",
      "\n",
      "\n",
      "Downloadind from Yahoo Finance API ....\n",
      "\n",
      "\n",
      "Moeda Atualizada: USDC-USD\n",
      "[*********************100%***********************]  1 of 1 completed\n",
      "\n",
      "\n",
      "Os dados antes da atualização eram:\n",
      "\n",
      "\n",
      "('2022-08-19 00:00:00', 0.9999369978904724, 1.0003999471664429, 0.9994779825210571, 1.0000280141830444, 1.0000280141830444, 7104084896)\n",
      "('2022-08-18 00:00:00', 0.9999750256538391, 1.0001920461654663, 0.999625027179718, 0.9999070167541504, 0.9999070167541504, 5259309739)\n",
      "('2022-08-17 00:00:00', 1.0000640153884888, 1.0002609491348267, 0.9994210004806519, 0.9999549984931946, 0.9999549984931946, 6429626031)\n",
      "('2022-08-16 00:00:00', 0.9999150037765503, 1.0002319812774658, 0.9996209740638733, 1.00006103515625, 1.00006103515625, 6162980451)\n",
      "('2022-08-15 00:00:00', 0.9998819828033447, 1.0002609491348267, 0.9994590282440186, 0.9999489784240723, 0.9999489784240723, 7302904711)\n",
      "\n",
      "\n",
      "\n",
      "\n",
      "Os novos dados são:\n",
      "\n",
      "\n",
      "('2022-09-14 00:00:00', 0.9999650120735168, 1.0002679824829102, 0.9997699856758118, 1.000040054321289, 1.000040054321289, 5785823308)\n",
      "('2022-09-13 00:00:00', 1.000022053718567, 1.0002249479293823, 0.9993640184402466, 1.0001139640808103, 1.0001139640808103, 7447771857)\n",
      "('2022-09-12 00:00:00', 0.9999600052833556, 1.0002000331878662, 0.9995160102844238, 1.000010967254639, 1.000010967254639, 6603561164)\n",
      "('2022-09-11 00:00:00', 0.9998610019683838, 1.0002529621124268, 0.9996299743652344, 0.9999510049819946, 0.9999510049819946, 5285353049)\n",
      "('2022-09-10 00:00:00', 0.9999449849128724, 1.000223994255066, 0.9996860027313232, 0.9998630285263062, 0.9998630285263062, 6034410916)\n",
      "\n",
      "\n",
      "\n",
      "\n",
      "O último dia corrido é: 14-09-2022\n",
      "\n",
      "\n",
      "O último dia atualizado no banco de dados é: 2022-08-19\n",
      "\n",
      "\n",
      "Números de dias a serem atualizados:  26\n",
      "\n",
      "\n",
      "Datas a serem atualizadas no banco de dados:\n",
      "\n",
      "\n",
      "2022-09-14 00:00:00\n",
      "2022-09-13 00:00:00\n",
      "2022-09-12 00:00:00\n",
      "2022-09-11 00:00:00\n",
      "2022-09-10 00:00:00\n",
      "2022-09-09 00:00:00\n",
      "2022-09-08 00:00:00\n",
      "2022-09-07 00:00:00\n",
      "2022-09-06 00:00:00\n",
      "2022-09-05 00:00:00\n",
      "2022-09-04 00:00:00\n",
      "2022-09-03 00:00:00\n",
      "2022-09-02 00:00:00\n",
      "2022-09-01 00:00:00\n",
      "2022-08-31 00:00:00\n",
      "2022-08-30 00:00:00\n",
      "2022-08-29 00:00:00\n",
      "2022-08-28 00:00:00\n",
      "2022-08-27 00:00:00\n",
      "2022-08-26 00:00:00\n",
      "2022-08-25 00:00:00\n",
      "2022-08-24 00:00:00\n",
      "2022-08-23 00:00:00\n",
      "2022-08-22 00:00:00\n",
      "2022-08-21 00:00:00\n",
      "2022-08-20 00:00:00\n",
      "\n",
      "\n",
      "Downloadind from Yahoo Finance API ....\n",
      "\n",
      "\n",
      "Moeda Atualizada: BNB-USD\n"
     ]
    },
    {
     "name": "stdout",
     "output_type": "stream",
     "text": [
      "[*********************100%***********************]  1 of 1 completed\n",
      "\n",
      "\n",
      "Os dados antes da atualização eram:\n",
      "\n",
      "\n",
      "('2022-08-19 00:00:00', 298.15277099609375, 298.1907043457031, 278.5794372558594, 279.7187194824219, 279.7187194824219, 1598319492)\n",
      "('2022-08-18 00:00:00', 306.7964782714844, 310.1879577636719, 297.02642822265625, 298.1412353515625, 298.1412353515625, 1041814513)\n",
      "('2022-08-17 00:00:00', 316.401611328125, 323.2359924316406, 305.33489990234375, 306.63641357421875, 306.63641357421875, 1111784114)\n",
      "('2022-08-16 00:00:00', 319.7127685546875, 322.1582946777344, 312.8060607910156, 316.4236755371094, 316.4236755371094, 963072351)\n",
      "('2022-08-15 00:00:00', 318.032470703125, 326.8336486816406, 314.85809326171875, 319.8872985839844, 319.8872985839844, 1141553086)\n",
      "\n",
      "\n",
      "\n",
      "\n",
      "Os novos dados são:\n",
      "\n",
      "\n",
      "('2022-09-14 00:00:00', 277.4132995605469, 282.1502685546875, 274.83056640625, 279.3858642578125, 279.3858642578125, 956413768)\n",
      "('2022-09-13 00:00:00', 293.64923095703125, 297.6877136230469, 275.9689636230469, 277.5769348144531, 277.5769348144531, 1136956066)\n",
      "('2022-09-12 00:00:00', 295.1741027832031, 299.1763000488281, 291.15069580078125, 293.6587219238281, 293.6587219238281, 998624528)\n",
      "('2022-09-11 00:00:00', 296.91973876953125, 297.8752136230469, 291.3034973144531, 295.161865234375, 295.161865234375, 700835025)\n",
      "('2022-09-10 00:00:00', 293.39508056640625, 298.4418640136719, 291.24749755859375, 296.96905517578125, 296.96905517578125, 851195253)\n",
      "\n",
      "\n",
      "\n",
      "\n",
      "O último dia corrido é: 14-09-2022\n",
      "\n",
      "\n",
      "O último dia atualizado no banco de dados é: 2022-08-19\n",
      "\n",
      "\n",
      "Números de dias a serem atualizados:  26\n",
      "\n",
      "\n",
      "Datas a serem atualizadas no banco de dados:\n",
      "\n",
      "\n",
      "2022-09-14 00:00:00\n",
      "2022-09-13 00:00:00\n",
      "2022-09-12 00:00:00\n",
      "2022-09-11 00:00:00\n",
      "2022-09-10 00:00:00\n",
      "2022-09-09 00:00:00\n",
      "2022-09-08 00:00:00\n",
      "2022-09-07 00:00:00\n",
      "2022-09-06 00:00:00\n",
      "2022-09-05 00:00:00\n",
      "2022-09-04 00:00:00\n",
      "2022-09-03 00:00:00\n",
      "2022-09-02 00:00:00\n",
      "2022-09-01 00:00:00\n",
      "2022-08-31 00:00:00\n",
      "2022-08-30 00:00:00\n",
      "2022-08-29 00:00:00\n",
      "2022-08-28 00:00:00\n",
      "2022-08-27 00:00:00\n",
      "2022-08-26 00:00:00\n",
      "2022-08-25 00:00:00\n",
      "2022-08-24 00:00:00\n",
      "2022-08-23 00:00:00\n",
      "2022-08-22 00:00:00\n",
      "2022-08-21 00:00:00\n",
      "2022-08-20 00:00:00\n",
      "\n",
      "\n",
      "Downloadind from Yahoo Finance API ....\n",
      "\n",
      "\n",
      "Moeda Atualizada: BUSD-USD\n",
      "[*********************100%***********************]  1 of 1 completed\n",
      "\n",
      "\n",
      "Os dados antes da atualização eram:\n",
      "\n",
      "\n",
      "('2022-08-19 00:00:00', 1.0003010034561157, 1.0013140439987183, 0.99863201379776, 1.0001749992370605, 1.0001749992370605, 7543538943)\n",
      "('2022-08-18 00:00:00', 1.0001059770584106, 1.0009160041809082, 0.9995700120925903, 1.000257968902588, 1.000257968902588, 4491889715)\n",
      "('2022-08-17 00:00:00', 1.0000159740447998, 1.000622034072876, 0.9994840025901794, 1.0000790357589722, 1.0000790357589722, 5804551198)\n",
      "('2022-08-16 00:00:00', 0.999858021736145, 1.000486969947815, 0.9994609951972961, 0.9999930262565613, 0.9999930262565613, 5601078041)\n",
      "('2022-08-15 00:00:00', 0.9999300241470337, 1.0004669427871704, 0.9995650053024292, 0.9998559951782227, 0.9998559951782227, 6209795580)\n",
      "\n",
      "\n",
      "\n",
      "\n",
      "Os novos dados são:\n",
      "\n",
      "\n",
      "('2022-09-14 00:00:00', 1.0000139474868774, 1.0011680126190186, 0.9988399744033812, 0.9998959898948668, 0.9998959898948668, 9927670952)\n",
      "('2022-09-13 00:00:00', 1.0002399682998655, 1.000476956367493, 0.9994329810142516, 1.0002440214157104, 1.0002440214157104, 13203751025)\n",
      "('2022-09-12 00:00:00', 0.9998930096626282, 1.0004810094833374, 0.9994270205497742, 1.0002440214157104, 1.0002440214157104, 11986192446)\n",
      "('2022-09-11 00:00:00', 0.9999150037765504, 1.00041401386261, 0.9994109869003296, 0.9998599886894226, 0.9998599886894226, 8265336407)\n",
      "('2022-09-10 00:00:00', 0.9999229907989502, 1.000488042831421, 0.9996749758720398, 0.999978005886078, 0.999978005886078, 9634577353)\n",
      "\n",
      "\n",
      "\n",
      "\n",
      "O último dia corrido é: 14-09-2022\n",
      "\n",
      "\n",
      "O último dia atualizado no banco de dados é: 2022-08-19\n",
      "\n",
      "\n",
      "Números de dias a serem atualizados:  26\n",
      "\n",
      "\n",
      "Datas a serem atualizadas no banco de dados:\n",
      "\n",
      "\n",
      "2022-09-14 00:00:00\n",
      "2022-09-13 00:00:00\n",
      "2022-09-12 00:00:00\n",
      "2022-09-11 00:00:00\n",
      "2022-09-10 00:00:00\n",
      "2022-09-09 00:00:00\n",
      "2022-09-08 00:00:00\n",
      "2022-09-07 00:00:00\n",
      "2022-09-06 00:00:00\n",
      "2022-09-05 00:00:00\n",
      "2022-09-04 00:00:00\n",
      "2022-09-03 00:00:00\n",
      "2022-09-02 00:00:00\n",
      "2022-09-01 00:00:00\n",
      "2022-08-31 00:00:00\n",
      "2022-08-30 00:00:00\n",
      "2022-08-29 00:00:00\n",
      "2022-08-28 00:00:00\n",
      "2022-08-27 00:00:00\n",
      "2022-08-26 00:00:00\n",
      "2022-08-25 00:00:00\n",
      "2022-08-24 00:00:00\n",
      "2022-08-23 00:00:00\n",
      "2022-08-22 00:00:00\n",
      "2022-08-21 00:00:00\n",
      "2022-08-20 00:00:00\n",
      "\n",
      "\n",
      "Downloadind from Yahoo Finance API ....\n",
      "\n",
      "\n",
      "Moeda Atualizada: XRP-USD\n",
      "[*********************100%***********************]  1 of 1 completed\n",
      "\n",
      "\n",
      "Os dados antes da atualização eram:\n",
      "\n",
      "\n",
      "('2022-08-19 00:00:00', 0.3709689974784851, 0.3709689974784851, 0.33380600810050964, 0.33504900336265564, 0.33504900336265564, 1645536381)\n",
      "('2022-08-18 00:00:00', 0.37971100211143494, 0.3808619976043701, 0.3709149956703186, 0.37096500396728516, 0.37096500396728516, 927786270)\n",
      "('2022-08-17 00:00:00', 0.3772270083427429, 0.39089301228523254, 0.369841992855072, 0.379707008600235, 0.379707008600235, 1408497181)\n",
      "('2022-08-16 00:00:00', 0.3756659924983978, 0.37762901186943054, 0.3680419921875, 0.3772369921207428, 0.3772369921207428, 930440616)\n",
      "('2022-08-15 00:00:00', 0.3764509856700897, 0.38478100299835205, 0.36796098947525024, 0.37577399611473083, 0.37577399611473083, 1046905199)\n",
      "\n",
      "\n",
      "\n",
      "\n",
      "Os novos dados são:\n",
      "\n",
      "\n",
      "('2022-09-14 00:00:00', 0.33296000957489014, 0.34389299154281616, 0.3324260115623474, 0.3420819938182831, 0.3420819938182831, 1227835854)\n",
      "('2022-09-13 00:00:00', 0.35946398973464966, 0.35964301228523254, 0.33204400539398193, 0.3336920142173767, 0.3336920142173767, 1443625685)\n",
      "('2022-09-12 00:00:00', 0.35514500737190247, 0.3594450056552887, 0.34926900267601013, 0.3594450056552887, 0.3594450056552887, 1077587297)\n",
      "('2022-09-11 00:00:00', 0.357683002948761, 0.35953399538993835, 0.35176101326942444, 0.355118989944458, 0.355118989944458, 650515883)\n",
      "('2022-09-10 00:00:00', 0.35746800899505615, 0.3612470030784607, 0.3530089855194092, 0.357681006193161, 0.357681006193161, 851397394)\n",
      "\n",
      "\n",
      "\n",
      "\n",
      "O último dia corrido é: 14-09-2022\n",
      "\n",
      "\n",
      "O último dia atualizado no banco de dados é: 2022-08-19\n",
      "\n",
      "\n",
      "Números de dias a serem atualizados:  26\n",
      "\n",
      "\n",
      "Datas a serem atualizadas no banco de dados:\n",
      "\n",
      "\n",
      "2022-09-14 00:00:00\n",
      "2022-09-13 00:00:00\n",
      "2022-09-12 00:00:00\n",
      "2022-09-11 00:00:00\n",
      "2022-09-10 00:00:00\n",
      "2022-09-09 00:00:00\n",
      "2022-09-08 00:00:00\n",
      "2022-09-07 00:00:00\n",
      "2022-09-06 00:00:00\n",
      "2022-09-05 00:00:00\n",
      "2022-09-04 00:00:00\n",
      "2022-09-03 00:00:00\n",
      "2022-09-02 00:00:00\n",
      "2022-09-01 00:00:00\n",
      "2022-08-31 00:00:00\n",
      "2022-08-30 00:00:00\n",
      "2022-08-29 00:00:00\n",
      "2022-08-28 00:00:00\n",
      "2022-08-27 00:00:00\n",
      "2022-08-26 00:00:00\n",
      "2022-08-25 00:00:00\n",
      "2022-08-24 00:00:00\n",
      "2022-08-23 00:00:00\n",
      "2022-08-22 00:00:00\n",
      "2022-08-21 00:00:00\n",
      "2022-08-20 00:00:00\n",
      "\n",
      "\n",
      "Downloadind from Yahoo Finance API ....\n",
      "\n",
      "\n",
      "Moeda Atualizada: ADA-USD\n",
      "[*********************100%***********************]  1 of 1 completed\n",
      "\n",
      "\n",
      "Os dados antes da atualização eram:\n",
      "\n",
      "\n",
      "('2022-08-19 00:00:00', 0.5126979947090149, 0.5126979947090149, 0.4493190050125122, 0.450980007648468, 0.450980007648468, 1294433367)\n",
      "('2022-08-18 00:00:00', 0.5372999906539917, 0.5429829955101013, 0.5114129781723022, 0.5126330256462097, 0.5126330256462097, 642877241)\n",
      "('2022-08-17 00:00:00', 0.5579209923744202, 0.579925000667572, 0.5329669713973999, 0.5370380282402039, 0.5370380282402039, 1035477916)\n",
      "('2022-08-16 00:00:00', 0.5510039925575256, 0.5692669749259949, 0.5491570234298706, 0.5579149723052979, 0.5579149723052979, 734187541)\n",
      "('2022-08-15 00:00:00', 0.5703859925270081, 0.5810099840164185, 0.5456050038337708, 0.5511710047721863, 0.5511710047721863, 876107175)\n",
      "\n",
      "\n",
      "\n",
      "\n",
      "Os novos dados são:\n",
      "\n",
      "\n",
      "('2022-09-14 00:00:00', 0.4639120101928711, 0.485709011554718, 0.4630489945411682, 0.4813759922981262, 0.4813759922981262, 737527013)\n",
      "('2022-09-13 00:00:00', 0.5014950037002563, 0.5075240135192871, 0.4629139900207519, 0.4688810110092163, 0.4688810110092163, 1004511415)\n",
      "('2022-09-12 00:00:00', 0.50975102186203, 0.5188620090484619, 0.4978199899196625, 0.5015460252761841, 0.5015460252761841, 856809100)\n",
      "('2022-09-11 00:00:00', 0.5123800039291382, 0.5191500186920166, 0.5033079981803894, 0.5097519755363464, 0.5097519755363464, 705305295)\n",
      "('2022-09-10 00:00:00', 0.5028420090675354, 0.5234929919242859, 0.4963620007038117, 0.5124220252037048, 0.5124220252037048, 995666468)\n",
      "\n",
      "\n",
      "\n",
      "\n",
      "O último dia corrido é: 14-09-2022\n",
      "\n",
      "\n",
      "O último dia atualizado no banco de dados é: 2022-08-19\n",
      "\n",
      "\n",
      "Números de dias a serem atualizados:  26\n",
      "\n",
      "\n",
      "Datas a serem atualizadas no banco de dados:\n",
      "\n",
      "\n",
      "2022-09-14 00:00:00\n",
      "2022-09-13 00:00:00\n",
      "2022-09-12 00:00:00\n",
      "2022-09-11 00:00:00\n",
      "2022-09-10 00:00:00\n",
      "2022-09-09 00:00:00\n",
      "2022-09-08 00:00:00\n",
      "2022-09-07 00:00:00\n",
      "2022-09-06 00:00:00\n",
      "2022-09-05 00:00:00\n",
      "2022-09-04 00:00:00\n",
      "2022-09-03 00:00:00\n",
      "2022-09-02 00:00:00\n",
      "2022-09-01 00:00:00\n",
      "2022-08-31 00:00:00\n",
      "2022-08-30 00:00:00\n",
      "2022-08-29 00:00:00\n",
      "2022-08-28 00:00:00\n",
      "2022-08-27 00:00:00\n",
      "2022-08-26 00:00:00\n",
      "2022-08-25 00:00:00\n",
      "2022-08-24 00:00:00\n",
      "2022-08-23 00:00:00\n",
      "2022-08-22 00:00:00\n",
      "2022-08-21 00:00:00\n",
      "2022-08-20 00:00:00\n",
      "\n",
      "\n",
      "Downloadind from Yahoo Finance API ....\n",
      "\n",
      "\n",
      "Moeda Atualizada: SOL-USD\n"
     ]
    },
    {
     "name": "stdout",
     "output_type": "stream",
     "text": [
      "[*********************100%***********************]  1 of 1 completed\n",
      "\n",
      "\n",
      "Os dados antes da atualização eram:\n",
      "\n",
      "\n",
      "('2022-08-19 00:00:00', 39.54132843017578, 39.54132843017578, 35.755027770996094, 35.8902587890625, 35.8902587890625, 1821467945)\n",
      "('2022-08-18 00:00:00', 40.426509857177734, 41.607303619384766, 39.525936126708984, 39.545230865478516, 39.545230865478516, 885648540)\n",
      "('2022-08-17 00:00:00', 43.15305709838867, 44.633087158203125, 40.28676986694336, 40.403053283691406, 40.403053283691406, 1336772691)\n",
      "('2022-08-16 00:00:00', 43.806095123291016, 44.1871223449707, 42.78215408325195, 43.15880584716797, 43.15880584716797, 1131452045)\n",
      "('2022-08-15 00:00:00', 44.92243957519531, 47.127540588378906, 42.90903091430664, 43.82322311401367, 43.82322311401367, 1364253429)\n",
      "\n",
      "\n",
      "\n",
      "\n",
      "Os novos dados são:\n",
      "\n",
      "\n",
      "('2022-09-14 00:00:00', 33.01827621459961, 34.28319549560547, 32.870452880859375, 34.09157180786133, 34.09157180786133, 1003604224)\n",
      "('2022-09-13 00:00:00', 37.421607971191406, 38.870384216308594, 32.870452880859375, 33.430816650390625, 33.430816650390625, 1785181627)\n",
      "('2022-09-12 00:00:00', 34.96744155883789, 38.1690788269043, 34.5079231262207, 37.4241828918457, 37.4241828918457, 1701399970)\n",
      "('2022-09-11 00:00:00', 35.122840881347656, 35.89952087402344, 34.12443542480469, 34.96596145629883, 34.96596145629883, 757216096)\n",
      "('2022-09-10 00:00:00', 34.73285675048828, 35.36214065551758, 34.369415283203125, 35.12672805786133, 35.12672805786133, 731145106)\n",
      "\n",
      "\n",
      "\n",
      "\n",
      "O último dia corrido é: 14-09-2022\n",
      "\n",
      "\n",
      "O último dia atualizado no banco de dados é: 2022-08-19\n",
      "\n",
      "\n",
      "Números de dias a serem atualizados:  26\n",
      "\n",
      "\n",
      "Datas a serem atualizadas no banco de dados:\n",
      "\n",
      "\n",
      "2022-09-14 00:00:00\n",
      "2022-09-13 00:00:00\n",
      "2022-09-12 00:00:00\n",
      "2022-09-11 00:00:00\n",
      "2022-09-10 00:00:00\n",
      "2022-09-09 00:00:00\n",
      "2022-09-08 00:00:00\n",
      "2022-09-07 00:00:00\n",
      "2022-09-06 00:00:00\n",
      "2022-09-05 00:00:00\n",
      "2022-09-04 00:00:00\n",
      "2022-09-03 00:00:00\n",
      "2022-09-02 00:00:00\n",
      "2022-09-01 00:00:00\n",
      "2022-08-31 00:00:00\n",
      "2022-08-30 00:00:00\n",
      "2022-08-29 00:00:00\n",
      "2022-08-28 00:00:00\n",
      "2022-08-27 00:00:00\n",
      "2022-08-26 00:00:00\n",
      "2022-08-25 00:00:00\n",
      "2022-08-24 00:00:00\n",
      "2022-08-23 00:00:00\n",
      "2022-08-22 00:00:00\n",
      "2022-08-21 00:00:00\n",
      "2022-08-20 00:00:00\n",
      "\n",
      "\n",
      "Downloadind from Yahoo Finance API ....\n",
      "\n",
      "\n",
      "Moeda Atualizada: DOGE-USD\n",
      "[*********************100%***********************]  1 of 1 completed\n",
      "\n",
      "\n",
      "Os dados antes da atualização eram:\n",
      "\n",
      "\n",
      "('2022-08-19 00:00:00', 0.07504499703645706, 0.07518299669027328, 0.06753599643707275, 0.06793899834156036, 0.06793899834156036, 965543533)\n",
      "('2022-08-18 00:00:00', 0.08017399907112122, 0.08208700269460678, 0.07498899847269058, 0.07507900148630142, 0.07507900148630142, 621394159)\n",
      "('2022-08-17 00:00:00', 0.08693300187587738, 0.08811300247907639, 0.079926997423172, 0.08015400171279907, 0.08015400171279907, 996272861)\n",
      "('2022-08-16 00:00:00', 0.07669500261545181, 0.08863899856805801, 0.07639399915933609, 0.08696399629116058, 0.08696399629116058, 1947377918)\n",
      "('2022-08-15 00:00:00', 0.08169800043106079, 0.08182000368833542, 0.0751509964466095, 0.07671999931335449, 0.07671999931335449, 855017472)\n",
      "\n",
      "\n",
      "\n",
      "\n",
      "Os novos dados são:\n",
      "\n",
      "\n",
      "('2022-09-14 00:00:00', 0.05971699953079224, 0.06142500042915344, 0.05954200029373169, 0.06117299944162369, 0.06117299944162369, 369554274)\n",
      "('2022-09-13 00:00:00', 0.06390299648046494, 0.06398099660873413, 0.05952399969100952, 0.06012900173664093, 0.06012900173664093, 461644993)\n",
      "('2022-09-12 00:00:00', 0.06371500343084335, 0.06519400328397751, 0.06287799775600433, 0.06390500068664551, 0.06390500068664551, 383630739)\n",
      "('2022-09-11 00:00:00', 0.06477099657058716, 0.0651869997382164, 0.06300999969244003, 0.06371399760246277, 0.06371399760246277, 327741964)\n",
      "('2022-09-10 00:00:00', 0.06400900334119797, 0.0652410015463829, 0.06340400129556656, 0.06477600336074829, 0.06477600336074829, 413101249)\n",
      "\n",
      "\n",
      "\n",
      "\n",
      "O último dia corrido é: 14-09-2022\n",
      "\n",
      "\n",
      "O último dia atualizado no banco de dados é: 2022-08-19\n",
      "\n",
      "\n",
      "Números de dias a serem atualizados:  26\n",
      "\n",
      "\n",
      "Datas a serem atualizadas no banco de dados:\n",
      "\n",
      "\n",
      "2022-09-14 00:00:00\n",
      "2022-09-13 00:00:00\n",
      "2022-09-12 00:00:00\n",
      "2022-09-11 00:00:00\n",
      "2022-09-10 00:00:00\n",
      "2022-09-09 00:00:00\n",
      "2022-09-08 00:00:00\n",
      "2022-09-07 00:00:00\n",
      "2022-09-06 00:00:00\n",
      "2022-09-05 00:00:00\n",
      "2022-09-04 00:00:00\n",
      "2022-09-03 00:00:00\n",
      "2022-09-02 00:00:00\n",
      "2022-09-01 00:00:00\n",
      "2022-08-31 00:00:00\n",
      "2022-08-30 00:00:00\n",
      "2022-08-29 00:00:00\n",
      "2022-08-28 00:00:00\n",
      "2022-08-27 00:00:00\n",
      "2022-08-26 00:00:00\n",
      "2022-08-25 00:00:00\n",
      "2022-08-24 00:00:00\n",
      "2022-08-23 00:00:00\n",
      "2022-08-22 00:00:00\n",
      "2022-08-21 00:00:00\n",
      "2022-08-20 00:00:00\n",
      "\n",
      "\n",
      "Downloadind from Yahoo Finance API ....\n",
      "\n",
      "\n",
      "Moeda Atualizada: DOT-USD\n",
      "[*********************100%***********************]  1 of 1 completed\n",
      "\n",
      "\n",
      "Os dados antes da atualização eram:\n",
      "\n",
      "\n",
      "('2022-08-19 00:00:00', 8.092451095581055, 8.092451095581055, 7.269280910491943, 7.325466156005859, 7.325466156005859, 529309050)\n",
      "('2022-08-18 00:00:00', 8.363876342773438, 8.557719230651855, 8.093748092651367, 8.09457015991211, 8.09457015991211, 348830388)\n",
      "('2022-08-17 00:00:00', 8.842143058776855, 9.150632858276367, 8.348932266235352, 8.359841346740723, 8.359841346740723, 466651848)\n",
      "('2022-08-16 00:00:00', 8.796706199645996, 8.89738941192627, 8.65876293182373, 8.842569351196289, 8.842569351196289, 386335442)\n",
      "('2022-08-15 00:00:00', 8.95942211151123, 9.369622230529785, 8.653827667236328, 8.80242919921875, 8.80242919921875, 515446124)\n",
      "\n",
      "\n",
      "\n",
      "\n",
      "Os novos dados são:\n",
      "\n",
      "\n",
      "('2022-09-14 00:00:00', 7.075026035308838, 7.283329010009766, 7.050817966461182, 7.20316219329834, 7.20316219329834, 318044357)\n",
      "('2022-09-13 00:00:00', 7.662024021148682, 7.918828964233398, 7.050817966461182, 7.134012222290039, 7.134012222290039, 478905956)\n",
      "('2022-09-12 00:00:00', 7.698387145996094, 8.033982276916504, 7.587330818176269, 7.6618452072143555, 7.6618452072143555, 479107652)\n",
      "('2022-09-11 00:00:00', 7.784695148468018, 7.854189872741699, 7.588059902191162, 7.698151111602783, 7.698151111602783, 275936800)\n",
      "('2022-09-10 00:00:00', 7.767571926116943, 7.858920097351074, 7.620790958404541, 7.78572416305542, 7.78572416305542, 312935484)\n",
      "\n",
      "\n",
      "\n",
      "\n",
      "O último dia corrido é: 14-09-2022\n",
      "\n",
      "\n",
      "O último dia atualizado no banco de dados é: 2022-08-19\n",
      "\n",
      "\n",
      "Números de dias a serem atualizados:  26\n",
      "\n",
      "\n",
      "Datas a serem atualizadas no banco de dados:\n",
      "\n",
      "\n",
      "2022-09-14 00:00:00\n",
      "2022-09-13 00:00:00\n",
      "2022-09-12 00:00:00\n",
      "2022-09-11 00:00:00\n",
      "2022-09-10 00:00:00\n",
      "2022-09-09 00:00:00\n",
      "2022-09-08 00:00:00\n",
      "2022-09-07 00:00:00\n",
      "2022-09-06 00:00:00\n",
      "2022-09-05 00:00:00\n",
      "2022-09-04 00:00:00\n",
      "2022-09-03 00:00:00\n",
      "2022-09-02 00:00:00\n",
      "2022-09-01 00:00:00\n",
      "2022-08-31 00:00:00\n",
      "2022-08-30 00:00:00\n",
      "2022-08-29 00:00:00\n",
      "2022-08-28 00:00:00\n",
      "2022-08-27 00:00:00\n",
      "2022-08-26 00:00:00\n",
      "2022-08-25 00:00:00\n",
      "2022-08-24 00:00:00\n",
      "2022-08-23 00:00:00\n",
      "2022-08-22 00:00:00\n",
      "2022-08-21 00:00:00\n",
      "2022-08-20 00:00:00\n",
      "\n",
      "\n",
      "Downloadind from Yahoo Finance API ....\n",
      "\n",
      "\n",
      "Moeda Atualizada: HEX-USD\n",
      "[*********************100%***********************]  1 of 1 completed\n",
      "\n",
      "\n",
      "Os dados antes da atualização eram:\n",
      "\n",
      "\n",
      "('2022-08-19 00:00:00', 0.05315599963068962, 0.05315599963068962, 0.04049000144004822, 0.040630001574754715, 0.040630001574754715, 25925194)\n",
      "('2022-08-18 00:00:00', 0.058667998760938644, 0.059060998260974884, 0.05315899848937988, 0.05316299945116043, 0.05316299945116043, 15195044)\n",
      "('2022-08-17 00:00:00', 0.059505999088287354, 0.06598299741744995, 0.05727599933743477, 0.058667998760938644, 0.058667998760938644, 16662934)\n",
      "('2022-08-16 00:00:00', 0.06356800347566605, 0.06379500031471252, 0.05749500170350075, 0.05952399969100952, 0.05952399969100952, 22282462)\n",
      "('2022-08-15 00:00:00', 0.0678509995341301, 0.06956599652767181, 0.0615059994161129, 0.0636100023984909, 0.0636100023984909, 21897812)\n",
      "\n",
      "\n",
      "\n",
      "\n",
      "Os novos dados são:\n",
      "\n",
      "\n",
      "('2022-09-14 00:00:00', 0.03730100020766258, 0.03823100030422211, 0.03604099899530411, 0.03672900050878525, 0.03672900050878525, 6963859)\n",
      "('2022-09-13 00:00:00', 0.040072001516819, 0.04009300097823143, 0.03703099861741066, 0.03747500106692314, 0.03747500106692314, 10745425)\n",
      "('2022-09-12 00:00:00', 0.039817001670598984, 0.0406309999525547, 0.03957799822092056, 0.04005999863147736, 0.04005999863147736, 7559017)\n",
      "('2022-09-11 00:00:00', 0.0398159995675087, 0.03984300047159195, 0.038860999047756195, 0.03981300070881843, 0.03981300070881843, 7644066)\n",
      "('2022-09-10 00:00:00', 0.04037899896502495, 0.040477998554706573, 0.03931700065732002, 0.03982799872756004, 0.03982799872756004, 6179835)\n",
      "\n",
      "\n",
      "\n",
      "\n",
      "O último dia corrido é: 14-09-2022\n",
      "\n",
      "\n",
      "O último dia atualizado no banco de dados é: 2022-08-19\n",
      "\n",
      "\n",
      "Números de dias a serem atualizados:  26\n",
      "\n",
      "\n",
      "Datas a serem atualizadas no banco de dados:\n",
      "\n",
      "\n",
      "2022-09-14 00:00:00\n",
      "2022-09-13 00:00:00\n",
      "2022-09-12 00:00:00\n",
      "2022-09-11 00:00:00\n",
      "2022-09-10 00:00:00\n",
      "2022-09-09 00:00:00\n",
      "2022-09-08 00:00:00\n",
      "2022-09-07 00:00:00\n",
      "2022-09-06 00:00:00\n",
      "2022-09-05 00:00:00\n",
      "2022-09-04 00:00:00\n",
      "2022-09-03 00:00:00\n",
      "2022-09-02 00:00:00\n",
      "2022-09-01 00:00:00\n",
      "2022-08-31 00:00:00\n",
      "2022-08-30 00:00:00\n",
      "2022-08-29 00:00:00\n",
      "2022-08-28 00:00:00\n",
      "2022-08-27 00:00:00\n",
      "2022-08-26 00:00:00\n",
      "2022-08-25 00:00:00\n",
      "2022-08-24 00:00:00\n",
      "2022-08-23 00:00:00\n",
      "2022-08-22 00:00:00\n",
      "2022-08-21 00:00:00\n",
      "2022-08-20 00:00:00\n",
      "\n",
      "\n",
      "Downloadind from Yahoo Finance API ....\n",
      "\n",
      "\n",
      "Moeda Atualizada: SHIB-USD\n"
     ]
    },
    {
     "name": "stdout",
     "output_type": "stream",
     "text": [
      "[*********************100%***********************]  1 of 1 completed\n",
      "\n",
      "\n",
      "Os dados antes da atualização eram:\n",
      "\n",
      "\n",
      "('2022-08-19 00:00:00', 1.4000000192027073e-05, 1.4000000192027073e-05, 1.2999999853491317e-05, 1.2999999853491317e-05, 1.2999999853491317e-05, 1128117927)\n",
      "('2022-08-18 00:00:00', 1.4999999621068127e-05, 1.4999999621068127e-05, 1.4000000192027073e-05, 1.4000000192027073e-05, 1.4000000192027073e-05, 557409408)\n",
      "('2022-08-17 00:00:00', 1.5999999959603883e-05, 1.5999999959603883e-05, 1.4999999621068127e-05, 1.4999999621068127e-05, 1.4999999621068127e-05, 1047374797)\n",
      "('2022-08-16 00:00:00', 1.4999999621068127e-05, 1.5999999959603883e-05, 1.4999999621068127e-05, 1.5999999959603883e-05, 1.5999999959603883e-05, 1302891507)\n",
      "('2022-08-15 00:00:00', 1.700000029813964e-05, 1.700000029813964e-05, 1.4999999621068127e-05, 1.4999999621068127e-05, 1.4999999621068127e-05, 2327359499)\n",
      "\n",
      "\n",
      "\n",
      "\n",
      "Os novos dados são:\n",
      "\n",
      "\n",
      "('2022-09-14 00:00:00', 1.2000000424450263e-05, 1.2000000424450263e-05, 1.2000000424450263e-05, 1.2000000424450263e-05, 1.2000000424450263e-05, 323663527)\n",
      "('2022-09-13 00:00:00', 1.2999999853491316e-05, 1.2999999853491316e-05, 1.2000000424450263e-05, 1.2000000424450263e-05, 1.2000000424450263e-05, 455179755)\n",
      "('2022-09-12 00:00:00', 1.2999999853491316e-05, 1.2999999853491316e-05, 1.2999999853491316e-05, 1.2999999853491316e-05, 1.2999999853491316e-05, 502161292)\n",
      "('2022-09-11 00:00:00', 1.2999999853491316e-05, 1.2999999853491316e-05, 1.2999999853491316e-05, 1.2999999853491316e-05, 1.2999999853491316e-05, 539982450)\n",
      "('2022-09-10 00:00:00', 1.2999999853491316e-05, 1.2999999853491316e-05, 1.2999999853491316e-05, 1.2999999853491316e-05, 1.2999999853491316e-05, 650509216)\n",
      "\n",
      "\n",
      "\n",
      "\n",
      "O último dia corrido é: 14-09-2022\n",
      "\n",
      "\n",
      "O último dia atualizado no banco de dados é: 2022-08-19\n",
      "\n",
      "\n",
      "Números de dias a serem atualizados:  26\n",
      "\n",
      "\n",
      "Datas a serem atualizadas no banco de dados:\n",
      "\n",
      "\n",
      "2022-09-14 00:00:00\n",
      "2022-09-13 00:00:00\n",
      "2022-09-12 00:00:00\n",
      "2022-09-11 00:00:00\n",
      "2022-09-10 00:00:00\n",
      "2022-09-09 00:00:00\n",
      "2022-09-08 00:00:00\n",
      "2022-09-07 00:00:00\n",
      "2022-09-06 00:00:00\n",
      "2022-09-05 00:00:00\n",
      "2022-09-04 00:00:00\n",
      "2022-09-03 00:00:00\n",
      "2022-09-02 00:00:00\n",
      "2022-09-01 00:00:00\n",
      "2022-08-31 00:00:00\n",
      "2022-08-30 00:00:00\n",
      "2022-08-29 00:00:00\n",
      "2022-08-28 00:00:00\n",
      "2022-08-27 00:00:00\n",
      "2022-08-26 00:00:00\n",
      "2022-08-25 00:00:00\n",
      "2022-08-24 00:00:00\n",
      "2022-08-23 00:00:00\n",
      "2022-08-22 00:00:00\n",
      "2022-08-21 00:00:00\n",
      "2022-08-20 00:00:00\n",
      "\n",
      "\n",
      "Downloadind from Yahoo Finance API ....\n",
      "\n",
      "\n",
      "Moeda Atualizada: DAI-USD\n",
      "[*********************100%***********************]  1 of 1 completed\n",
      "\n",
      "\n",
      "Os dados antes da atualização eram:\n",
      "\n",
      "\n",
      "('2022-08-19 00:00:00', 0.9985340237617493, 1.000764012336731, 0.9976990222930908, 0.9989290237426758, 0.9989290237426758, 808502472)\n",
      "('2022-08-18 00:00:00', 0.999530017375946, 1.000646948814392, 0.9984970092773438, 0.9986600279808044, 0.9986600279808044, 333647252)\n",
      "('2022-08-17 00:00:00', 0.9998409748077393, 1.0009440183639526, 0.9969170093536377, 0.9994469881057739, 0.9994469881057739, 575993160)\n",
      "('2022-08-16 00:00:00', 0.9995189905166626, 1.0003470182418823, 0.9980859756469727, 0.9998459815979004, 0.9998459815979004, 522823197)\n",
      "('2022-08-15 00:00:00', 0.9994850158691406, 1.0012019872665405, 0.9979249835014343, 0.999563992023468, 0.999563992023468, 637063804)\n",
      "\n",
      "\n",
      "\n",
      "\n",
      "Os novos dados são:\n",
      "\n",
      "\n",
      "('2022-09-14 00:00:00', 0.9985079765319824, 1.0005370378494265, 0.9981719851493835, 1.000116944313049, 1.000116944313049, 698410149)\n",
      "('2022-09-13 00:00:00', 0.9998340010643004, 1.000296950340271, 0.9965929985046388, 0.999750018119812, 0.999750018119812, 851331148)\n",
      "('2022-09-12 00:00:00', 1.0002739429473877, 1.0005569458007812, 0.9973719716072084, 0.9997590184211732, 0.9997590184211732, 469114833)\n",
      "('2022-09-11 00:00:00', 0.9998250007629396, 1.0005409717559814, 0.9984480142593384, 1.0001970529556274, 1.0001970529556274, 340002365)\n",
      "('2022-09-10 00:00:00', 1.000113010406494, 1.000506043434143, 0.9990339875221252, 0.9997159838676452, 0.9997159838676452, 345615261)\n",
      "\n",
      "\n",
      "\n",
      "\n",
      "O último dia corrido é: 14-09-2022\n",
      "\n",
      "\n",
      "O último dia atualizado no banco de dados é: 2022-08-19\n",
      "\n",
      "\n",
      "Números de dias a serem atualizados:  26\n",
      "\n",
      "\n",
      "Datas a serem atualizadas no banco de dados:\n",
      "\n",
      "\n",
      "2022-09-14 00:00:00\n",
      "2022-09-13 00:00:00\n",
      "2022-09-12 00:00:00\n",
      "2022-09-11 00:00:00\n",
      "2022-09-10 00:00:00\n",
      "2022-09-09 00:00:00\n",
      "2022-09-08 00:00:00\n",
      "2022-09-07 00:00:00\n",
      "2022-09-06 00:00:00\n",
      "2022-09-05 00:00:00\n",
      "2022-09-04 00:00:00\n",
      "2022-09-03 00:00:00\n",
      "2022-09-02 00:00:00\n",
      "2022-09-01 00:00:00\n",
      "2022-08-31 00:00:00\n",
      "2022-08-30 00:00:00\n",
      "2022-08-29 00:00:00\n",
      "2022-08-28 00:00:00\n",
      "2022-08-27 00:00:00\n",
      "2022-08-26 00:00:00\n",
      "2022-08-25 00:00:00\n",
      "2022-08-24 00:00:00\n",
      "2022-08-23 00:00:00\n",
      "2022-08-22 00:00:00\n",
      "2022-08-21 00:00:00\n",
      "2022-08-20 00:00:00\n",
      "\n",
      "\n",
      "Downloadind from Yahoo Finance API ....\n",
      "\n",
      "\n",
      "Moeda Atualizada: WTRX-USD\n",
      "[*********************100%***********************]  1 of 1 completed\n",
      "\n",
      "\n",
      "Os dados antes da atualização eram:\n",
      "\n",
      "\n",
      "('2022-08-19 00:00:00', 0.06759099662303925, 0.06759300082921982, 0.0641700029373169, 0.06417299807071686, 0.06417299807071686, 1543760)\n",
      "('2022-08-18 00:00:00', 0.06822799891233444, 0.06842599809169769, 0.06758999824523926, 0.06759200245141983, 0.06759200245141983, 611807)\n",
      "('2022-08-17 00:00:00', 0.0695509985089302, 0.07070299983024597, 0.06822200119495392, 0.06822700053453445, 0.06822700053453445, 1157350)\n",
      "('2022-08-16 00:00:00', 0.06878899782896042, 0.07035800069570541, 0.06859099864959717, 0.06955000013113022, 0.06955000013113022, 1193602)\n",
      "('2022-08-15 00:00:00', 0.07040899991989136, 0.07093700021505356, 0.06851200014352798, 0.068790003657341, 0.068790003657341, 1311770)\n",
      "\n",
      "\n",
      "\n",
      "\n",
      "Os novos dados são:\n",
      "\n",
      "\n",
      "('2022-09-14 00:00:00', 0.06088799983263016, 0.06154200062155723, 0.060791000723838806, 0.0614750012755394, 0.0614750012755394, 497087)\n",
      "('2022-09-13 00:00:00', 0.06372600048780441, 0.06378199905157089, 0.060791000723838806, 0.06092999875545502, 0.06092999875545502, 934682)\n",
      "('2022-09-12 00:00:00', 0.06394600123167038, 0.06455200165510178, 0.0633310005068779, 0.06372799724340439, 0.06372799724340439, 1031624)\n",
      "('2022-09-11 00:00:00', 0.06450799852609634, 0.06476200371980667, 0.0637189969420433, 0.06394500285387039, 0.06394500285387039, 539293)\n",
      "('2022-09-10 00:00:00', 0.06324200332164764, 0.0645110011100769, 0.06321900337934494, 0.06450600177049637, 0.06450600177049637, 616305)\n",
      "\n",
      "\n",
      "\n",
      "\n",
      "O último dia corrido é: 14-09-2022\n",
      "\n",
      "\n",
      "O último dia atualizado no banco de dados é: 2022-08-19\n",
      "\n",
      "\n",
      "Números de dias a serem atualizados:  26\n",
      "\n",
      "\n",
      "Datas a serem atualizadas no banco de dados:\n",
      "\n",
      "\n",
      "2022-09-14 00:00:00\n",
      "2022-09-13 00:00:00\n",
      "2022-09-12 00:00:00\n",
      "2022-09-11 00:00:00\n",
      "2022-09-10 00:00:00\n",
      "2022-09-09 00:00:00\n",
      "2022-09-08 00:00:00\n",
      "2022-09-07 00:00:00\n",
      "2022-09-06 00:00:00\n",
      "2022-09-05 00:00:00\n",
      "2022-09-04 00:00:00\n",
      "2022-09-03 00:00:00\n",
      "2022-09-02 00:00:00\n",
      "2022-09-01 00:00:00\n",
      "2022-08-31 00:00:00\n",
      "2022-08-30 00:00:00\n",
      "2022-08-29 00:00:00\n",
      "2022-08-28 00:00:00\n",
      "2022-08-27 00:00:00\n",
      "2022-08-26 00:00:00\n",
      "2022-08-25 00:00:00\n",
      "2022-08-24 00:00:00\n",
      "2022-08-23 00:00:00\n",
      "2022-08-22 00:00:00\n",
      "2022-08-21 00:00:00\n",
      "2022-08-20 00:00:00\n",
      "\n",
      "\n",
      "Downloadind from Yahoo Finance API ....\n",
      "\n",
      "\n",
      "Moeda Atualizada: AVAX-USD\n",
      "[*********************100%***********************]  1 of 1 completed\n",
      "\n",
      "\n",
      "Os dados antes da atualização eram:\n",
      "\n",
      "\n",
      "('2022-08-19 00:00:00', 24.251800537109375, 24.315420150756836, 21.813467025756836, 22.487878799438477, 22.487878799438477, 764994457)\n",
      "('2022-08-18 00:00:00', 25.502580642700195, 26.254819869995117, 24.233421325683594, 24.25769805908203, 24.25769805908203, 390507879)\n",
      "('2022-08-17 00:00:00', 27.158451080322266, 28.18882179260254, 25.36851692199707, 25.486738204956055, 25.486738204956055, 503874972)\n",
      "('2022-08-16 00:00:00', 27.91974449157715, 28.311002731323242, 27.03583335876465, 27.162704467773438, 27.162704467773438, 415203519)\n",
      "('2022-08-15 00:00:00', 28.21977996826172, 29.26229476928711, 27.167736053466797, 27.92951011657715, 27.92951011657715, 494986915)\n",
      "\n",
      "\n",
      "\n",
      "\n",
      "Os novos dados são:\n",
      "\n",
      "\n",
      "('2022-09-14 00:00:00', 18.886499404907227, 19.30004119873047, 18.54096794128418, 19.120759963989254, 19.120759963989254, 416816640)\n",
      "('2022-09-13 00:00:00', 21.348520278930664, 21.70027732849121, 18.82537269592285, 19.06827163696289, 19.06827163696289, 677722677)\n",
      "('2022-09-12 00:00:00', 20.659656524658203, 21.881879806518555, 20.116764068603516, 21.348209381103516, 21.348209381103516, 729872503)\n",
      "('2022-09-11 00:00:00', 20.492523193359375, 20.89786148071289, 20.07472038269043, 20.658855438232425, 20.658855438232425, 314321780)\n",
      "('2022-09-10 00:00:00', 20.397003173828125, 21.060182571411133, 20.100650787353516, 20.497501373291016, 20.497501373291016, 365215814)\n",
      "\n",
      "\n",
      "\n",
      "\n",
      "O último dia corrido é: 14-09-2022\n",
      "\n",
      "\n",
      "O último dia atualizado no banco de dados é: 2022-08-19\n",
      "\n",
      "\n",
      "Números de dias a serem atualizados:  26\n",
      "\n",
      "\n",
      "Datas a serem atualizadas no banco de dados:\n",
      "\n",
      "\n",
      "2022-09-14 00:00:00\n",
      "2022-09-13 00:00:00\n",
      "2022-09-12 00:00:00\n",
      "2022-09-11 00:00:00\n",
      "2022-09-10 00:00:00\n",
      "2022-09-09 00:00:00\n",
      "2022-09-08 00:00:00\n",
      "2022-09-07 00:00:00\n",
      "2022-09-06 00:00:00\n",
      "2022-09-05 00:00:00\n",
      "2022-09-04 00:00:00\n",
      "2022-09-03 00:00:00\n",
      "2022-09-02 00:00:00\n",
      "2022-09-01 00:00:00\n",
      "2022-08-31 00:00:00\n",
      "2022-08-30 00:00:00\n",
      "2022-08-29 00:00:00\n",
      "2022-08-28 00:00:00\n",
      "2022-08-27 00:00:00\n",
      "2022-08-26 00:00:00\n",
      "2022-08-25 00:00:00\n",
      "2022-08-24 00:00:00\n",
      "2022-08-23 00:00:00\n",
      "2022-08-22 00:00:00\n",
      "2022-08-21 00:00:00\n",
      "2022-08-20 00:00:00\n",
      "\n",
      "\n",
      "Downloadind from Yahoo Finance API ....\n",
      "\n",
      "\n",
      "Moeda Atualizada: MATIC-USD\n"
     ]
    },
    {
     "name": "stdout",
     "output_type": "stream",
     "text": [
      "[*********************100%***********************]  1 of 1 completed\n",
      "\n",
      "\n",
      "Os dados antes da atualização eram:\n",
      "\n",
      "\n",
      "('2022-08-19 00:00:00', 0.859561026096344, 0.859561026096344, 0.7677389979362488, 0.7721350193023682, 0.7721350193023682, 733235258)\n",
      "('2022-08-18 00:00:00', 0.8833839893341064, 0.9076340198516846, 0.8596519827842712, 0.8596519827842712, 0.8596519827842712, 377740073)\n",
      "('2022-08-17 00:00:00', 0.9357380270957947, 0.9629669785499573, 0.8799059987068176, 0.8831790089607239, 0.8831790089607239, 474243132)\n",
      "('2022-08-16 00:00:00', 0.9517729878425598, 0.9650070071220398, 0.9286059737205505, 0.9357960224151611, 0.9357960224151611, 404175969)\n",
      "('2022-08-15 00:00:00', 1.000846028327942, 1.0317469835281372, 0.9352419972419739, 0.9520350098609924, 0.9520350098609924, 560505268)\n",
      "\n",
      "\n",
      "\n",
      "\n",
      "Os novos dados são:\n",
      "\n",
      "\n",
      "('2022-09-14 00:00:00', 0.8462330102920532, 0.8672659993171692, 0.8377940058708191, 0.8647890090942383, 0.8647890090942383, 414726283)\n",
      "('2022-09-13 00:00:00', 0.9300410151481628, 0.9405890107154846, 0.8424490094184875, 0.8544139862060547, 0.8544139862060547, 708971458)\n",
      "('2022-09-12 00:00:00', 0.894320011138916, 0.9396560192108154, 0.8750079870223999, 0.9300119876861572, 0.9300119876861572, 676653496)\n",
      "('2022-09-11 00:00:00', 0.9061930179595948, 0.9158099889755248, 0.8794530034065247, 0.8946130275726318, 0.8946130275726318, 282903791)\n",
      "('2022-09-10 00:00:00', 0.8914539813995361, 0.909280002117157, 0.8809679746627808, 0.9061970114707948, 0.9061970114707948, 384193062)\n",
      "\n",
      "\n",
      "\n",
      "\n",
      "O último dia corrido é: 14-09-2022\n",
      "\n",
      "\n",
      "O último dia atualizado no banco de dados é: 2022-08-19\n",
      "\n",
      "\n",
      "Números de dias a serem atualizados:  26\n",
      "\n",
      "\n",
      "Datas a serem atualizadas no banco de dados:\n",
      "\n",
      "\n",
      "2022-09-14 00:00:00\n",
      "2022-09-13 00:00:00\n",
      "2022-09-12 00:00:00\n",
      "2022-09-11 00:00:00\n",
      "2022-09-10 00:00:00\n",
      "2022-09-09 00:00:00\n",
      "2022-09-08 00:00:00\n",
      "2022-09-07 00:00:00\n",
      "2022-09-06 00:00:00\n",
      "2022-09-05 00:00:00\n",
      "2022-09-04 00:00:00\n",
      "2022-09-03 00:00:00\n",
      "2022-09-02 00:00:00\n",
      "2022-09-01 00:00:00\n",
      "2022-08-31 00:00:00\n",
      "2022-08-30 00:00:00\n",
      "2022-08-29 00:00:00\n",
      "2022-08-28 00:00:00\n",
      "2022-08-27 00:00:00\n",
      "2022-08-26 00:00:00\n",
      "2022-08-25 00:00:00\n",
      "2022-08-24 00:00:00\n",
      "2022-08-23 00:00:00\n",
      "2022-08-22 00:00:00\n",
      "2022-08-21 00:00:00\n",
      "2022-08-20 00:00:00\n",
      "\n",
      "\n",
      "Downloadind from Yahoo Finance API ....\n",
      "\n",
      "\n",
      "Moeda Atualizada: TRX-USD\n",
      "[*********************100%***********************]  1 of 1 completed\n",
      "\n",
      "\n",
      "Os dados antes da atualização eram:\n",
      "\n",
      "\n",
      "('2022-08-19 00:00:00', 0.06744000315666199, 0.06744500249624252, 0.064021997153759, 0.06408199667930603, 0.06408199667930603, 511432500)\n",
      "('2022-08-18 00:00:00', 0.06823500245809555, 0.0685340017080307, 0.06744299829006195, 0.06744299829006195, 0.06744299829006195, 380890835)\n",
      "('2022-08-17 00:00:00', 0.06971900165081024, 0.07086499780416489, 0.06803800165653229, 0.06821899861097336, 0.06821899861097336, 420544638)\n",
      "('2022-08-16 00:00:00', 0.0689229965209961, 0.07036200165748596, 0.06847299635410309, 0.06971599906682968, 0.06971599906682968, 395283023)\n",
      "('2022-08-15 00:00:00', 0.07040300220251083, 0.07104799896478653, 0.06840299814939499, 0.06893599778413773, 0.06893599778413773, 427093950)\n",
      "\n",
      "\n",
      "\n",
      "\n",
      "Os novos dados são:\n",
      "\n",
      "\n",
      "('2022-09-14 00:00:00', 0.06072700023651123, 0.06170300021767616, 0.060649000108242035, 0.061608001589775085, 0.061608001589775085, 348252168)\n",
      "('2022-09-13 00:00:00', 0.0638199970126152, 0.0638820007443428, 0.060649000108242035, 0.06109600141644478, 0.06109600141644478, 408384338)\n",
      "('2022-09-12 00:00:00', 0.06409599632024765, 0.06466100364923477, 0.06324800103902817, 0.06382299959659576, 0.06382299959659576, 430598942)\n",
      "('2022-09-11 00:00:00', 0.06466799974441528, 0.06492599844932556, 0.06366900354623795, 0.06409800052642822, 0.06409800052642822, 359330842)\n",
      "('2022-09-10 00:00:00', 0.06341800093650818, 0.06468299776315689, 0.06312000006437302, 0.06466899812221527, 0.06466899812221527, 425003560)\n",
      "\n",
      "\n",
      "\n",
      "\n",
      "O último dia corrido é: 14-09-2022\n",
      "\n",
      "\n",
      "O último dia atualizado no banco de dados é: 2022-08-19\n",
      "\n",
      "\n",
      "Números de dias a serem atualizados:  26\n",
      "\n",
      "\n",
      "Datas a serem atualizadas no banco de dados:\n",
      "\n",
      "\n",
      "2022-09-14 00:00:00\n",
      "2022-09-13 00:00:00\n",
      "2022-09-12 00:00:00\n",
      "2022-09-11 00:00:00\n",
      "2022-09-10 00:00:00\n",
      "2022-09-09 00:00:00\n",
      "2022-09-08 00:00:00\n",
      "2022-09-07 00:00:00\n",
      "2022-09-06 00:00:00\n",
      "2022-09-05 00:00:00\n",
      "2022-09-04 00:00:00\n",
      "2022-09-03 00:00:00\n",
      "2022-09-02 00:00:00\n",
      "2022-09-01 00:00:00\n",
      "2022-08-31 00:00:00\n",
      "2022-08-30 00:00:00\n",
      "2022-08-29 00:00:00\n",
      "2022-08-28 00:00:00\n",
      "2022-08-27 00:00:00\n",
      "2022-08-26 00:00:00\n",
      "2022-08-25 00:00:00\n",
      "2022-08-24 00:00:00\n",
      "2022-08-23 00:00:00\n",
      "2022-08-22 00:00:00\n",
      "2022-08-21 00:00:00\n",
      "2022-08-20 00:00:00\n",
      "\n",
      "\n",
      "Downloadind from Yahoo Finance API ....\n",
      "\n",
      "\n",
      "Moeda Atualizada: STETH-USD\n",
      "[*********************100%***********************]  1 of 1 completed\n",
      "\n",
      "\n",
      "Os dados antes da atualização eram:\n",
      "\n",
      "\n",
      "('2022-08-19 00:00:00', 1798.119384765625, 1798.119384765625, 1565.8350830078125, 1567.68115234375, 1567.68115234375, 4650377)\n",
      "('2022-08-18 00:00:00', 1783.645263671875, 1825.5223388671875, 1776.80419921875, 1797.949951171875, 1797.949951171875, 4173481)\n",
      "('2022-08-17 00:00:00', 1825.4912109375, 1897.9693603515625, 1775.532958984375, 1783.437744140625, 1783.437744140625, 3506628)\n",
      "('2022-08-16 00:00:00', 1848.8546142578125, 1859.0452880859375, 1807.9273681640625, 1825.4736328125, 1825.4736328125, 4221905)\n",
      "('2022-08-15 00:00:00', 1887.387451171875, 1953.6497802734375, 1830.95166015625, 1849.75634765625, 1849.75634765625, 3957700)\n",
      "\n",
      "\n",
      "\n",
      "\n",
      "Os novos dados são:\n",
      "\n",
      "\n",
      "('2022-09-14 00:00:00', 1527.1143798828125, 1595.714111328125, 1514.309814453125, 1588.06494140625, 1588.06494140625, 13777778)\n",
      "('2022-09-13 00:00:00', 1667.998046875, 1699.4205322265625, 1514.309814453125, 1532.4267578125, 1532.4267578125, 17096949)\n",
      "('2022-09-12 00:00:00', 1715.7042236328125, 1728.242919921875, 1655.251220703125, 1668.0062255859375, 1668.0062255859375, 19544510)\n",
      "('2022-09-11 00:00:00', 1726.248291015625, 1737.4637451171875, 1688.228271484375, 1715.5582275390625, 1715.5582275390625, 15252017)\n",
      "('2022-09-10 00:00:00', 1666.9530029296875, 1735.1068115234375, 1657.6329345703125, 1726.4720458984375, 1726.4720458984375, 14812750)\n",
      "\n",
      "\n",
      "\n",
      "\n",
      "O último dia corrido é: 14-09-2022\n",
      "\n",
      "\n",
      "O último dia atualizado no banco de dados é: 2022-08-19\n",
      "\n",
      "\n",
      "Números de dias a serem atualizados:  26\n",
      "\n",
      "\n",
      "Datas a serem atualizadas no banco de dados:\n",
      "\n",
      "\n",
      "2022-09-14 00:00:00\n",
      "2022-09-13 00:00:00\n",
      "2022-09-12 00:00:00\n",
      "2022-09-11 00:00:00\n",
      "2022-09-10 00:00:00\n",
      "2022-09-09 00:00:00\n",
      "2022-09-08 00:00:00\n",
      "2022-09-07 00:00:00\n",
      "2022-09-06 00:00:00\n",
      "2022-09-05 00:00:00\n",
      "2022-09-04 00:00:00\n",
      "2022-09-03 00:00:00\n",
      "2022-09-02 00:00:00\n",
      "2022-09-01 00:00:00\n",
      "2022-08-31 00:00:00\n",
      "2022-08-30 00:00:00\n",
      "2022-08-29 00:00:00\n",
      "2022-08-28 00:00:00\n",
      "2022-08-27 00:00:00\n",
      "2022-08-26 00:00:00\n",
      "2022-08-25 00:00:00\n",
      "2022-08-24 00:00:00\n",
      "2022-08-23 00:00:00\n",
      "2022-08-22 00:00:00\n",
      "2022-08-21 00:00:00\n",
      "2022-08-20 00:00:00\n",
      "\n",
      "\n",
      "Downloadind from Yahoo Finance API ....\n",
      "\n",
      "\n",
      "Moeda Atualizada: WBTC-USD\n",
      "[*********************100%***********************]  1 of 1 completed\n",
      "\n",
      "\n",
      "Os dados antes da atualização eram:\n",
      "\n",
      "\n",
      "('2022-08-19 00:00:00', 23181.482421875, 23183.990234375, 20862.3046875, 20862.3046875, 20862.3046875, 323428613)\n",
      "('2022-08-18 00:00:00', 23333.3203125, 23569.166015625, 23178.390625, 23183.201171875, 23183.201171875, 121419476)\n",
      "('2022-08-17 00:00:00', 23866.228515625, 24378.751953125, 23254.212890625, 23333.16796875, 23333.16796875, 222592591)\n",
      "('2022-08-16 00:00:00', 24080.134765625, 24199.33984375, 23742.787109375, 23865.630859375, 23865.630859375, 169385692)\n",
      "('2022-08-15 00:00:00', 24286.2578125, 25054.7265625, 23821.361328125, 24084.97265625, 24084.97265625, 227332846)\n",
      "\n",
      "\n",
      "\n",
      "\n",
      "Os novos dados são:\n",
      "\n",
      "\n",
      "('2022-09-14 00:00:00', 20162.1875, 20382.341796875, 19844.669921875, 20252.703125, 20252.703125, 186309257)\n",
      "('2022-09-13 00:00:00', 22329.814453125, 22585.31640625, 20117.22265625, 20241.92578125, 20241.92578125, 324411711)\n",
      "('2022-09-12 00:00:00', 21734.009765625, 22363.66796875, 21642.685546875, 22329.3203125, 22329.3203125, 203171727)\n",
      "('2022-09-11 00:00:00', 21681.095703125, 21734.798828125, 21423.150390625, 21733.271484375, 21733.271484375, 125949466)\n",
      "('2022-09-10 00:00:00', 21366.3828125, 21728.517578125, 21220.203125, 21683.439453125, 21683.439453125, 128483251)\n",
      "\n",
      "\n",
      "\n",
      "\n",
      "O último dia corrido é: 14-09-2022\n",
      "\n",
      "\n",
      "O último dia atualizado no banco de dados é: 2022-08-19\n",
      "\n",
      "\n",
      "Números de dias a serem atualizados:  26\n",
      "\n",
      "\n",
      "Datas a serem atualizadas no banco de dados:\n",
      "\n",
      "\n",
      "2022-09-14 00:00:00\n",
      "2022-09-13 00:00:00\n",
      "2022-09-12 00:00:00\n",
      "2022-09-11 00:00:00\n",
      "2022-09-10 00:00:00\n",
      "2022-09-09 00:00:00\n",
      "2022-09-08 00:00:00\n",
      "2022-09-07 00:00:00\n",
      "2022-09-06 00:00:00\n",
      "2022-09-05 00:00:00\n",
      "2022-09-04 00:00:00\n",
      "2022-09-03 00:00:00\n",
      "2022-09-02 00:00:00\n",
      "2022-09-01 00:00:00\n",
      "2022-08-31 00:00:00\n",
      "2022-08-30 00:00:00\n",
      "2022-08-29 00:00:00\n",
      "2022-08-28 00:00:00\n",
      "2022-08-27 00:00:00\n",
      "2022-08-26 00:00:00\n",
      "2022-08-25 00:00:00\n",
      "2022-08-24 00:00:00\n",
      "2022-08-23 00:00:00\n",
      "2022-08-22 00:00:00\n",
      "2022-08-21 00:00:00\n",
      "2022-08-20 00:00:00\n",
      "\n",
      "\n",
      "Downloadind from Yahoo Finance API ....\n",
      "\n",
      "\n",
      "Moeda Atualizada: UNI1-USD\n"
     ]
    },
    {
     "name": "stdout",
     "output_type": "stream",
     "text": [
      "[*********************100%***********************]  1 of 1 completed\n",
      "\n",
      "\n",
      "Os dados antes da atualização eram:\n",
      "\n",
      "\n",
      "('2022-08-19 00:00:00', 7.600599765777588, 7.657313823699951, 6.8590497970581055, 6.909179210662842, 6.909179210662842, 232362260)\n",
      "('2022-08-18 00:00:00', 7.941886901855469, 8.183577537536621, 7.588263988494873, 7.601743221282959, 7.601743221282959, 157458896)\n",
      "('2022-08-17 00:00:00', 8.343829154968262, 8.645283699035645, 7.901493072509766, 7.939789772033691, 7.939789772033691, 172065284)\n",
      "('2022-08-16 00:00:00', 8.477188110351562, 8.548687934875488, 8.222295761108398, 8.346027374267578, 8.346027374267578, 176881933)\n",
      "('2022-08-15 00:00:00', 8.883331298828125, 9.134861946105957, 8.34613037109375, 8.479776382446289, 8.479776382446289, 201649381)\n",
      "\n",
      "\n",
      "\n",
      "\n",
      "Os novos dados são:\n",
      "\n",
      "\n",
      "('2022-09-14 00:00:00', 6.044609069824219, 6.22540283203125, 5.998297214508057, 6.188218116760254, 6.188218116760254, 100209429)\n",
      "('2022-09-13 00:00:00', 6.651512145996094, 6.7234601974487305, 6.024077892303467, 6.112472057342529, 6.112472057342529, 137409299)\n",
      "('2022-09-12 00:00:00', 6.493378162384033, 6.925024032592773, 6.408442974090576, 6.650454044342041, 6.650454044342041, 162828013)\n",
      "('2022-09-11 00:00:00', 6.675716876983643, 6.706376075744629, 6.415578842163086, 6.494115829467773, 6.494115829467773, 109263470)\n",
      "('2022-09-10 00:00:00', 6.5078911781311035, 6.709033012390137, 6.473650932312012, 6.675907135009766, 6.675907135009766, 125789513)\n",
      "\n",
      "\n",
      "\n",
      "\n",
      "O último dia corrido é: 14-09-2022\n",
      "\n",
      "\n",
      "O último dia atualizado no banco de dados é: 2022-08-19\n",
      "\n",
      "\n",
      "Números de dias a serem atualizados:  26\n",
      "\n",
      "\n",
      "Datas a serem atualizadas no banco de dados:\n",
      "\n",
      "\n",
      "2022-09-14 00:00:00\n",
      "2022-09-13 00:00:00\n",
      "2022-09-12 00:00:00\n",
      "2022-09-11 00:00:00\n",
      "2022-09-10 00:00:00\n",
      "2022-09-09 00:00:00\n",
      "2022-09-08 00:00:00\n",
      "2022-09-07 00:00:00\n",
      "2022-09-06 00:00:00\n",
      "2022-09-05 00:00:00\n",
      "2022-09-04 00:00:00\n",
      "2022-09-03 00:00:00\n",
      "2022-09-02 00:00:00\n",
      "2022-09-01 00:00:00\n",
      "2022-08-31 00:00:00\n",
      "2022-08-30 00:00:00\n",
      "2022-08-29 00:00:00\n",
      "2022-08-28 00:00:00\n",
      "2022-08-27 00:00:00\n",
      "2022-08-26 00:00:00\n",
      "2022-08-25 00:00:00\n",
      "2022-08-24 00:00:00\n",
      "2022-08-23 00:00:00\n",
      "2022-08-22 00:00:00\n",
      "2022-08-21 00:00:00\n",
      "2022-08-20 00:00:00\n",
      "\n",
      "\n",
      "Downloadind from Yahoo Finance API ....\n",
      "\n",
      "\n",
      "Moeda Atualizada: LEO-USD\n",
      "[*********************100%***********************]  1 of 1 completed\n",
      "\n",
      "\n",
      "Os dados antes da atualização eram:\n",
      "\n",
      "\n",
      "('2022-08-19 00:00:00', 5.309689044952393, 5.326531887054443, 5.118471145629883, 5.197970867156982, 5.197970867156982, 3159350)\n",
      "('2022-08-18 00:00:00', 5.281686782836914, 5.360851764678955, 5.126220226287842, 5.309181213378906, 5.309181213378906, 3576578)\n",
      "('2022-08-17 00:00:00', 5.2150678634643555, 5.436304092407227, 5.212512016296387, 5.281216144561768, 5.281216144561768, 3297379)\n",
      "('2022-08-16 00:00:00', 5.359594821929932, 5.426548004150391, 5.092405796051025, 5.2156901359558105, 5.2156901359558105, 2708695)\n",
      "('2022-08-15 00:00:00', 5.111111164093018, 5.378558158874512, 5.103353023529053, 5.361138820648193, 5.361138820648193, 3595093)\n",
      "\n",
      "\n",
      "\n",
      "\n",
      "Os novos dados são:\n",
      "\n",
      "\n",
      "('2022-09-14 00:00:00', 4.952211856842041, 5.020133018493652, 4.728219032287598, 4.860776901245117, 4.860776901245117, 3248389)\n",
      "('2022-09-13 00:00:00', 5.0348429679870605, 5.0944437980651855, 4.737831115722656, 5.008528232574463, 5.008528232574463, 3557487)\n",
      "('2022-09-12 00:00:00', 5.06133508682251, 5.162682056427002, 4.966607093811035, 5.036938190460205, 5.036938190460205, 3647620)\n",
      "('2022-09-11 00:00:00', 4.981020927429199, 5.098333835601807, 4.960497856140137, 5.061100959777832, 5.061100959777832, 3244792)\n",
      "('2022-09-10 00:00:00', 4.974349021911621, 5.1074042320251465, 4.950075149536133, 4.987809181213379, 4.987809181213379, 3585074)\n",
      "\n",
      "\n",
      "\n",
      "\n",
      "O último dia corrido é: 14-09-2022\n",
      "\n",
      "\n",
      "O último dia atualizado no banco de dados é: 2022-08-19\n",
      "\n",
      "\n",
      "Números de dias a serem atualizados:  26\n",
      "\n",
      "\n",
      "Datas a serem atualizadas no banco de dados:\n",
      "\n",
      "\n",
      "2022-09-14 00:00:00\n",
      "2022-09-13 00:00:00\n",
      "2022-09-12 00:00:00\n",
      "2022-09-11 00:00:00\n",
      "2022-09-10 00:00:00\n",
      "2022-09-09 00:00:00\n",
      "2022-09-08 00:00:00\n",
      "2022-09-07 00:00:00\n",
      "2022-09-06 00:00:00\n",
      "2022-09-05 00:00:00\n",
      "2022-09-04 00:00:00\n",
      "2022-09-03 00:00:00\n",
      "2022-09-02 00:00:00\n",
      "2022-09-01 00:00:00\n",
      "2022-08-31 00:00:00\n",
      "2022-08-30 00:00:00\n",
      "2022-08-29 00:00:00\n",
      "2022-08-28 00:00:00\n",
      "2022-08-27 00:00:00\n",
      "2022-08-26 00:00:00\n",
      "2022-08-25 00:00:00\n",
      "2022-08-24 00:00:00\n",
      "2022-08-23 00:00:00\n",
      "2022-08-22 00:00:00\n",
      "2022-08-21 00:00:00\n",
      "2022-08-20 00:00:00\n",
      "\n",
      "\n",
      "Downloadind from Yahoo Finance API ....\n",
      "\n",
      "\n",
      "Moeda Atualizada: ETC-USD\n",
      "[*********************100%***********************]  1 of 1 completed\n",
      "\n",
      "\n",
      "Os dados antes da atualização eram:\n",
      "\n",
      "\n",
      "('2022-08-19 00:00:00', 39.57608413696289, 39.5830078125, 32.788543701171875, 32.93836212158203, 32.93836212158203, 2100519390)\n",
      "('2022-08-18 00:00:00', 40.223793029785156, 41.792694091796875, 39.50444793701172, 39.57548141479492, 39.57548141479492, 1110209025)\n",
      "('2022-08-17 00:00:00', 39.93547439575195, 42.32783508300781, 38.97261047363281, 40.195396423339844, 40.195396423339844, 1254980730)\n",
      "('2022-08-16 00:00:00', 41.97477722167969, 42.200252532958984, 39.6114501953125, 39.93877029418945, 39.93877029418945, 855533055)\n",
      "('2022-08-15 00:00:00', 41.589210510253906, 43.44779968261719, 40.42313766479492, 41.983280181884766, 41.983280181884766, 1112550146)\n",
      "\n",
      "\n",
      "\n",
      "\n",
      "Os novos dados são:\n",
      "\n",
      "\n",
      "('2022-09-14 00:00:00', 35.33788299560547, 39.68088912963867, 35.17792510986328, 39.32584381103515, 39.32584381103515, 1603747406)\n",
      "('2022-09-13 00:00:00', 38.37476348876953, 38.80277633666992, 34.87535095214844, 36.10322189331055, 36.10322189331055, 1261969556)\n",
      "('2022-09-12 00:00:00', 38.495975494384766, 40.2223014831543, 37.35503005981445, 38.37445831298828, 38.37445831298828, 1260223137)\n",
      "('2022-09-11 00:00:00', 39.34201431274414, 39.36006546020508, 37.890384674072266, 38.49298858642578, 38.49298858642578, 734939902)\n",
      "('2022-09-10 00:00:00', 39.23194885253906, 40.149051666259766, 38.21785354614258, 39.35231018066406, 39.35231018066406, 1054514941)\n",
      "\n",
      "\n",
      "\n",
      "\n",
      "O último dia corrido é: 14-09-2022\n",
      "\n",
      "\n",
      "O último dia atualizado no banco de dados é: 2022-08-19\n",
      "\n",
      "\n",
      "Números de dias a serem atualizados:  26\n",
      "\n",
      "\n",
      "Datas a serem atualizadas no banco de dados:\n",
      "\n",
      "\n",
      "2022-09-14 00:00:00\n",
      "2022-09-13 00:00:00\n",
      "2022-09-12 00:00:00\n",
      "2022-09-11 00:00:00\n",
      "2022-09-10 00:00:00\n",
      "2022-09-09 00:00:00\n",
      "2022-09-08 00:00:00\n",
      "2022-09-07 00:00:00\n",
      "2022-09-06 00:00:00\n",
      "2022-09-05 00:00:00\n",
      "2022-09-04 00:00:00\n",
      "2022-09-03 00:00:00\n",
      "2022-09-02 00:00:00\n",
      "2022-09-01 00:00:00\n",
      "2022-08-31 00:00:00\n",
      "2022-08-30 00:00:00\n",
      "2022-08-29 00:00:00\n",
      "2022-08-28 00:00:00\n",
      "2022-08-27 00:00:00\n",
      "2022-08-26 00:00:00\n",
      "2022-08-25 00:00:00\n",
      "2022-08-24 00:00:00\n",
      "2022-08-23 00:00:00\n",
      "2022-08-22 00:00:00\n",
      "2022-08-21 00:00:00\n",
      "2022-08-20 00:00:00\n",
      "\n",
      "\n",
      "Downloadind from Yahoo Finance API ....\n",
      "\n",
      "\n",
      "Moeda Atualizada: LTC-USD\n",
      "[*********************100%***********************]  1 of 1 completed\n",
      "\n",
      "\n",
      "Os dados antes da atualização eram:\n",
      "\n",
      "\n",
      "('2022-08-19 00:00:00', 60.04190444946289, 60.10254669189453, 53.635345458984375, 54.0316276550293, 54.0316276550293, 598011455)\n",
      "('2022-08-18 00:00:00', 60.39039993286133, 61.56446075439453, 59.82616424560547, 60.04568862915039, 60.04568862915039, 375531380)\n",
      "('2022-08-17 00:00:00', 61.337974548339844, 64.56123352050781, 60.03407287597656, 60.3741569519043, 60.3741569519043, 564337359)\n",
      "('2022-08-16 00:00:00', 60.807071685791016, 61.54142761230469, 60.23854064941406, 61.34233856201172, 61.34233856201172, 400419587)\n",
      "('2022-08-15 00:00:00', 63.30583572387695, 65.17250061035156, 60.03242111206055, 60.82551574707031, 60.82551574707031, 487425277)\n",
      "\n",
      "\n",
      "\n",
      "\n",
      "Os novos dados são:\n",
      "\n",
      "\n",
      "('2022-09-14 00:00:00', 59.061370849609375, 60.84946823120117, 58.701507568359375, 60.14519119262695, 60.14519119262695, 622750084)\n",
      "('2022-09-13 00:00:00', 61.36082077026367, 67.06636810302734, 58.63788986206055, 59.10230255126953, 59.10230255126953, 1001779466)\n",
      "('2022-09-12 00:00:00', 62.24615859985352, 62.94322967529297, 60.38718795776367, 61.36201477050781, 61.36201477050781, 527623332)\n",
      "('2022-09-11 00:00:00', 63.427024841308594, 64.26847839355469, 61.82975387573242, 62.24362564086914, 62.24362564086914, 467207228)\n",
      "('2022-09-10 00:00:00', 61.225059509277344, 64.44889831542969, 60.87065124511719, 63.431644439697266, 63.431644439697266, 611529013)\n",
      "\n",
      "\n"
     ]
    }
   ],
   "source": [
    "updating_database(c, \"Date\")"
   ]
  },
  {
   "cell_type": "code",
   "execution_count": 50,
   "metadata": {},
   "outputs": [],
   "source": [
    "# database_info(c, 'ETH','Date')"
   ]
  },
  {
   "cell_type": "code",
   "execution_count": 51,
   "metadata": {},
   "outputs": [],
   "source": [
    "def plot(title,crypto, conn, startDate, endDate):\n",
    "    \n",
    "    \n",
    "    df=df_from_sql_query(crypto, \"Date\", conn, startDate, endDate)\n",
    "    \n",
    "    df['Date']= pd.to_datetime(df['Date'])\n",
    "    \n",
    "    df=df.drop(columns=['Adj Close'])\n",
    "    \n",
    "#     eth_df.set_index('Date')\n",
    "\n",
    "    fig = go.Figure(data=[go.Candlestick(x=df['Date'],\n",
    "                    open=df['Open'],\n",
    "                    high=df['High'],\n",
    "                    low=df['Low'],\n",
    "                    close=df['Close'])])\n",
    "\n",
    "    fig.update_layout(xaxis_rangeslider_visible=False)\n",
    "\n",
    "    fig.update_layout(\n",
    "        title= title,\n",
    "        yaxis_title='Price',\n",
    "\n",
    "    )\n",
    "\n",
    "    fig.write_html(title + \".html\")\n",
    "    fig.write_html(title + \".html\")\n",
    "\n",
    "    fig.show()"
   ]
  },
  {
   "cell_type": "code",
   "execution_count": 55,
   "metadata": {},
   "outputs": [
    {
     "data": {
      "application/vnd.plotly.v1+json": {
       "config": {
        "plotlyServerURL": "https://plot.ly"
       },
       "data": [
        {
         "close": [
          1635.19580078125,
          1632.9454345703125,
          1618.87451171875,
          1608.205810546875,
          1732.254638671875,
          1691.6580810546875,
          1699.350830078125,
          1775.51611328125,
          1703.0250244140625,
          1851.74267578125,
          1881.22412109375,
          1957.2464599609375,
          1981.3365478515625,
          1936.802001953125,
          1904.2281494140625,
          1878.139404296875,
          1832.9996337890625,
          1847.0078125,
          1612.9873046875,
          1577.0037841796875,
          1619.3189697265625,
          1622.505859375,
          1662.7698974609375,
          1657.0592041015625,
          1696.45703125,
          1507.7828369140625,
          1491.39501953125,
          1430.54736328125,
          1553.037353515625,
          1523.8388671875,
          1553.6849365234375,
          1586.1767578125,
          1577.220458984375,
          1556.8726806640625,
          1577.6416015625,
          1617.1832275390625,
          1561.74853515625,
          1629.9063720703125,
          1635.34765625,
          1719.08544921875,
          1776.2037353515625,
          1761.800048828125,
          1713.7652587890625,
          1580.7879638671875,
          1634.7550048828125
         ],
         "high": [
          1700.1708984375,
          1672.6297607421875,
          1678.0982666015625,
          1658.5115966796875,
          1732.254638671875,
          1744.326416015625,
          1724.7891845703125,
          1806.886474609375,
          1786.12255859375,
          1869.400634765625,
          1927.939208984375,
          1957.552978515625,
          2013.7557373046875,
          2022.79150390625,
          2007.2103271484375,
          1910.745361328125,
          1951.6756591796875,
          1876.376953125,
          1847.0953369140625,
          1652.21875,
          1640.9365234375,
          1622.77880859375,
          1666.676513671875,
          1686.5577392578125,
          1718.1832275390625,
          1698.56103515625,
          1517.1500244140625,
          1505.7919921875,
          1556.3095703125,
          1600.461181640625,
          1612.35888671875,
          1593.082763671875,
          1643.1832275390625,
          1579.454345703125,
          1578.00927734375,
          1621.661376953125,
          1680.5953369140625,
          1651.0511474609375,
          1655.0640869140625,
          1735.809814453125,
          1784.497802734375,
          1782.7298583984375,
          1778.1634521484375,
          1745.779052734375,
          1642.1572265625
         ],
         "low": [
          1613.416015625,
          1567.85107421875,
          1595.634521484375,
          1585.3265380859375,
          1606.4970703125,
          1691.6580810546875,
          1672.908447265625,
          1697.407958984375,
          1675.849853515625,
          1665.0904541015625,
          1851.828369140625,
          1860.08349609375,
          1948.59521484375,
          1919.0101318359375,
          1881.8568115234375,
          1862.2734375,
          1823.5322265625,
          1826.957763671875,
          1611.3388671875,
          1534.298828125,
          1569.0465087890625,
          1535.0147705078125,
          1569.4285888671875,
          1610.0992431640625,
          1656.8560791015625,
          1498.771240234375,
          1454.282958984375,
          1430.54736328125,
          1427.7283935546875,
          1480.831787109375,
          1524.2864990234375,
          1520.1883544921875,
          1551.8779296875,
          1541.672119140625,
          1543.6988525390625,
          1559.7818603515625,
          1561.74853515625,
          1500.013671875,
          1603.0638427734375,
          1632.8365478515625,
          1710.2969970703125,
          1730.164794921875,
          1698.29345703125,
          1564.0318603515625,
          1564.0318603515625
         ],
         "open": [
          1681.445556640625,
          1634.6458740234375,
          1633.05126953125,
          1618.88671875,
          1607.52392578125,
          1732.6611328125,
          1691.7779541015625,
          1699.6934814453125,
          1776.0712890625,
          1702.906494140625,
          1851.828369140625,
          1880.899169921875,
          1957.333984375,
          1981.782470703125,
          1936.760498046875,
          1902.8331298828125,
          1877.934326171875,
          1833.715576171875,
          1847.0953369140625,
          1612.650634765625,
          1576.5435791015625,
          1619.1668701171875,
          1622.9393310546875,
          1662.6954345703125,
          1657.3365478515625,
          1696.3245849609375,
          1508.156982421875,
          1491.206787109375,
          1430.439453125,
          1553.18896484375,
          1524.2864990234375,
          1553.75634765625,
          1586.0179443359375,
          1577.2137451171875,
          1556.8958740234375,
          1577.884033203125,
          1617.240234375,
          1560.90673828125,
          1629.80517578125,
          1635.187744140625,
          1718.9613037109375,
          1775.97607421875,
          1762.0848388671875,
          1713.9625244140625,
          1574.858154296875
         ],
         "type": "candlestick",
         "x": [
          "2022-08-01T00:00:00",
          "2022-08-02T00:00:00",
          "2022-08-03T00:00:00",
          "2022-08-04T00:00:00",
          "2022-08-05T00:00:00",
          "2022-08-06T00:00:00",
          "2022-08-07T00:00:00",
          "2022-08-08T00:00:00",
          "2022-08-09T00:00:00",
          "2022-08-10T00:00:00",
          "2022-08-11T00:00:00",
          "2022-08-12T00:00:00",
          "2022-08-13T00:00:00",
          "2022-08-14T00:00:00",
          "2022-08-15T00:00:00",
          "2022-08-16T00:00:00",
          "2022-08-17T00:00:00",
          "2022-08-18T00:00:00",
          "2022-08-19T00:00:00",
          "2022-08-20T00:00:00",
          "2022-08-21T00:00:00",
          "2022-08-22T00:00:00",
          "2022-08-23T00:00:00",
          "2022-08-24T00:00:00",
          "2022-08-25T00:00:00",
          "2022-08-26T00:00:00",
          "2022-08-27T00:00:00",
          "2022-08-28T00:00:00",
          "2022-08-29T00:00:00",
          "2022-08-30T00:00:00",
          "2022-08-31T00:00:00",
          "2022-09-01T00:00:00",
          "2022-09-02T00:00:00",
          "2022-09-03T00:00:00",
          "2022-09-04T00:00:00",
          "2022-09-05T00:00:00",
          "2022-09-06T00:00:00",
          "2022-09-07T00:00:00",
          "2022-09-08T00:00:00",
          "2022-09-09T00:00:00",
          "2022-09-10T00:00:00",
          "2022-09-11T00:00:00",
          "2022-09-12T00:00:00",
          "2022-09-13T00:00:00",
          "2022-09-14T00:00:00"
         ]
        }
       ],
       "layout": {
        "template": {
         "data": {
          "bar": [
           {
            "error_x": {
             "color": "#2a3f5f"
            },
            "error_y": {
             "color": "#2a3f5f"
            },
            "marker": {
             "line": {
              "color": "#E5ECF6",
              "width": 0.5
             },
             "pattern": {
              "fillmode": "overlay",
              "size": 10,
              "solidity": 0.2
             }
            },
            "type": "bar"
           }
          ],
          "barpolar": [
           {
            "marker": {
             "line": {
              "color": "#E5ECF6",
              "width": 0.5
             },
             "pattern": {
              "fillmode": "overlay",
              "size": 10,
              "solidity": 0.2
             }
            },
            "type": "barpolar"
           }
          ],
          "carpet": [
           {
            "aaxis": {
             "endlinecolor": "#2a3f5f",
             "gridcolor": "white",
             "linecolor": "white",
             "minorgridcolor": "white",
             "startlinecolor": "#2a3f5f"
            },
            "baxis": {
             "endlinecolor": "#2a3f5f",
             "gridcolor": "white",
             "linecolor": "white",
             "minorgridcolor": "white",
             "startlinecolor": "#2a3f5f"
            },
            "type": "carpet"
           }
          ],
          "choropleth": [
           {
            "colorbar": {
             "outlinewidth": 0,
             "ticks": ""
            },
            "type": "choropleth"
           }
          ],
          "contour": [
           {
            "colorbar": {
             "outlinewidth": 0,
             "ticks": ""
            },
            "colorscale": [
             [
              0,
              "#0d0887"
             ],
             [
              0.1111111111111111,
              "#46039f"
             ],
             [
              0.2222222222222222,
              "#7201a8"
             ],
             [
              0.3333333333333333,
              "#9c179e"
             ],
             [
              0.4444444444444444,
              "#bd3786"
             ],
             [
              0.5555555555555556,
              "#d8576b"
             ],
             [
              0.6666666666666666,
              "#ed7953"
             ],
             [
              0.7777777777777778,
              "#fb9f3a"
             ],
             [
              0.8888888888888888,
              "#fdca26"
             ],
             [
              1,
              "#f0f921"
             ]
            ],
            "type": "contour"
           }
          ],
          "contourcarpet": [
           {
            "colorbar": {
             "outlinewidth": 0,
             "ticks": ""
            },
            "type": "contourcarpet"
           }
          ],
          "heatmap": [
           {
            "colorbar": {
             "outlinewidth": 0,
             "ticks": ""
            },
            "colorscale": [
             [
              0,
              "#0d0887"
             ],
             [
              0.1111111111111111,
              "#46039f"
             ],
             [
              0.2222222222222222,
              "#7201a8"
             ],
             [
              0.3333333333333333,
              "#9c179e"
             ],
             [
              0.4444444444444444,
              "#bd3786"
             ],
             [
              0.5555555555555556,
              "#d8576b"
             ],
             [
              0.6666666666666666,
              "#ed7953"
             ],
             [
              0.7777777777777778,
              "#fb9f3a"
             ],
             [
              0.8888888888888888,
              "#fdca26"
             ],
             [
              1,
              "#f0f921"
             ]
            ],
            "type": "heatmap"
           }
          ],
          "heatmapgl": [
           {
            "colorbar": {
             "outlinewidth": 0,
             "ticks": ""
            },
            "colorscale": [
             [
              0,
              "#0d0887"
             ],
             [
              0.1111111111111111,
              "#46039f"
             ],
             [
              0.2222222222222222,
              "#7201a8"
             ],
             [
              0.3333333333333333,
              "#9c179e"
             ],
             [
              0.4444444444444444,
              "#bd3786"
             ],
             [
              0.5555555555555556,
              "#d8576b"
             ],
             [
              0.6666666666666666,
              "#ed7953"
             ],
             [
              0.7777777777777778,
              "#fb9f3a"
             ],
             [
              0.8888888888888888,
              "#fdca26"
             ],
             [
              1,
              "#f0f921"
             ]
            ],
            "type": "heatmapgl"
           }
          ],
          "histogram": [
           {
            "marker": {
             "pattern": {
              "fillmode": "overlay",
              "size": 10,
              "solidity": 0.2
             }
            },
            "type": "histogram"
           }
          ],
          "histogram2d": [
           {
            "colorbar": {
             "outlinewidth": 0,
             "ticks": ""
            },
            "colorscale": [
             [
              0,
              "#0d0887"
             ],
             [
              0.1111111111111111,
              "#46039f"
             ],
             [
              0.2222222222222222,
              "#7201a8"
             ],
             [
              0.3333333333333333,
              "#9c179e"
             ],
             [
              0.4444444444444444,
              "#bd3786"
             ],
             [
              0.5555555555555556,
              "#d8576b"
             ],
             [
              0.6666666666666666,
              "#ed7953"
             ],
             [
              0.7777777777777778,
              "#fb9f3a"
             ],
             [
              0.8888888888888888,
              "#fdca26"
             ],
             [
              1,
              "#f0f921"
             ]
            ],
            "type": "histogram2d"
           }
          ],
          "histogram2dcontour": [
           {
            "colorbar": {
             "outlinewidth": 0,
             "ticks": ""
            },
            "colorscale": [
             [
              0,
              "#0d0887"
             ],
             [
              0.1111111111111111,
              "#46039f"
             ],
             [
              0.2222222222222222,
              "#7201a8"
             ],
             [
              0.3333333333333333,
              "#9c179e"
             ],
             [
              0.4444444444444444,
              "#bd3786"
             ],
             [
              0.5555555555555556,
              "#d8576b"
             ],
             [
              0.6666666666666666,
              "#ed7953"
             ],
             [
              0.7777777777777778,
              "#fb9f3a"
             ],
             [
              0.8888888888888888,
              "#fdca26"
             ],
             [
              1,
              "#f0f921"
             ]
            ],
            "type": "histogram2dcontour"
           }
          ],
          "mesh3d": [
           {
            "colorbar": {
             "outlinewidth": 0,
             "ticks": ""
            },
            "type": "mesh3d"
           }
          ],
          "parcoords": [
           {
            "line": {
             "colorbar": {
              "outlinewidth": 0,
              "ticks": ""
             }
            },
            "type": "parcoords"
           }
          ],
          "pie": [
           {
            "automargin": true,
            "type": "pie"
           }
          ],
          "scatter": [
           {
            "fillpattern": {
             "fillmode": "overlay",
             "size": 10,
             "solidity": 0.2
            },
            "type": "scatter"
           }
          ],
          "scatter3d": [
           {
            "line": {
             "colorbar": {
              "outlinewidth": 0,
              "ticks": ""
             }
            },
            "marker": {
             "colorbar": {
              "outlinewidth": 0,
              "ticks": ""
             }
            },
            "type": "scatter3d"
           }
          ],
          "scattercarpet": [
           {
            "marker": {
             "colorbar": {
              "outlinewidth": 0,
              "ticks": ""
             }
            },
            "type": "scattercarpet"
           }
          ],
          "scattergeo": [
           {
            "marker": {
             "colorbar": {
              "outlinewidth": 0,
              "ticks": ""
             }
            },
            "type": "scattergeo"
           }
          ],
          "scattergl": [
           {
            "marker": {
             "colorbar": {
              "outlinewidth": 0,
              "ticks": ""
             }
            },
            "type": "scattergl"
           }
          ],
          "scattermapbox": [
           {
            "marker": {
             "colorbar": {
              "outlinewidth": 0,
              "ticks": ""
             }
            },
            "type": "scattermapbox"
           }
          ],
          "scatterpolar": [
           {
            "marker": {
             "colorbar": {
              "outlinewidth": 0,
              "ticks": ""
             }
            },
            "type": "scatterpolar"
           }
          ],
          "scatterpolargl": [
           {
            "marker": {
             "colorbar": {
              "outlinewidth": 0,
              "ticks": ""
             }
            },
            "type": "scatterpolargl"
           }
          ],
          "scatterternary": [
           {
            "marker": {
             "colorbar": {
              "outlinewidth": 0,
              "ticks": ""
             }
            },
            "type": "scatterternary"
           }
          ],
          "surface": [
           {
            "colorbar": {
             "outlinewidth": 0,
             "ticks": ""
            },
            "colorscale": [
             [
              0,
              "#0d0887"
             ],
             [
              0.1111111111111111,
              "#46039f"
             ],
             [
              0.2222222222222222,
              "#7201a8"
             ],
             [
              0.3333333333333333,
              "#9c179e"
             ],
             [
              0.4444444444444444,
              "#bd3786"
             ],
             [
              0.5555555555555556,
              "#d8576b"
             ],
             [
              0.6666666666666666,
              "#ed7953"
             ],
             [
              0.7777777777777778,
              "#fb9f3a"
             ],
             [
              0.8888888888888888,
              "#fdca26"
             ],
             [
              1,
              "#f0f921"
             ]
            ],
            "type": "surface"
           }
          ],
          "table": [
           {
            "cells": {
             "fill": {
              "color": "#EBF0F8"
             },
             "line": {
              "color": "white"
             }
            },
            "header": {
             "fill": {
              "color": "#C8D4E3"
             },
             "line": {
              "color": "white"
             }
            },
            "type": "table"
           }
          ]
         },
         "layout": {
          "annotationdefaults": {
           "arrowcolor": "#2a3f5f",
           "arrowhead": 0,
           "arrowwidth": 1
          },
          "autotypenumbers": "strict",
          "coloraxis": {
           "colorbar": {
            "outlinewidth": 0,
            "ticks": ""
           }
          },
          "colorscale": {
           "diverging": [
            [
             0,
             "#8e0152"
            ],
            [
             0.1,
             "#c51b7d"
            ],
            [
             0.2,
             "#de77ae"
            ],
            [
             0.3,
             "#f1b6da"
            ],
            [
             0.4,
             "#fde0ef"
            ],
            [
             0.5,
             "#f7f7f7"
            ],
            [
             0.6,
             "#e6f5d0"
            ],
            [
             0.7,
             "#b8e186"
            ],
            [
             0.8,
             "#7fbc41"
            ],
            [
             0.9,
             "#4d9221"
            ],
            [
             1,
             "#276419"
            ]
           ],
           "sequential": [
            [
             0,
             "#0d0887"
            ],
            [
             0.1111111111111111,
             "#46039f"
            ],
            [
             0.2222222222222222,
             "#7201a8"
            ],
            [
             0.3333333333333333,
             "#9c179e"
            ],
            [
             0.4444444444444444,
             "#bd3786"
            ],
            [
             0.5555555555555556,
             "#d8576b"
            ],
            [
             0.6666666666666666,
             "#ed7953"
            ],
            [
             0.7777777777777778,
             "#fb9f3a"
            ],
            [
             0.8888888888888888,
             "#fdca26"
            ],
            [
             1,
             "#f0f921"
            ]
           ],
           "sequentialminus": [
            [
             0,
             "#0d0887"
            ],
            [
             0.1111111111111111,
             "#46039f"
            ],
            [
             0.2222222222222222,
             "#7201a8"
            ],
            [
             0.3333333333333333,
             "#9c179e"
            ],
            [
             0.4444444444444444,
             "#bd3786"
            ],
            [
             0.5555555555555556,
             "#d8576b"
            ],
            [
             0.6666666666666666,
             "#ed7953"
            ],
            [
             0.7777777777777778,
             "#fb9f3a"
            ],
            [
             0.8888888888888888,
             "#fdca26"
            ],
            [
             1,
             "#f0f921"
            ]
           ]
          },
          "colorway": [
           "#636efa",
           "#EF553B",
           "#00cc96",
           "#ab63fa",
           "#FFA15A",
           "#19d3f3",
           "#FF6692",
           "#B6E880",
           "#FF97FF",
           "#FECB52"
          ],
          "font": {
           "color": "#2a3f5f"
          },
          "geo": {
           "bgcolor": "white",
           "lakecolor": "white",
           "landcolor": "#E5ECF6",
           "showlakes": true,
           "showland": true,
           "subunitcolor": "white"
          },
          "hoverlabel": {
           "align": "left"
          },
          "hovermode": "closest",
          "mapbox": {
           "style": "light"
          },
          "paper_bgcolor": "white",
          "plot_bgcolor": "#E5ECF6",
          "polar": {
           "angularaxis": {
            "gridcolor": "white",
            "linecolor": "white",
            "ticks": ""
           },
           "bgcolor": "#E5ECF6",
           "radialaxis": {
            "gridcolor": "white",
            "linecolor": "white",
            "ticks": ""
           }
          },
          "scene": {
           "xaxis": {
            "backgroundcolor": "#E5ECF6",
            "gridcolor": "white",
            "gridwidth": 2,
            "linecolor": "white",
            "showbackground": true,
            "ticks": "",
            "zerolinecolor": "white"
           },
           "yaxis": {
            "backgroundcolor": "#E5ECF6",
            "gridcolor": "white",
            "gridwidth": 2,
            "linecolor": "white",
            "showbackground": true,
            "ticks": "",
            "zerolinecolor": "white"
           },
           "zaxis": {
            "backgroundcolor": "#E5ECF6",
            "gridcolor": "white",
            "gridwidth": 2,
            "linecolor": "white",
            "showbackground": true,
            "ticks": "",
            "zerolinecolor": "white"
           }
          },
          "shapedefaults": {
           "line": {
            "color": "#2a3f5f"
           }
          },
          "ternary": {
           "aaxis": {
            "gridcolor": "white",
            "linecolor": "white",
            "ticks": ""
           },
           "baxis": {
            "gridcolor": "white",
            "linecolor": "white",
            "ticks": ""
           },
           "bgcolor": "#E5ECF6",
           "caxis": {
            "gridcolor": "white",
            "linecolor": "white",
            "ticks": ""
           }
          },
          "title": {
           "x": 0.05
          },
          "xaxis": {
           "automargin": true,
           "gridcolor": "white",
           "linecolor": "white",
           "ticks": "",
           "title": {
            "standoff": 15
           },
           "zerolinecolor": "white",
           "zerolinewidth": 2
          },
          "yaxis": {
           "automargin": true,
           "gridcolor": "white",
           "linecolor": "white",
           "ticks": "",
           "title": {
            "standoff": 15
           },
           "zerolinecolor": "white",
           "zerolinewidth": 2
          }
         }
        },
        "title": {
         "text": "ETHER-USD"
        },
        "xaxis": {
         "rangeslider": {
          "visible": false
         }
        },
        "yaxis": {
         "title": {
          "text": "Price"
         }
        }
       }
      },
      "text/html": [
       "<div>                            <div id=\"ecfe327d-5532-494e-b56a-cc30e0f35915\" class=\"plotly-graph-div\" style=\"height:525px; width:100%;\"></div>            <script type=\"text/javascript\">                require([\"plotly\"], function(Plotly) {                    window.PLOTLYENV=window.PLOTLYENV || {};                                    if (document.getElementById(\"ecfe327d-5532-494e-b56a-cc30e0f35915\")) {                    Plotly.newPlot(                        \"ecfe327d-5532-494e-b56a-cc30e0f35915\",                        [{\"close\":[1635.19580078125,1632.9454345703125,1618.87451171875,1608.205810546875,1732.254638671875,1691.6580810546875,1699.350830078125,1775.51611328125,1703.0250244140625,1851.74267578125,1881.22412109375,1957.2464599609375,1981.3365478515625,1936.802001953125,1904.2281494140625,1878.139404296875,1832.9996337890625,1847.0078125,1612.9873046875,1577.0037841796875,1619.3189697265625,1622.505859375,1662.7698974609375,1657.0592041015625,1696.45703125,1507.7828369140625,1491.39501953125,1430.54736328125,1553.037353515625,1523.8388671875,1553.6849365234375,1586.1767578125,1577.220458984375,1556.8726806640625,1577.6416015625,1617.1832275390625,1561.74853515625,1629.9063720703125,1635.34765625,1719.08544921875,1776.2037353515625,1761.800048828125,1713.7652587890625,1580.7879638671875,1634.7550048828125],\"high\":[1700.1708984375,1672.6297607421875,1678.0982666015625,1658.5115966796875,1732.254638671875,1744.326416015625,1724.7891845703125,1806.886474609375,1786.12255859375,1869.400634765625,1927.939208984375,1957.552978515625,2013.7557373046875,2022.79150390625,2007.2103271484375,1910.745361328125,1951.6756591796875,1876.376953125,1847.0953369140625,1652.21875,1640.9365234375,1622.77880859375,1666.676513671875,1686.5577392578125,1718.1832275390625,1698.56103515625,1517.1500244140625,1505.7919921875,1556.3095703125,1600.461181640625,1612.35888671875,1593.082763671875,1643.1832275390625,1579.454345703125,1578.00927734375,1621.661376953125,1680.5953369140625,1651.0511474609375,1655.0640869140625,1735.809814453125,1784.497802734375,1782.7298583984375,1778.1634521484375,1745.779052734375,1642.1572265625],\"low\":[1613.416015625,1567.85107421875,1595.634521484375,1585.3265380859375,1606.4970703125,1691.6580810546875,1672.908447265625,1697.407958984375,1675.849853515625,1665.0904541015625,1851.828369140625,1860.08349609375,1948.59521484375,1919.0101318359375,1881.8568115234375,1862.2734375,1823.5322265625,1826.957763671875,1611.3388671875,1534.298828125,1569.0465087890625,1535.0147705078125,1569.4285888671875,1610.0992431640625,1656.8560791015625,1498.771240234375,1454.282958984375,1430.54736328125,1427.7283935546875,1480.831787109375,1524.2864990234375,1520.1883544921875,1551.8779296875,1541.672119140625,1543.6988525390625,1559.7818603515625,1561.74853515625,1500.013671875,1603.0638427734375,1632.8365478515625,1710.2969970703125,1730.164794921875,1698.29345703125,1564.0318603515625,1564.0318603515625],\"open\":[1681.445556640625,1634.6458740234375,1633.05126953125,1618.88671875,1607.52392578125,1732.6611328125,1691.7779541015625,1699.6934814453125,1776.0712890625,1702.906494140625,1851.828369140625,1880.899169921875,1957.333984375,1981.782470703125,1936.760498046875,1902.8331298828125,1877.934326171875,1833.715576171875,1847.0953369140625,1612.650634765625,1576.5435791015625,1619.1668701171875,1622.9393310546875,1662.6954345703125,1657.3365478515625,1696.3245849609375,1508.156982421875,1491.206787109375,1430.439453125,1553.18896484375,1524.2864990234375,1553.75634765625,1586.0179443359375,1577.2137451171875,1556.8958740234375,1577.884033203125,1617.240234375,1560.90673828125,1629.80517578125,1635.187744140625,1718.9613037109375,1775.97607421875,1762.0848388671875,1713.9625244140625,1574.858154296875],\"x\":[\"2022-08-01T00:00:00\",\"2022-08-02T00:00:00\",\"2022-08-03T00:00:00\",\"2022-08-04T00:00:00\",\"2022-08-05T00:00:00\",\"2022-08-06T00:00:00\",\"2022-08-07T00:00:00\",\"2022-08-08T00:00:00\",\"2022-08-09T00:00:00\",\"2022-08-10T00:00:00\",\"2022-08-11T00:00:00\",\"2022-08-12T00:00:00\",\"2022-08-13T00:00:00\",\"2022-08-14T00:00:00\",\"2022-08-15T00:00:00\",\"2022-08-16T00:00:00\",\"2022-08-17T00:00:00\",\"2022-08-18T00:00:00\",\"2022-08-19T00:00:00\",\"2022-08-20T00:00:00\",\"2022-08-21T00:00:00\",\"2022-08-22T00:00:00\",\"2022-08-23T00:00:00\",\"2022-08-24T00:00:00\",\"2022-08-25T00:00:00\",\"2022-08-26T00:00:00\",\"2022-08-27T00:00:00\",\"2022-08-28T00:00:00\",\"2022-08-29T00:00:00\",\"2022-08-30T00:00:00\",\"2022-08-31T00:00:00\",\"2022-09-01T00:00:00\",\"2022-09-02T00:00:00\",\"2022-09-03T00:00:00\",\"2022-09-04T00:00:00\",\"2022-09-05T00:00:00\",\"2022-09-06T00:00:00\",\"2022-09-07T00:00:00\",\"2022-09-08T00:00:00\",\"2022-09-09T00:00:00\",\"2022-09-10T00:00:00\",\"2022-09-11T00:00:00\",\"2022-09-12T00:00:00\",\"2022-09-13T00:00:00\",\"2022-09-14T00:00:00\"],\"type\":\"candlestick\"}],                        {\"template\":{\"data\":{\"histogram2dcontour\":[{\"type\":\"histogram2dcontour\",\"colorbar\":{\"outlinewidth\":0,\"ticks\":\"\"},\"colorscale\":[[0.0,\"#0d0887\"],[0.1111111111111111,\"#46039f\"],[0.2222222222222222,\"#7201a8\"],[0.3333333333333333,\"#9c179e\"],[0.4444444444444444,\"#bd3786\"],[0.5555555555555556,\"#d8576b\"],[0.6666666666666666,\"#ed7953\"],[0.7777777777777778,\"#fb9f3a\"],[0.8888888888888888,\"#fdca26\"],[1.0,\"#f0f921\"]]}],\"choropleth\":[{\"type\":\"choropleth\",\"colorbar\":{\"outlinewidth\":0,\"ticks\":\"\"}}],\"histogram2d\":[{\"type\":\"histogram2d\",\"colorbar\":{\"outlinewidth\":0,\"ticks\":\"\"},\"colorscale\":[[0.0,\"#0d0887\"],[0.1111111111111111,\"#46039f\"],[0.2222222222222222,\"#7201a8\"],[0.3333333333333333,\"#9c179e\"],[0.4444444444444444,\"#bd3786\"],[0.5555555555555556,\"#d8576b\"],[0.6666666666666666,\"#ed7953\"],[0.7777777777777778,\"#fb9f3a\"],[0.8888888888888888,\"#fdca26\"],[1.0,\"#f0f921\"]]}],\"heatmap\":[{\"type\":\"heatmap\",\"colorbar\":{\"outlinewidth\":0,\"ticks\":\"\"},\"colorscale\":[[0.0,\"#0d0887\"],[0.1111111111111111,\"#46039f\"],[0.2222222222222222,\"#7201a8\"],[0.3333333333333333,\"#9c179e\"],[0.4444444444444444,\"#bd3786\"],[0.5555555555555556,\"#d8576b\"],[0.6666666666666666,\"#ed7953\"],[0.7777777777777778,\"#fb9f3a\"],[0.8888888888888888,\"#fdca26\"],[1.0,\"#f0f921\"]]}],\"heatmapgl\":[{\"type\":\"heatmapgl\",\"colorbar\":{\"outlinewidth\":0,\"ticks\":\"\"},\"colorscale\":[[0.0,\"#0d0887\"],[0.1111111111111111,\"#46039f\"],[0.2222222222222222,\"#7201a8\"],[0.3333333333333333,\"#9c179e\"],[0.4444444444444444,\"#bd3786\"],[0.5555555555555556,\"#d8576b\"],[0.6666666666666666,\"#ed7953\"],[0.7777777777777778,\"#fb9f3a\"],[0.8888888888888888,\"#fdca26\"],[1.0,\"#f0f921\"]]}],\"contourcarpet\":[{\"type\":\"contourcarpet\",\"colorbar\":{\"outlinewidth\":0,\"ticks\":\"\"}}],\"contour\":[{\"type\":\"contour\",\"colorbar\":{\"outlinewidth\":0,\"ticks\":\"\"},\"colorscale\":[[0.0,\"#0d0887\"],[0.1111111111111111,\"#46039f\"],[0.2222222222222222,\"#7201a8\"],[0.3333333333333333,\"#9c179e\"],[0.4444444444444444,\"#bd3786\"],[0.5555555555555556,\"#d8576b\"],[0.6666666666666666,\"#ed7953\"],[0.7777777777777778,\"#fb9f3a\"],[0.8888888888888888,\"#fdca26\"],[1.0,\"#f0f921\"]]}],\"surface\":[{\"type\":\"surface\",\"colorbar\":{\"outlinewidth\":0,\"ticks\":\"\"},\"colorscale\":[[0.0,\"#0d0887\"],[0.1111111111111111,\"#46039f\"],[0.2222222222222222,\"#7201a8\"],[0.3333333333333333,\"#9c179e\"],[0.4444444444444444,\"#bd3786\"],[0.5555555555555556,\"#d8576b\"],[0.6666666666666666,\"#ed7953\"],[0.7777777777777778,\"#fb9f3a\"],[0.8888888888888888,\"#fdca26\"],[1.0,\"#f0f921\"]]}],\"mesh3d\":[{\"type\":\"mesh3d\",\"colorbar\":{\"outlinewidth\":0,\"ticks\":\"\"}}],\"scatter\":[{\"fillpattern\":{\"fillmode\":\"overlay\",\"size\":10,\"solidity\":0.2},\"type\":\"scatter\"}],\"parcoords\":[{\"type\":\"parcoords\",\"line\":{\"colorbar\":{\"outlinewidth\":0,\"ticks\":\"\"}}}],\"scatterpolargl\":[{\"type\":\"scatterpolargl\",\"marker\":{\"colorbar\":{\"outlinewidth\":0,\"ticks\":\"\"}}}],\"bar\":[{\"error_x\":{\"color\":\"#2a3f5f\"},\"error_y\":{\"color\":\"#2a3f5f\"},\"marker\":{\"line\":{\"color\":\"#E5ECF6\",\"width\":0.5},\"pattern\":{\"fillmode\":\"overlay\",\"size\":10,\"solidity\":0.2}},\"type\":\"bar\"}],\"scattergeo\":[{\"type\":\"scattergeo\",\"marker\":{\"colorbar\":{\"outlinewidth\":0,\"ticks\":\"\"}}}],\"scatterpolar\":[{\"type\":\"scatterpolar\",\"marker\":{\"colorbar\":{\"outlinewidth\":0,\"ticks\":\"\"}}}],\"histogram\":[{\"marker\":{\"pattern\":{\"fillmode\":\"overlay\",\"size\":10,\"solidity\":0.2}},\"type\":\"histogram\"}],\"scattergl\":[{\"type\":\"scattergl\",\"marker\":{\"colorbar\":{\"outlinewidth\":0,\"ticks\":\"\"}}}],\"scatter3d\":[{\"type\":\"scatter3d\",\"line\":{\"colorbar\":{\"outlinewidth\":0,\"ticks\":\"\"}},\"marker\":{\"colorbar\":{\"outlinewidth\":0,\"ticks\":\"\"}}}],\"scattermapbox\":[{\"type\":\"scattermapbox\",\"marker\":{\"colorbar\":{\"outlinewidth\":0,\"ticks\":\"\"}}}],\"scatterternary\":[{\"type\":\"scatterternary\",\"marker\":{\"colorbar\":{\"outlinewidth\":0,\"ticks\":\"\"}}}],\"scattercarpet\":[{\"type\":\"scattercarpet\",\"marker\":{\"colorbar\":{\"outlinewidth\":0,\"ticks\":\"\"}}}],\"carpet\":[{\"aaxis\":{\"endlinecolor\":\"#2a3f5f\",\"gridcolor\":\"white\",\"linecolor\":\"white\",\"minorgridcolor\":\"white\",\"startlinecolor\":\"#2a3f5f\"},\"baxis\":{\"endlinecolor\":\"#2a3f5f\",\"gridcolor\":\"white\",\"linecolor\":\"white\",\"minorgridcolor\":\"white\",\"startlinecolor\":\"#2a3f5f\"},\"type\":\"carpet\"}],\"table\":[{\"cells\":{\"fill\":{\"color\":\"#EBF0F8\"},\"line\":{\"color\":\"white\"}},\"header\":{\"fill\":{\"color\":\"#C8D4E3\"},\"line\":{\"color\":\"white\"}},\"type\":\"table\"}],\"barpolar\":[{\"marker\":{\"line\":{\"color\":\"#E5ECF6\",\"width\":0.5},\"pattern\":{\"fillmode\":\"overlay\",\"size\":10,\"solidity\":0.2}},\"type\":\"barpolar\"}],\"pie\":[{\"automargin\":true,\"type\":\"pie\"}]},\"layout\":{\"autotypenumbers\":\"strict\",\"colorway\":[\"#636efa\",\"#EF553B\",\"#00cc96\",\"#ab63fa\",\"#FFA15A\",\"#19d3f3\",\"#FF6692\",\"#B6E880\",\"#FF97FF\",\"#FECB52\"],\"font\":{\"color\":\"#2a3f5f\"},\"hovermode\":\"closest\",\"hoverlabel\":{\"align\":\"left\"},\"paper_bgcolor\":\"white\",\"plot_bgcolor\":\"#E5ECF6\",\"polar\":{\"bgcolor\":\"#E5ECF6\",\"angularaxis\":{\"gridcolor\":\"white\",\"linecolor\":\"white\",\"ticks\":\"\"},\"radialaxis\":{\"gridcolor\":\"white\",\"linecolor\":\"white\",\"ticks\":\"\"}},\"ternary\":{\"bgcolor\":\"#E5ECF6\",\"aaxis\":{\"gridcolor\":\"white\",\"linecolor\":\"white\",\"ticks\":\"\"},\"baxis\":{\"gridcolor\":\"white\",\"linecolor\":\"white\",\"ticks\":\"\"},\"caxis\":{\"gridcolor\":\"white\",\"linecolor\":\"white\",\"ticks\":\"\"}},\"coloraxis\":{\"colorbar\":{\"outlinewidth\":0,\"ticks\":\"\"}},\"colorscale\":{\"sequential\":[[0.0,\"#0d0887\"],[0.1111111111111111,\"#46039f\"],[0.2222222222222222,\"#7201a8\"],[0.3333333333333333,\"#9c179e\"],[0.4444444444444444,\"#bd3786\"],[0.5555555555555556,\"#d8576b\"],[0.6666666666666666,\"#ed7953\"],[0.7777777777777778,\"#fb9f3a\"],[0.8888888888888888,\"#fdca26\"],[1.0,\"#f0f921\"]],\"sequentialminus\":[[0.0,\"#0d0887\"],[0.1111111111111111,\"#46039f\"],[0.2222222222222222,\"#7201a8\"],[0.3333333333333333,\"#9c179e\"],[0.4444444444444444,\"#bd3786\"],[0.5555555555555556,\"#d8576b\"],[0.6666666666666666,\"#ed7953\"],[0.7777777777777778,\"#fb9f3a\"],[0.8888888888888888,\"#fdca26\"],[1.0,\"#f0f921\"]],\"diverging\":[[0,\"#8e0152\"],[0.1,\"#c51b7d\"],[0.2,\"#de77ae\"],[0.3,\"#f1b6da\"],[0.4,\"#fde0ef\"],[0.5,\"#f7f7f7\"],[0.6,\"#e6f5d0\"],[0.7,\"#b8e186\"],[0.8,\"#7fbc41\"],[0.9,\"#4d9221\"],[1,\"#276419\"]]},\"xaxis\":{\"gridcolor\":\"white\",\"linecolor\":\"white\",\"ticks\":\"\",\"title\":{\"standoff\":15},\"zerolinecolor\":\"white\",\"automargin\":true,\"zerolinewidth\":2},\"yaxis\":{\"gridcolor\":\"white\",\"linecolor\":\"white\",\"ticks\":\"\",\"title\":{\"standoff\":15},\"zerolinecolor\":\"white\",\"automargin\":true,\"zerolinewidth\":2},\"scene\":{\"xaxis\":{\"backgroundcolor\":\"#E5ECF6\",\"gridcolor\":\"white\",\"linecolor\":\"white\",\"showbackground\":true,\"ticks\":\"\",\"zerolinecolor\":\"white\",\"gridwidth\":2},\"yaxis\":{\"backgroundcolor\":\"#E5ECF6\",\"gridcolor\":\"white\",\"linecolor\":\"white\",\"showbackground\":true,\"ticks\":\"\",\"zerolinecolor\":\"white\",\"gridwidth\":2},\"zaxis\":{\"backgroundcolor\":\"#E5ECF6\",\"gridcolor\":\"white\",\"linecolor\":\"white\",\"showbackground\":true,\"ticks\":\"\",\"zerolinecolor\":\"white\",\"gridwidth\":2}},\"shapedefaults\":{\"line\":{\"color\":\"#2a3f5f\"}},\"annotationdefaults\":{\"arrowcolor\":\"#2a3f5f\",\"arrowhead\":0,\"arrowwidth\":1},\"geo\":{\"bgcolor\":\"white\",\"landcolor\":\"#E5ECF6\",\"subunitcolor\":\"white\",\"showland\":true,\"showlakes\":true,\"lakecolor\":\"white\"},\"title\":{\"x\":0.05},\"mapbox\":{\"style\":\"light\"}}},\"xaxis\":{\"rangeslider\":{\"visible\":false}},\"title\":{\"text\":\"ETHER-USD\"},\"yaxis\":{\"title\":{\"text\":\"Price\"}}},                        {\"responsive\": true}                    ).then(function(){\n",
       "                            \n",
       "var gd = document.getElementById('ecfe327d-5532-494e-b56a-cc30e0f35915');\n",
       "var x = new MutationObserver(function (mutations, observer) {{\n",
       "        var display = window.getComputedStyle(gd).display;\n",
       "        if (!display || display === 'none') {{\n",
       "            console.log([gd, 'removed!']);\n",
       "            Plotly.purge(gd);\n",
       "            observer.disconnect();\n",
       "        }}\n",
       "}});\n",
       "\n",
       "// Listen for the removal of the full notebook cells\n",
       "var notebookContainer = gd.closest('#notebook-container');\n",
       "if (notebookContainer) {{\n",
       "    x.observe(notebookContainer, {childList: true});\n",
       "}}\n",
       "\n",
       "// Listen for the clearing of the current output cell\n",
       "var outputEl = gd.closest('.output');\n",
       "if (outputEl) {{\n",
       "    x.observe(outputEl, {childList: true});\n",
       "}}\n",
       "\n",
       "                        })                };                });            </script>        </div>"
      ]
     },
     "metadata": {},
     "output_type": "display_data"
    }
   ],
   "source": [
    "plot('ETHER-USD','ETH', conn, '2022-08-01', '2022-09-14')"
   ]
  },
  {
   "cell_type": "code",
   "execution_count": 56,
   "metadata": {},
   "outputs": [
    {
     "data": {
      "application/vnd.plotly.v1+json": {
       "config": {
        "plotlyServerURL": "https://plot.ly"
       },
       "data": [
        {
         "close": [
          23314.19921875,
          22978.1171875,
          22846.5078125,
          22630.95703125,
          23289.314453125,
          22961.279296875,
          23175.890625,
          23809.486328125,
          23164.318359375,
          23947.642578125,
          23957.529296875,
          24402.818359375,
          24424.068359375,
          24319.333984375,
          24136.97265625,
          23883.291015625,
          23335.998046875,
          23212.73828125,
          20877.552734375,
          21166.060546875,
          21534.12109375,
          21398.908203125,
          21528.087890625,
          21395.01953125,
          21600.904296875,
          20260.01953125,
          20041.73828125,
          19616.814453125,
          20297.994140625,
          19796.80859375,
          20049.763671875,
          20127.140625,
          19969.771484375,
          19832.087890625,
          19986.712890625,
          19812.37109375,
          18837.66796875,
          19290.32421875,
          19329.833984375,
          21381.15234375,
          21680.5390625,
          21769.255859375,
          22370.44921875,
          20296.70703125,
          20241.08984375
         ],
         "high": [
          23464.787109375,
          23415.041015625,
          23578.650390625,
          23198.009765625,
          23422.828125,
          23326.5625,
          23359.009765625,
          24203.689453125,
          23898.615234375,
          24127.4140625,
          24822.62890625,
          24412.56640625,
          24860.05078125,
          24974.9140625,
          25135.58984375,
          24228.416015625,
          24407.05859375,
          23563.83203125,
          23213.3125,
          21350.806640625,
          21668.845703125,
          21531.462890625,
          21646.203125,
          21783.076171875,
          21789.63671875,
          21804.908203125,
          20340.775390625,
          20139.0546875,
          20357.462890625,
          20542.64453125,
          20420.990234375,
          20198.390625,
          20401.568359375,
          20037.009765625,
          19999.689453125,
          20031.16015625,
          20155.26953125,
          19427.171875,
          19417.3515625,
          21439.41015625,
          21760.275390625,
          21770.552734375,
          22439.181640625,
          22673.8203125,
          20467.201171875
         ],
         "low": [
          22890.796875,
          22710.083984375,
          22747.8359375,
          22485.701171875,
          22612.177734375,
          22961.279296875,
          22894.556640625,
          23176.546875,
          22982,
          22771.51953125,
          23900.99609375,
          23657.265625,
          24346.115234375,
          24206.259765625,
          23839.775390625,
          23733.5,
          23243.353515625,
          23177.6015625,
          20868.84765625,
          20856.73046875,
          21103.197265625,
          20939.18359375,
          20955.138671875,
          21195.005859375,
          21362.44140625,
          20199.482421875,
          19890.5234375,
          19616.814453125,
          19600.78515625,
          19617.640625,
          19799.58203125,
          19653.96875,
          19814.765625,
          19698.35546875,
          19636.81640625,
          19673.046875,
          18800.171875,
          18644.466796875,
          19076.71484375,
          19310.962890625,
          21168.72265625,
          21406.9453125,
          21603.896484375,
          20062.669921875,
          19793.396484375
         ],
         "open": [
          23336.71875,
          23308.43359375,
          22981.302734375,
          22848.21484375,
          22626.833984375,
          23291.423828125,
          22963.505859375,
          23179.52734375,
          23811.484375,
          23162.8984375,
          23948.345703125,
          23957.203125,
          24402.1875,
          24429.056640625,
          24318.31640625,
          24126.13671875,
          23881.31640625,
          23341.0390625,
          23213.3125,
          20872.841796875,
          21160.392578125,
          21531.462890625,
          21401.044921875,
          21526.455078125,
          21395.458984375,
          21596.0859375,
          20262.48046875,
          20041.03515625,
          19615.154296875,
          20298.611328125,
          19799.58203125,
          20050.498046875,
          20126.072265625,
          19969.71875,
          19832.470703125,
          19988.7890625,
          19817.724609375,
          18837.68359375,
          19289.94140625,
          19328.140625,
          21376.912109375,
          21678.54296875,
          21770.1484375,
          22371.48046875,
          20184.5546875
         ],
         "type": "candlestick",
         "x": [
          "2022-08-01T00:00:00",
          "2022-08-02T00:00:00",
          "2022-08-03T00:00:00",
          "2022-08-04T00:00:00",
          "2022-08-05T00:00:00",
          "2022-08-06T00:00:00",
          "2022-08-07T00:00:00",
          "2022-08-08T00:00:00",
          "2022-08-09T00:00:00",
          "2022-08-10T00:00:00",
          "2022-08-11T00:00:00",
          "2022-08-12T00:00:00",
          "2022-08-13T00:00:00",
          "2022-08-14T00:00:00",
          "2022-08-15T00:00:00",
          "2022-08-16T00:00:00",
          "2022-08-17T00:00:00",
          "2022-08-18T00:00:00",
          "2022-08-19T00:00:00",
          "2022-08-20T00:00:00",
          "2022-08-21T00:00:00",
          "2022-08-22T00:00:00",
          "2022-08-23T00:00:00",
          "2022-08-24T00:00:00",
          "2022-08-25T00:00:00",
          "2022-08-26T00:00:00",
          "2022-08-27T00:00:00",
          "2022-08-28T00:00:00",
          "2022-08-29T00:00:00",
          "2022-08-30T00:00:00",
          "2022-08-31T00:00:00",
          "2022-09-01T00:00:00",
          "2022-09-02T00:00:00",
          "2022-09-03T00:00:00",
          "2022-09-04T00:00:00",
          "2022-09-05T00:00:00",
          "2022-09-06T00:00:00",
          "2022-09-07T00:00:00",
          "2022-09-08T00:00:00",
          "2022-09-09T00:00:00",
          "2022-09-10T00:00:00",
          "2022-09-11T00:00:00",
          "2022-09-12T00:00:00",
          "2022-09-13T00:00:00",
          "2022-09-14T00:00:00"
         ]
        }
       ],
       "layout": {
        "template": {
         "data": {
          "bar": [
           {
            "error_x": {
             "color": "#2a3f5f"
            },
            "error_y": {
             "color": "#2a3f5f"
            },
            "marker": {
             "line": {
              "color": "#E5ECF6",
              "width": 0.5
             },
             "pattern": {
              "fillmode": "overlay",
              "size": 10,
              "solidity": 0.2
             }
            },
            "type": "bar"
           }
          ],
          "barpolar": [
           {
            "marker": {
             "line": {
              "color": "#E5ECF6",
              "width": 0.5
             },
             "pattern": {
              "fillmode": "overlay",
              "size": 10,
              "solidity": 0.2
             }
            },
            "type": "barpolar"
           }
          ],
          "carpet": [
           {
            "aaxis": {
             "endlinecolor": "#2a3f5f",
             "gridcolor": "white",
             "linecolor": "white",
             "minorgridcolor": "white",
             "startlinecolor": "#2a3f5f"
            },
            "baxis": {
             "endlinecolor": "#2a3f5f",
             "gridcolor": "white",
             "linecolor": "white",
             "minorgridcolor": "white",
             "startlinecolor": "#2a3f5f"
            },
            "type": "carpet"
           }
          ],
          "choropleth": [
           {
            "colorbar": {
             "outlinewidth": 0,
             "ticks": ""
            },
            "type": "choropleth"
           }
          ],
          "contour": [
           {
            "colorbar": {
             "outlinewidth": 0,
             "ticks": ""
            },
            "colorscale": [
             [
              0,
              "#0d0887"
             ],
             [
              0.1111111111111111,
              "#46039f"
             ],
             [
              0.2222222222222222,
              "#7201a8"
             ],
             [
              0.3333333333333333,
              "#9c179e"
             ],
             [
              0.4444444444444444,
              "#bd3786"
             ],
             [
              0.5555555555555556,
              "#d8576b"
             ],
             [
              0.6666666666666666,
              "#ed7953"
             ],
             [
              0.7777777777777778,
              "#fb9f3a"
             ],
             [
              0.8888888888888888,
              "#fdca26"
             ],
             [
              1,
              "#f0f921"
             ]
            ],
            "type": "contour"
           }
          ],
          "contourcarpet": [
           {
            "colorbar": {
             "outlinewidth": 0,
             "ticks": ""
            },
            "type": "contourcarpet"
           }
          ],
          "heatmap": [
           {
            "colorbar": {
             "outlinewidth": 0,
             "ticks": ""
            },
            "colorscale": [
             [
              0,
              "#0d0887"
             ],
             [
              0.1111111111111111,
              "#46039f"
             ],
             [
              0.2222222222222222,
              "#7201a8"
             ],
             [
              0.3333333333333333,
              "#9c179e"
             ],
             [
              0.4444444444444444,
              "#bd3786"
             ],
             [
              0.5555555555555556,
              "#d8576b"
             ],
             [
              0.6666666666666666,
              "#ed7953"
             ],
             [
              0.7777777777777778,
              "#fb9f3a"
             ],
             [
              0.8888888888888888,
              "#fdca26"
             ],
             [
              1,
              "#f0f921"
             ]
            ],
            "type": "heatmap"
           }
          ],
          "heatmapgl": [
           {
            "colorbar": {
             "outlinewidth": 0,
             "ticks": ""
            },
            "colorscale": [
             [
              0,
              "#0d0887"
             ],
             [
              0.1111111111111111,
              "#46039f"
             ],
             [
              0.2222222222222222,
              "#7201a8"
             ],
             [
              0.3333333333333333,
              "#9c179e"
             ],
             [
              0.4444444444444444,
              "#bd3786"
             ],
             [
              0.5555555555555556,
              "#d8576b"
             ],
             [
              0.6666666666666666,
              "#ed7953"
             ],
             [
              0.7777777777777778,
              "#fb9f3a"
             ],
             [
              0.8888888888888888,
              "#fdca26"
             ],
             [
              1,
              "#f0f921"
             ]
            ],
            "type": "heatmapgl"
           }
          ],
          "histogram": [
           {
            "marker": {
             "pattern": {
              "fillmode": "overlay",
              "size": 10,
              "solidity": 0.2
             }
            },
            "type": "histogram"
           }
          ],
          "histogram2d": [
           {
            "colorbar": {
             "outlinewidth": 0,
             "ticks": ""
            },
            "colorscale": [
             [
              0,
              "#0d0887"
             ],
             [
              0.1111111111111111,
              "#46039f"
             ],
             [
              0.2222222222222222,
              "#7201a8"
             ],
             [
              0.3333333333333333,
              "#9c179e"
             ],
             [
              0.4444444444444444,
              "#bd3786"
             ],
             [
              0.5555555555555556,
              "#d8576b"
             ],
             [
              0.6666666666666666,
              "#ed7953"
             ],
             [
              0.7777777777777778,
              "#fb9f3a"
             ],
             [
              0.8888888888888888,
              "#fdca26"
             ],
             [
              1,
              "#f0f921"
             ]
            ],
            "type": "histogram2d"
           }
          ],
          "histogram2dcontour": [
           {
            "colorbar": {
             "outlinewidth": 0,
             "ticks": ""
            },
            "colorscale": [
             [
              0,
              "#0d0887"
             ],
             [
              0.1111111111111111,
              "#46039f"
             ],
             [
              0.2222222222222222,
              "#7201a8"
             ],
             [
              0.3333333333333333,
              "#9c179e"
             ],
             [
              0.4444444444444444,
              "#bd3786"
             ],
             [
              0.5555555555555556,
              "#d8576b"
             ],
             [
              0.6666666666666666,
              "#ed7953"
             ],
             [
              0.7777777777777778,
              "#fb9f3a"
             ],
             [
              0.8888888888888888,
              "#fdca26"
             ],
             [
              1,
              "#f0f921"
             ]
            ],
            "type": "histogram2dcontour"
           }
          ],
          "mesh3d": [
           {
            "colorbar": {
             "outlinewidth": 0,
             "ticks": ""
            },
            "type": "mesh3d"
           }
          ],
          "parcoords": [
           {
            "line": {
             "colorbar": {
              "outlinewidth": 0,
              "ticks": ""
             }
            },
            "type": "parcoords"
           }
          ],
          "pie": [
           {
            "automargin": true,
            "type": "pie"
           }
          ],
          "scatter": [
           {
            "fillpattern": {
             "fillmode": "overlay",
             "size": 10,
             "solidity": 0.2
            },
            "type": "scatter"
           }
          ],
          "scatter3d": [
           {
            "line": {
             "colorbar": {
              "outlinewidth": 0,
              "ticks": ""
             }
            },
            "marker": {
             "colorbar": {
              "outlinewidth": 0,
              "ticks": ""
             }
            },
            "type": "scatter3d"
           }
          ],
          "scattercarpet": [
           {
            "marker": {
             "colorbar": {
              "outlinewidth": 0,
              "ticks": ""
             }
            },
            "type": "scattercarpet"
           }
          ],
          "scattergeo": [
           {
            "marker": {
             "colorbar": {
              "outlinewidth": 0,
              "ticks": ""
             }
            },
            "type": "scattergeo"
           }
          ],
          "scattergl": [
           {
            "marker": {
             "colorbar": {
              "outlinewidth": 0,
              "ticks": ""
             }
            },
            "type": "scattergl"
           }
          ],
          "scattermapbox": [
           {
            "marker": {
             "colorbar": {
              "outlinewidth": 0,
              "ticks": ""
             }
            },
            "type": "scattermapbox"
           }
          ],
          "scatterpolar": [
           {
            "marker": {
             "colorbar": {
              "outlinewidth": 0,
              "ticks": ""
             }
            },
            "type": "scatterpolar"
           }
          ],
          "scatterpolargl": [
           {
            "marker": {
             "colorbar": {
              "outlinewidth": 0,
              "ticks": ""
             }
            },
            "type": "scatterpolargl"
           }
          ],
          "scatterternary": [
           {
            "marker": {
             "colorbar": {
              "outlinewidth": 0,
              "ticks": ""
             }
            },
            "type": "scatterternary"
           }
          ],
          "surface": [
           {
            "colorbar": {
             "outlinewidth": 0,
             "ticks": ""
            },
            "colorscale": [
             [
              0,
              "#0d0887"
             ],
             [
              0.1111111111111111,
              "#46039f"
             ],
             [
              0.2222222222222222,
              "#7201a8"
             ],
             [
              0.3333333333333333,
              "#9c179e"
             ],
             [
              0.4444444444444444,
              "#bd3786"
             ],
             [
              0.5555555555555556,
              "#d8576b"
             ],
             [
              0.6666666666666666,
              "#ed7953"
             ],
             [
              0.7777777777777778,
              "#fb9f3a"
             ],
             [
              0.8888888888888888,
              "#fdca26"
             ],
             [
              1,
              "#f0f921"
             ]
            ],
            "type": "surface"
           }
          ],
          "table": [
           {
            "cells": {
             "fill": {
              "color": "#EBF0F8"
             },
             "line": {
              "color": "white"
             }
            },
            "header": {
             "fill": {
              "color": "#C8D4E3"
             },
             "line": {
              "color": "white"
             }
            },
            "type": "table"
           }
          ]
         },
         "layout": {
          "annotationdefaults": {
           "arrowcolor": "#2a3f5f",
           "arrowhead": 0,
           "arrowwidth": 1
          },
          "autotypenumbers": "strict",
          "coloraxis": {
           "colorbar": {
            "outlinewidth": 0,
            "ticks": ""
           }
          },
          "colorscale": {
           "diverging": [
            [
             0,
             "#8e0152"
            ],
            [
             0.1,
             "#c51b7d"
            ],
            [
             0.2,
             "#de77ae"
            ],
            [
             0.3,
             "#f1b6da"
            ],
            [
             0.4,
             "#fde0ef"
            ],
            [
             0.5,
             "#f7f7f7"
            ],
            [
             0.6,
             "#e6f5d0"
            ],
            [
             0.7,
             "#b8e186"
            ],
            [
             0.8,
             "#7fbc41"
            ],
            [
             0.9,
             "#4d9221"
            ],
            [
             1,
             "#276419"
            ]
           ],
           "sequential": [
            [
             0,
             "#0d0887"
            ],
            [
             0.1111111111111111,
             "#46039f"
            ],
            [
             0.2222222222222222,
             "#7201a8"
            ],
            [
             0.3333333333333333,
             "#9c179e"
            ],
            [
             0.4444444444444444,
             "#bd3786"
            ],
            [
             0.5555555555555556,
             "#d8576b"
            ],
            [
             0.6666666666666666,
             "#ed7953"
            ],
            [
             0.7777777777777778,
             "#fb9f3a"
            ],
            [
             0.8888888888888888,
             "#fdca26"
            ],
            [
             1,
             "#f0f921"
            ]
           ],
           "sequentialminus": [
            [
             0,
             "#0d0887"
            ],
            [
             0.1111111111111111,
             "#46039f"
            ],
            [
             0.2222222222222222,
             "#7201a8"
            ],
            [
             0.3333333333333333,
             "#9c179e"
            ],
            [
             0.4444444444444444,
             "#bd3786"
            ],
            [
             0.5555555555555556,
             "#d8576b"
            ],
            [
             0.6666666666666666,
             "#ed7953"
            ],
            [
             0.7777777777777778,
             "#fb9f3a"
            ],
            [
             0.8888888888888888,
             "#fdca26"
            ],
            [
             1,
             "#f0f921"
            ]
           ]
          },
          "colorway": [
           "#636efa",
           "#EF553B",
           "#00cc96",
           "#ab63fa",
           "#FFA15A",
           "#19d3f3",
           "#FF6692",
           "#B6E880",
           "#FF97FF",
           "#FECB52"
          ],
          "font": {
           "color": "#2a3f5f"
          },
          "geo": {
           "bgcolor": "white",
           "lakecolor": "white",
           "landcolor": "#E5ECF6",
           "showlakes": true,
           "showland": true,
           "subunitcolor": "white"
          },
          "hoverlabel": {
           "align": "left"
          },
          "hovermode": "closest",
          "mapbox": {
           "style": "light"
          },
          "paper_bgcolor": "white",
          "plot_bgcolor": "#E5ECF6",
          "polar": {
           "angularaxis": {
            "gridcolor": "white",
            "linecolor": "white",
            "ticks": ""
           },
           "bgcolor": "#E5ECF6",
           "radialaxis": {
            "gridcolor": "white",
            "linecolor": "white",
            "ticks": ""
           }
          },
          "scene": {
           "xaxis": {
            "backgroundcolor": "#E5ECF6",
            "gridcolor": "white",
            "gridwidth": 2,
            "linecolor": "white",
            "showbackground": true,
            "ticks": "",
            "zerolinecolor": "white"
           },
           "yaxis": {
            "backgroundcolor": "#E5ECF6",
            "gridcolor": "white",
            "gridwidth": 2,
            "linecolor": "white",
            "showbackground": true,
            "ticks": "",
            "zerolinecolor": "white"
           },
           "zaxis": {
            "backgroundcolor": "#E5ECF6",
            "gridcolor": "white",
            "gridwidth": 2,
            "linecolor": "white",
            "showbackground": true,
            "ticks": "",
            "zerolinecolor": "white"
           }
          },
          "shapedefaults": {
           "line": {
            "color": "#2a3f5f"
           }
          },
          "ternary": {
           "aaxis": {
            "gridcolor": "white",
            "linecolor": "white",
            "ticks": ""
           },
           "baxis": {
            "gridcolor": "white",
            "linecolor": "white",
            "ticks": ""
           },
           "bgcolor": "#E5ECF6",
           "caxis": {
            "gridcolor": "white",
            "linecolor": "white",
            "ticks": ""
           }
          },
          "title": {
           "x": 0.05
          },
          "xaxis": {
           "automargin": true,
           "gridcolor": "white",
           "linecolor": "white",
           "ticks": "",
           "title": {
            "standoff": 15
           },
           "zerolinecolor": "white",
           "zerolinewidth": 2
          },
          "yaxis": {
           "automargin": true,
           "gridcolor": "white",
           "linecolor": "white",
           "ticks": "",
           "title": {
            "standoff": 15
           },
           "zerolinecolor": "white",
           "zerolinewidth": 2
          }
         }
        },
        "title": {
         "text": "BTC-USD"
        },
        "xaxis": {
         "rangeslider": {
          "visible": false
         }
        },
        "yaxis": {
         "title": {
          "text": "Price"
         }
        }
       }
      },
      "text/html": [
       "<div>                            <div id=\"6a4c2609-5842-468b-9a8e-4c74dce0379a\" class=\"plotly-graph-div\" style=\"height:525px; width:100%;\"></div>            <script type=\"text/javascript\">                require([\"plotly\"], function(Plotly) {                    window.PLOTLYENV=window.PLOTLYENV || {};                                    if (document.getElementById(\"6a4c2609-5842-468b-9a8e-4c74dce0379a\")) {                    Plotly.newPlot(                        \"6a4c2609-5842-468b-9a8e-4c74dce0379a\",                        [{\"close\":[23314.19921875,22978.1171875,22846.5078125,22630.95703125,23289.314453125,22961.279296875,23175.890625,23809.486328125,23164.318359375,23947.642578125,23957.529296875,24402.818359375,24424.068359375,24319.333984375,24136.97265625,23883.291015625,23335.998046875,23212.73828125,20877.552734375,21166.060546875,21534.12109375,21398.908203125,21528.087890625,21395.01953125,21600.904296875,20260.01953125,20041.73828125,19616.814453125,20297.994140625,19796.80859375,20049.763671875,20127.140625,19969.771484375,19832.087890625,19986.712890625,19812.37109375,18837.66796875,19290.32421875,19329.833984375,21381.15234375,21680.5390625,21769.255859375,22370.44921875,20296.70703125,20241.08984375],\"high\":[23464.787109375,23415.041015625,23578.650390625,23198.009765625,23422.828125,23326.5625,23359.009765625,24203.689453125,23898.615234375,24127.4140625,24822.62890625,24412.56640625,24860.05078125,24974.9140625,25135.58984375,24228.416015625,24407.05859375,23563.83203125,23213.3125,21350.806640625,21668.845703125,21531.462890625,21646.203125,21783.076171875,21789.63671875,21804.908203125,20340.775390625,20139.0546875,20357.462890625,20542.64453125,20420.990234375,20198.390625,20401.568359375,20037.009765625,19999.689453125,20031.16015625,20155.26953125,19427.171875,19417.3515625,21439.41015625,21760.275390625,21770.552734375,22439.181640625,22673.8203125,20467.201171875],\"low\":[22890.796875,22710.083984375,22747.8359375,22485.701171875,22612.177734375,22961.279296875,22894.556640625,23176.546875,22982.0,22771.51953125,23900.99609375,23657.265625,24346.115234375,24206.259765625,23839.775390625,23733.5,23243.353515625,23177.6015625,20868.84765625,20856.73046875,21103.197265625,20939.18359375,20955.138671875,21195.005859375,21362.44140625,20199.482421875,19890.5234375,19616.814453125,19600.78515625,19617.640625,19799.58203125,19653.96875,19814.765625,19698.35546875,19636.81640625,19673.046875,18800.171875,18644.466796875,19076.71484375,19310.962890625,21168.72265625,21406.9453125,21603.896484375,20062.669921875,19793.396484375],\"open\":[23336.71875,23308.43359375,22981.302734375,22848.21484375,22626.833984375,23291.423828125,22963.505859375,23179.52734375,23811.484375,23162.8984375,23948.345703125,23957.203125,24402.1875,24429.056640625,24318.31640625,24126.13671875,23881.31640625,23341.0390625,23213.3125,20872.841796875,21160.392578125,21531.462890625,21401.044921875,21526.455078125,21395.458984375,21596.0859375,20262.48046875,20041.03515625,19615.154296875,20298.611328125,19799.58203125,20050.498046875,20126.072265625,19969.71875,19832.470703125,19988.7890625,19817.724609375,18837.68359375,19289.94140625,19328.140625,21376.912109375,21678.54296875,21770.1484375,22371.48046875,20184.5546875],\"x\":[\"2022-08-01T00:00:00\",\"2022-08-02T00:00:00\",\"2022-08-03T00:00:00\",\"2022-08-04T00:00:00\",\"2022-08-05T00:00:00\",\"2022-08-06T00:00:00\",\"2022-08-07T00:00:00\",\"2022-08-08T00:00:00\",\"2022-08-09T00:00:00\",\"2022-08-10T00:00:00\",\"2022-08-11T00:00:00\",\"2022-08-12T00:00:00\",\"2022-08-13T00:00:00\",\"2022-08-14T00:00:00\",\"2022-08-15T00:00:00\",\"2022-08-16T00:00:00\",\"2022-08-17T00:00:00\",\"2022-08-18T00:00:00\",\"2022-08-19T00:00:00\",\"2022-08-20T00:00:00\",\"2022-08-21T00:00:00\",\"2022-08-22T00:00:00\",\"2022-08-23T00:00:00\",\"2022-08-24T00:00:00\",\"2022-08-25T00:00:00\",\"2022-08-26T00:00:00\",\"2022-08-27T00:00:00\",\"2022-08-28T00:00:00\",\"2022-08-29T00:00:00\",\"2022-08-30T00:00:00\",\"2022-08-31T00:00:00\",\"2022-09-01T00:00:00\",\"2022-09-02T00:00:00\",\"2022-09-03T00:00:00\",\"2022-09-04T00:00:00\",\"2022-09-05T00:00:00\",\"2022-09-06T00:00:00\",\"2022-09-07T00:00:00\",\"2022-09-08T00:00:00\",\"2022-09-09T00:00:00\",\"2022-09-10T00:00:00\",\"2022-09-11T00:00:00\",\"2022-09-12T00:00:00\",\"2022-09-13T00:00:00\",\"2022-09-14T00:00:00\"],\"type\":\"candlestick\"}],                        {\"template\":{\"data\":{\"histogram2dcontour\":[{\"type\":\"histogram2dcontour\",\"colorbar\":{\"outlinewidth\":0,\"ticks\":\"\"},\"colorscale\":[[0.0,\"#0d0887\"],[0.1111111111111111,\"#46039f\"],[0.2222222222222222,\"#7201a8\"],[0.3333333333333333,\"#9c179e\"],[0.4444444444444444,\"#bd3786\"],[0.5555555555555556,\"#d8576b\"],[0.6666666666666666,\"#ed7953\"],[0.7777777777777778,\"#fb9f3a\"],[0.8888888888888888,\"#fdca26\"],[1.0,\"#f0f921\"]]}],\"choropleth\":[{\"type\":\"choropleth\",\"colorbar\":{\"outlinewidth\":0,\"ticks\":\"\"}}],\"histogram2d\":[{\"type\":\"histogram2d\",\"colorbar\":{\"outlinewidth\":0,\"ticks\":\"\"},\"colorscale\":[[0.0,\"#0d0887\"],[0.1111111111111111,\"#46039f\"],[0.2222222222222222,\"#7201a8\"],[0.3333333333333333,\"#9c179e\"],[0.4444444444444444,\"#bd3786\"],[0.5555555555555556,\"#d8576b\"],[0.6666666666666666,\"#ed7953\"],[0.7777777777777778,\"#fb9f3a\"],[0.8888888888888888,\"#fdca26\"],[1.0,\"#f0f921\"]]}],\"heatmap\":[{\"type\":\"heatmap\",\"colorbar\":{\"outlinewidth\":0,\"ticks\":\"\"},\"colorscale\":[[0.0,\"#0d0887\"],[0.1111111111111111,\"#46039f\"],[0.2222222222222222,\"#7201a8\"],[0.3333333333333333,\"#9c179e\"],[0.4444444444444444,\"#bd3786\"],[0.5555555555555556,\"#d8576b\"],[0.6666666666666666,\"#ed7953\"],[0.7777777777777778,\"#fb9f3a\"],[0.8888888888888888,\"#fdca26\"],[1.0,\"#f0f921\"]]}],\"heatmapgl\":[{\"type\":\"heatmapgl\",\"colorbar\":{\"outlinewidth\":0,\"ticks\":\"\"},\"colorscale\":[[0.0,\"#0d0887\"],[0.1111111111111111,\"#46039f\"],[0.2222222222222222,\"#7201a8\"],[0.3333333333333333,\"#9c179e\"],[0.4444444444444444,\"#bd3786\"],[0.5555555555555556,\"#d8576b\"],[0.6666666666666666,\"#ed7953\"],[0.7777777777777778,\"#fb9f3a\"],[0.8888888888888888,\"#fdca26\"],[1.0,\"#f0f921\"]]}],\"contourcarpet\":[{\"type\":\"contourcarpet\",\"colorbar\":{\"outlinewidth\":0,\"ticks\":\"\"}}],\"contour\":[{\"type\":\"contour\",\"colorbar\":{\"outlinewidth\":0,\"ticks\":\"\"},\"colorscale\":[[0.0,\"#0d0887\"],[0.1111111111111111,\"#46039f\"],[0.2222222222222222,\"#7201a8\"],[0.3333333333333333,\"#9c179e\"],[0.4444444444444444,\"#bd3786\"],[0.5555555555555556,\"#d8576b\"],[0.6666666666666666,\"#ed7953\"],[0.7777777777777778,\"#fb9f3a\"],[0.8888888888888888,\"#fdca26\"],[1.0,\"#f0f921\"]]}],\"surface\":[{\"type\":\"surface\",\"colorbar\":{\"outlinewidth\":0,\"ticks\":\"\"},\"colorscale\":[[0.0,\"#0d0887\"],[0.1111111111111111,\"#46039f\"],[0.2222222222222222,\"#7201a8\"],[0.3333333333333333,\"#9c179e\"],[0.4444444444444444,\"#bd3786\"],[0.5555555555555556,\"#d8576b\"],[0.6666666666666666,\"#ed7953\"],[0.7777777777777778,\"#fb9f3a\"],[0.8888888888888888,\"#fdca26\"],[1.0,\"#f0f921\"]]}],\"mesh3d\":[{\"type\":\"mesh3d\",\"colorbar\":{\"outlinewidth\":0,\"ticks\":\"\"}}],\"scatter\":[{\"fillpattern\":{\"fillmode\":\"overlay\",\"size\":10,\"solidity\":0.2},\"type\":\"scatter\"}],\"parcoords\":[{\"type\":\"parcoords\",\"line\":{\"colorbar\":{\"outlinewidth\":0,\"ticks\":\"\"}}}],\"scatterpolargl\":[{\"type\":\"scatterpolargl\",\"marker\":{\"colorbar\":{\"outlinewidth\":0,\"ticks\":\"\"}}}],\"bar\":[{\"error_x\":{\"color\":\"#2a3f5f\"},\"error_y\":{\"color\":\"#2a3f5f\"},\"marker\":{\"line\":{\"color\":\"#E5ECF6\",\"width\":0.5},\"pattern\":{\"fillmode\":\"overlay\",\"size\":10,\"solidity\":0.2}},\"type\":\"bar\"}],\"scattergeo\":[{\"type\":\"scattergeo\",\"marker\":{\"colorbar\":{\"outlinewidth\":0,\"ticks\":\"\"}}}],\"scatterpolar\":[{\"type\":\"scatterpolar\",\"marker\":{\"colorbar\":{\"outlinewidth\":0,\"ticks\":\"\"}}}],\"histogram\":[{\"marker\":{\"pattern\":{\"fillmode\":\"overlay\",\"size\":10,\"solidity\":0.2}},\"type\":\"histogram\"}],\"scattergl\":[{\"type\":\"scattergl\",\"marker\":{\"colorbar\":{\"outlinewidth\":0,\"ticks\":\"\"}}}],\"scatter3d\":[{\"type\":\"scatter3d\",\"line\":{\"colorbar\":{\"outlinewidth\":0,\"ticks\":\"\"}},\"marker\":{\"colorbar\":{\"outlinewidth\":0,\"ticks\":\"\"}}}],\"scattermapbox\":[{\"type\":\"scattermapbox\",\"marker\":{\"colorbar\":{\"outlinewidth\":0,\"ticks\":\"\"}}}],\"scatterternary\":[{\"type\":\"scatterternary\",\"marker\":{\"colorbar\":{\"outlinewidth\":0,\"ticks\":\"\"}}}],\"scattercarpet\":[{\"type\":\"scattercarpet\",\"marker\":{\"colorbar\":{\"outlinewidth\":0,\"ticks\":\"\"}}}],\"carpet\":[{\"aaxis\":{\"endlinecolor\":\"#2a3f5f\",\"gridcolor\":\"white\",\"linecolor\":\"white\",\"minorgridcolor\":\"white\",\"startlinecolor\":\"#2a3f5f\"},\"baxis\":{\"endlinecolor\":\"#2a3f5f\",\"gridcolor\":\"white\",\"linecolor\":\"white\",\"minorgridcolor\":\"white\",\"startlinecolor\":\"#2a3f5f\"},\"type\":\"carpet\"}],\"table\":[{\"cells\":{\"fill\":{\"color\":\"#EBF0F8\"},\"line\":{\"color\":\"white\"}},\"header\":{\"fill\":{\"color\":\"#C8D4E3\"},\"line\":{\"color\":\"white\"}},\"type\":\"table\"}],\"barpolar\":[{\"marker\":{\"line\":{\"color\":\"#E5ECF6\",\"width\":0.5},\"pattern\":{\"fillmode\":\"overlay\",\"size\":10,\"solidity\":0.2}},\"type\":\"barpolar\"}],\"pie\":[{\"automargin\":true,\"type\":\"pie\"}]},\"layout\":{\"autotypenumbers\":\"strict\",\"colorway\":[\"#636efa\",\"#EF553B\",\"#00cc96\",\"#ab63fa\",\"#FFA15A\",\"#19d3f3\",\"#FF6692\",\"#B6E880\",\"#FF97FF\",\"#FECB52\"],\"font\":{\"color\":\"#2a3f5f\"},\"hovermode\":\"closest\",\"hoverlabel\":{\"align\":\"left\"},\"paper_bgcolor\":\"white\",\"plot_bgcolor\":\"#E5ECF6\",\"polar\":{\"bgcolor\":\"#E5ECF6\",\"angularaxis\":{\"gridcolor\":\"white\",\"linecolor\":\"white\",\"ticks\":\"\"},\"radialaxis\":{\"gridcolor\":\"white\",\"linecolor\":\"white\",\"ticks\":\"\"}},\"ternary\":{\"bgcolor\":\"#E5ECF6\",\"aaxis\":{\"gridcolor\":\"white\",\"linecolor\":\"white\",\"ticks\":\"\"},\"baxis\":{\"gridcolor\":\"white\",\"linecolor\":\"white\",\"ticks\":\"\"},\"caxis\":{\"gridcolor\":\"white\",\"linecolor\":\"white\",\"ticks\":\"\"}},\"coloraxis\":{\"colorbar\":{\"outlinewidth\":0,\"ticks\":\"\"}},\"colorscale\":{\"sequential\":[[0.0,\"#0d0887\"],[0.1111111111111111,\"#46039f\"],[0.2222222222222222,\"#7201a8\"],[0.3333333333333333,\"#9c179e\"],[0.4444444444444444,\"#bd3786\"],[0.5555555555555556,\"#d8576b\"],[0.6666666666666666,\"#ed7953\"],[0.7777777777777778,\"#fb9f3a\"],[0.8888888888888888,\"#fdca26\"],[1.0,\"#f0f921\"]],\"sequentialminus\":[[0.0,\"#0d0887\"],[0.1111111111111111,\"#46039f\"],[0.2222222222222222,\"#7201a8\"],[0.3333333333333333,\"#9c179e\"],[0.4444444444444444,\"#bd3786\"],[0.5555555555555556,\"#d8576b\"],[0.6666666666666666,\"#ed7953\"],[0.7777777777777778,\"#fb9f3a\"],[0.8888888888888888,\"#fdca26\"],[1.0,\"#f0f921\"]],\"diverging\":[[0,\"#8e0152\"],[0.1,\"#c51b7d\"],[0.2,\"#de77ae\"],[0.3,\"#f1b6da\"],[0.4,\"#fde0ef\"],[0.5,\"#f7f7f7\"],[0.6,\"#e6f5d0\"],[0.7,\"#b8e186\"],[0.8,\"#7fbc41\"],[0.9,\"#4d9221\"],[1,\"#276419\"]]},\"xaxis\":{\"gridcolor\":\"white\",\"linecolor\":\"white\",\"ticks\":\"\",\"title\":{\"standoff\":15},\"zerolinecolor\":\"white\",\"automargin\":true,\"zerolinewidth\":2},\"yaxis\":{\"gridcolor\":\"white\",\"linecolor\":\"white\",\"ticks\":\"\",\"title\":{\"standoff\":15},\"zerolinecolor\":\"white\",\"automargin\":true,\"zerolinewidth\":2},\"scene\":{\"xaxis\":{\"backgroundcolor\":\"#E5ECF6\",\"gridcolor\":\"white\",\"linecolor\":\"white\",\"showbackground\":true,\"ticks\":\"\",\"zerolinecolor\":\"white\",\"gridwidth\":2},\"yaxis\":{\"backgroundcolor\":\"#E5ECF6\",\"gridcolor\":\"white\",\"linecolor\":\"white\",\"showbackground\":true,\"ticks\":\"\",\"zerolinecolor\":\"white\",\"gridwidth\":2},\"zaxis\":{\"backgroundcolor\":\"#E5ECF6\",\"gridcolor\":\"white\",\"linecolor\":\"white\",\"showbackground\":true,\"ticks\":\"\",\"zerolinecolor\":\"white\",\"gridwidth\":2}},\"shapedefaults\":{\"line\":{\"color\":\"#2a3f5f\"}},\"annotationdefaults\":{\"arrowcolor\":\"#2a3f5f\",\"arrowhead\":0,\"arrowwidth\":1},\"geo\":{\"bgcolor\":\"white\",\"landcolor\":\"#E5ECF6\",\"subunitcolor\":\"white\",\"showland\":true,\"showlakes\":true,\"lakecolor\":\"white\"},\"title\":{\"x\":0.05},\"mapbox\":{\"style\":\"light\"}}},\"xaxis\":{\"rangeslider\":{\"visible\":false}},\"title\":{\"text\":\"BTC-USD\"},\"yaxis\":{\"title\":{\"text\":\"Price\"}}},                        {\"responsive\": true}                    ).then(function(){\n",
       "                            \n",
       "var gd = document.getElementById('6a4c2609-5842-468b-9a8e-4c74dce0379a');\n",
       "var x = new MutationObserver(function (mutations, observer) {{\n",
       "        var display = window.getComputedStyle(gd).display;\n",
       "        if (!display || display === 'none') {{\n",
       "            console.log([gd, 'removed!']);\n",
       "            Plotly.purge(gd);\n",
       "            observer.disconnect();\n",
       "        }}\n",
       "}});\n",
       "\n",
       "// Listen for the removal of the full notebook cells\n",
       "var notebookContainer = gd.closest('#notebook-container');\n",
       "if (notebookContainer) {{\n",
       "    x.observe(notebookContainer, {childList: true});\n",
       "}}\n",
       "\n",
       "// Listen for the clearing of the current output cell\n",
       "var outputEl = gd.closest('.output');\n",
       "if (outputEl) {{\n",
       "    x.observe(outputEl, {childList: true});\n",
       "}}\n",
       "\n",
       "                        })                };                });            </script>        </div>"
      ]
     },
     "metadata": {},
     "output_type": "display_data"
    }
   ],
   "source": [
    "plot('BTC-USD','BTC', conn, '2022-08-01', '2022-09-14')"
   ]
  },
  {
   "cell_type": "code",
   "execution_count": 54,
   "metadata": {},
   "outputs": [
    {
     "ename": "NameError",
     "evalue": "name 'win32' is not defined",
     "output_type": "error",
     "traceback": [
      "\u001b[0;31m---------------------------------------------------------------------------\u001b[0m",
      "\u001b[0;31mNameError\u001b[0m                                 Traceback (most recent call last)",
      "Cell \u001b[0;32mIn [54], line 1\u001b[0m\n\u001b[0;32m----> 1\u001b[0m outlook \u001b[38;5;241m=\u001b[39m \u001b[43mwin32\u001b[49m\u001b[38;5;241m.\u001b[39mDispatch(\u001b[38;5;124m'\u001b[39m\u001b[38;5;124moutlook.application\u001b[39m\u001b[38;5;124m'\u001b[39m)\n\u001b[1;32m      2\u001b[0m mail \u001b[38;5;241m=\u001b[39m outlook\u001b[38;5;241m.\u001b[39mCreateItem(\u001b[38;5;241m0\u001b[39m)\n\u001b[1;32m      3\u001b[0m mail\u001b[38;5;241m.\u001b[39mTo \u001b[38;5;241m=\u001b[39m \u001b[38;5;124m'\u001b[39m\u001b[38;5;124mpaasxx@gmail.com\u001b[39m\u001b[38;5;124m'\u001b[39m\n",
      "\u001b[0;31mNameError\u001b[0m: name 'win32' is not defined"
     ]
    }
   ],
   "source": [
    "outlook = win32.Dispatch('outlook.application')\n",
    "mail = outlook.CreateItem(0)\n",
    "mail.To = 'paasxx@gmail.com'\n",
    "mail.Subject = 'Criptomoedas - Destaques'\n",
    "mail.Body = ''\n",
    "\n",
    "with open('test.html', 'r') as myfile:\n",
    "    data=myfile.read()\n",
    "mail.HTMLBody = \"Please Find the Report here \" + data\n",
    "\n",
    "\n",
    "# To attach a file to the email (optional):\n",
    "signatureimage = \"C:\\\\Users\\\\psilv\\\\Python\\\\test.html\"\n",
    "mail.Attachments.Add(signatureimage)\n",
    "\n",
    "# mail.HTMLBody = \"<html><body><img src=\"\"cid:test.html\"\"></body></html>\"\n",
    "\n",
    "\n",
    "# mail.Send()\n",
    "mail.Display()"
   ]
  }
 ],
 "metadata": {
  "kernelspec": {
   "display_name": "Python 3 (ipykernel)",
   "language": "python",
   "name": "python3"
  },
  "language_info": {
   "codemirror_mode": {
    "name": "ipython",
    "version": 3
   },
   "file_extension": ".py",
   "mimetype": "text/x-python",
   "name": "python",
   "nbconvert_exporter": "python",
   "pygments_lexer": "ipython3",
   "version": "3.10.7"
  }
 },
 "nbformat": 4,
 "nbformat_minor": 4
}
